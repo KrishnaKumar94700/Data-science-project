{
 "cells": [
  {
   "cell_type": "code",
   "execution_count": 1,
   "metadata": {},
   "outputs": [
    {
     "name": "stdout",
     "output_type": "stream",
     "text": [
      "product is 2280\n"
     ]
    }
   ],
   "source": [
    "lst=[2,3,4,5,19]\n",
    "product=1\n",
    "index=0\n",
    "while index<len(lst):\n",
    "    product*=lst[index]\n",
    "    index+=1\n",
    "print(\"product is {}\".format(product))"
   ]
  },
  {
   "cell_type": "code",
   "execution_count": 2,
   "metadata": {},
   "outputs": [
    {
     "name": "stdout",
     "output_type": "stream",
     "text": [
      "Number is positive\n"
     ]
    }
   ],
   "source": [
    "num=10\n",
    "if num>0:\n",
    "    print(\"Number is positive\")\n",
    "else:\n",
    "    print(\"Number id=s negative\")"
   ]
  },
  {
   "cell_type": "code",
   "execution_count": 3,
   "metadata": {},
   "outputs": [
    {
     "name": "stdout",
     "output_type": "stream",
     "text": [
      "Number is positive\n"
     ]
    }
   ],
   "source": [
    "num=8.3\n",
    "if num>0:\n",
    "    if num==0:\n",
    "        print(\"Number is Zero\")\n",
    "    else:\n",
    "        print(\"Number is positive\")\n",
    "else:\n",
    "    print(\"Number is negative\")\n",
    "    \n"
   ]
  },
  {
   "cell_type": "code",
   "execution_count": 11,
   "metadata": {},
   "outputs": [
    {
     "name": "stdout",
     "output_type": "stream",
     "text": [
      "Total sum is 55\n"
     ]
    }
   ],
   "source": [
    "num=[1,2,3,4,5,6,7,8,9,10]\n",
    "\n",
    "sum=1\n",
    "index=1\n",
    "while index<len(num):\n",
    "    sum+=num[index]\n",
    "    index+=1\n",
    "print(\"Total sum is {}\".format(sum))"
   ]
  },
  {
   "cell_type": "code",
   "execution_count": 24,
   "metadata": {},
   "outputs": [
    {
     "name": "stdout",
     "output_type": "stream",
     "text": [
      "Enter a number: 67\n",
      "67 is a prime number\n"
     ]
    }
   ],
   "source": [
    "num =int(input(\"Enter a number: \"))\n",
    "isDivisiable=False\n",
    "i=2\n",
    "while i<num:\n",
    "    if num%i==0:\n",
    "        isDivisiable=True\n",
    "        print(\"{} is divisible by {}\".format(num,i))\n",
    "    i+=1\n",
    "if isDivisiable:\n",
    "    print(\"{} is not a prime number \".format(num))\n",
    "else:\n",
    "    print(\"{} is a prime number\".format(num))"
   ]
  },
  {
   "cell_type": "code",
   "execution_count": 26,
   "metadata": {},
   "outputs": [
    {
     "name": "stdout",
     "output_type": "stream",
     "text": [
      "product is : 6\n"
     ]
    }
   ],
   "source": [
    "lst=[1,2,3]\n",
    "product=1\n",
    "for ele in lst:\n",
    "    product*=ele\n",
    "print(\"product is : {}\".format(product))"
   ]
  },
  {
   "cell_type": "code",
   "execution_count": 27,
   "metadata": {},
   "outputs": [
    {
     "name": "stdout",
     "output_type": "stream",
     "text": [
      "Total sum is : 55\n"
     ]
    }
   ],
   "source": [
    "lst=[1,2,3,4,5,6,7,8,9,10]\n",
    "sum=0\n",
    "for ele in lst:\n",
    "    sum+=ele\n",
    "print(\"Total sum is : {}\".format(sum))    \n"
   ]
  },
  {
   "cell_type": "code",
   "execution_count": 31,
   "metadata": {},
   "outputs": [
    {
     "name": "stdout",
     "output_type": "stream",
     "text": [
      "Enter a Number : 50\n",
      "Enter a Number : 100\n",
      "Total sum is : 150\n"
     ]
    }
   ],
   "source": [
    "lst1=int(input(\"Enter a Number : \"))\n",
    "lst2=int(input(\"Enter a Number : \"))\n",
    "lst=[lst1,lst2]\n",
    "sum=0\n",
    "for ele in lst:\n",
    "    sum+=ele\n",
    "print(\"Total sum is : {}\".format(sum))  "
   ]
  },
  {
   "cell_type": "code",
   "execution_count": 34,
   "metadata": {},
   "outputs": [
    {
     "name": "stdout",
     "output_type": "stream",
     "text": [
      "0\n",
      "2\n",
      "4\n",
      "6\n",
      "8\n"
     ]
    }
   ],
   "source": [
    "for i in range(0,10,2):\n",
    "    print(i)"
   ]
  },
  {
   "cell_type": "code",
   "execution_count": 35,
   "metadata": {},
   "outputs": [
    {
     "name": "stdout",
     "output_type": "stream",
     "text": [
      "krishna \n",
      "sonu\n",
      "manu\n",
      "Avinash\n",
      "Golu\n"
     ]
    }
   ],
   "source": [
    "lst=[\"krishna \",\"sonu\",\"manu\",\"Avinash\",\"Golu\"]\n",
    "for index in range(len(lst)):\n",
    "    print(lst[index])"
   ]
  },
  {
   "cell_type": "code",
   "execution_count": 36,
   "metadata": {},
   "outputs": [
    {
     "name": "stdout",
     "output_type": "stream",
     "text": [
      "krishna \n",
      "sonu\n",
      "manu\n",
      "Avinash\n",
      "Golu\n"
     ]
    }
   ],
   "source": [
    "lst=[\"krishna \",\"sonu\",\"manu\",\"Avinash\",\"Golu\"]\n",
    "for ele in lst:\n",
    "    print(ele)"
   ]
  },
  {
   "cell_type": "code",
   "execution_count": 39,
   "metadata": {},
   "outputs": [
    {
     "name": "stdout",
     "output_type": "stream",
     "text": [
      "krishna \n",
      "sonu\n",
      "manu\n",
      "Avinash\n",
      "Golu\n",
      "no item left in lst\n"
     ]
    }
   ],
   "source": [
    "lst=[\"krishna \",\"sonu\",\"manu\",\"Avinash\",\"Golu\"]\n",
    "for names in lst:\n",
    "    print(names)\n",
    "else:\n",
    "    print(\"no item left in lst\")"
   ]
  },
  {
   "cell_type": "code",
   "execution_count": 45,
   "metadata": {},
   "outputs": [
    {
     "name": "stdout",
     "output_type": "stream",
     "text": [
      "prime numbers between 1 and 30 are: \n",
      "2\n",
      "3\n",
      "5\n",
      "7\n",
      "11\n",
      "13\n",
      "17\n",
      "19\n",
      "23\n",
      "29\n"
     ]
    }
   ],
   "source": [
    "index1=1\n",
    "index2=30\n",
    "print(\"prime numbers between {} and {} are: \".format(index1,index2))\n",
    "for num in range(index1,index2+1):\n",
    "    if num>1:\n",
    "        isDivisiable=False\n",
    "        for index in range(2,num):\n",
    "            if num%index==0:\n",
    "                isDivisiable=True\n",
    "        if not isDivisiable:\n",
    "            print(num)\n",
    "        \n"
   ]
  },
  {
   "cell_type": "code",
   "execution_count": 48,
   "metadata": {},
   "outputs": [
    {
     "name": "stdout",
     "output_type": "stream",
     "text": [
      "1\n",
      "2\n",
      "OUTSIDE OF THE FOR LOOP\n"
     ]
    }
   ],
   "source": [
    "num=[1,2,3,4]\n",
    "for a in num:\n",
    "    if a==3:\n",
    "        break;\n",
    "    print(a)\n",
    "    \n",
    "else:\n",
    "    print(\"in the else -block \")\n",
    "print(\"OUTSIDE OF THE FOR LOOP\")"
   ]
  },
  {
   "cell_type": "code",
   "execution_count": 50,
   "metadata": {},
   "outputs": [
    {
     "name": "stdout",
     "output_type": "stream",
     "text": [
      "[1, 2, 3, 4, 5]\n"
     ]
    }
   ],
   "source": [
    "lst=[1,2,3,4]\n",
    "lst.append(5)\n",
    "print(lst)"
   ]
  },
  {
   "cell_type": "code",
   "execution_count": 51,
   "metadata": {},
   "outputs": [
    {
     "name": "stdout",
     "output_type": "stream",
     "text": [
      "[1, 0, 2, 3, 4, 5]\n"
     ]
    }
   ],
   "source": [
    "lst.insert(1,0)\n",
    "print(lst)"
   ]
  },
  {
   "cell_type": "code",
   "execution_count": 52,
   "metadata": {},
   "outputs": [],
   "source": [
    "lst.remove(0)"
   ]
  },
  {
   "cell_type": "code",
   "execution_count": 53,
   "metadata": {},
   "outputs": [
    {
     "data": {
      "text/plain": [
       "[1, 2, 3, 4, 5]"
      ]
     },
     "execution_count": 53,
     "metadata": {},
     "output_type": "execute_result"
    }
   ],
   "source": [
    "lst"
   ]
  },
  {
   "cell_type": "code",
   "execution_count": 55,
   "metadata": {},
   "outputs": [
    {
     "data": {
      "text/plain": [
       "[1, 2, 3, 4, [5, 6]]"
      ]
     },
     "execution_count": 55,
     "metadata": {},
     "output_type": "execute_result"
    }
   ],
   "source": [
    "lst=[1,2,3,4]\n",
    "lst1=[5,6]\n",
    "lst.append(lst1)\n",
    "lst"
   ]
  },
  {
   "cell_type": "code",
   "execution_count": 56,
   "metadata": {},
   "outputs": [
    {
     "data": {
      "text/plain": [
       "[1, 2, 3, 4, [5, 6], 5, 6]"
      ]
     },
     "execution_count": 56,
     "metadata": {},
     "output_type": "execute_result"
    }
   ],
   "source": [
    "lst.extend(lst1)\n",
    "lst"
   ]
  },
  {
   "cell_type": "code",
   "execution_count": 57,
   "metadata": {},
   "outputs": [],
   "source": [
    "lst.remove(lst1)"
   ]
  },
  {
   "cell_type": "code",
   "execution_count": 58,
   "metadata": {},
   "outputs": [
    {
     "data": {
      "text/plain": [
       "[1, 2, 3, 4, 5, 6]"
      ]
     },
     "execution_count": 58,
     "metadata": {},
     "output_type": "execute_result"
    }
   ],
   "source": [
    "lst"
   ]
  },
  {
   "cell_type": "code",
   "execution_count": 62,
   "metadata": {},
   "outputs": [],
   "source": [
    "del lst[1]\n"
   ]
  },
  {
   "cell_type": "code",
   "execution_count": 63,
   "metadata": {},
   "outputs": [
    {
     "data": {
      "text/plain": [
       "[1, 3, 4, 5, 6]"
      ]
     },
     "execution_count": 63,
     "metadata": {},
     "output_type": "execute_result"
    }
   ],
   "source": [
    "lst"
   ]
  },
  {
   "cell_type": "code",
   "execution_count": 65,
   "metadata": {},
   "outputs": [
    {
     "data": {
      "text/plain": [
       "3"
      ]
     },
     "execution_count": 65,
     "metadata": {},
     "output_type": "execute_result"
    }
   ],
   "source": [
    "lst.pop(1)"
   ]
  },
  {
   "cell_type": "code",
   "execution_count": 66,
   "metadata": {},
   "outputs": [
    {
     "data": {
      "text/plain": [
       "[1, 4, 5, 6]"
      ]
     },
     "execution_count": 66,
     "metadata": {},
     "output_type": "execute_result"
    }
   ],
   "source": [
    "lst"
   ]
  },
  {
   "cell_type": "code",
   "execution_count": 69,
   "metadata": {},
   "outputs": [
    {
     "ename": "ValueError",
     "evalue": "list.remove(x): x not in list",
     "output_type": "error",
     "traceback": [
      "\u001b[1;31m---------------------------------------------------------------------------\u001b[0m",
      "\u001b[1;31mValueError\u001b[0m                                Traceback (most recent call last)",
      "\u001b[1;32m<ipython-input-69-654d4b6cb201>\u001b[0m in \u001b[0;36m<module>\u001b[1;34m\u001b[0m\n\u001b[1;32m----> 1\u001b[1;33m \u001b[0mlst\u001b[0m\u001b[1;33m.\u001b[0m\u001b[0mremove\u001b[0m\u001b[1;33m(\u001b[0m\u001b[1;36m4\u001b[0m\u001b[1;33m)\u001b[0m\u001b[1;33m\u001b[0m\u001b[1;33m\u001b[0m\u001b[0m\n\u001b[0m",
      "\u001b[1;31mValueError\u001b[0m: list.remove(x): x not in list"
     ]
    }
   ],
   "source": [
    "lst.remove(4)"
   ]
  },
  {
   "cell_type": "code",
   "execution_count": 68,
   "metadata": {},
   "outputs": [
    {
     "data": {
      "text/plain": [
       "[1, 5, 6]"
      ]
     },
     "execution_count": 68,
     "metadata": {},
     "output_type": "execute_result"
    }
   ],
   "source": [
    "lst"
   ]
  },
  {
   "cell_type": "code",
   "execution_count": 70,
   "metadata": {},
   "outputs": [
    {
     "name": "stdout",
     "output_type": "stream",
     "text": [
      "[0, 1, 4, 9, 16, 25, 36, 49, 64, 81]\n"
     ]
    }
   ],
   "source": [
    "square=[i**2 for i in range (10)]\n",
    "print(square)"
   ]
  },
  {
   "cell_type": "code",
   "execution_count": 71,
   "metadata": {},
   "outputs": [
    {
     "name": "stdout",
     "output_type": "stream",
     "text": [
      "[-20, -40, 60, 46]\n"
     ]
    }
   ],
   "source": [
    "lst=[-10,-20,30,23]\n",
    "new_lst=[i*2 for i in lst]\n",
    "print(new_lst)"
   ]
  },
  {
   "cell_type": "code",
   "execution_count": 73,
   "metadata": {},
   "outputs": [
    {
     "name": "stdout",
     "output_type": "stream",
     "text": [
      "[90, 69]\n"
     ]
    }
   ],
   "source": [
    "new_lst=[i*3 for i in lst if i>=0]\n",
    "print(new_lst)"
   ]
  },
  {
   "cell_type": "code",
   "execution_count": 76,
   "metadata": {
    "scrolled": true
   },
   "outputs": [
    {
     "data": {
      "text/plain": [
       "[(1, 1),\n",
       " (2, 4),\n",
       " (3, 9),\n",
       " (4, 16),\n",
       " (5, 25),\n",
       " (6, 36),\n",
       " (7, 49),\n",
       " (8, 64),\n",
       " (9, 81),\n",
       " (10, 100),\n",
       " (11, 121),\n",
       " (12, 144),\n",
       " (13, 169),\n",
       " (14, 196),\n",
       " (15, 225),\n",
       " (16, 256),\n",
       " (17, 289),\n",
       " (18, 324),\n",
       " (19, 361),\n",
       " (20, 400),\n",
       " (21, 441),\n",
       " (22, 484),\n",
       " (23, 529),\n",
       " (24, 576),\n",
       " (25, 625),\n",
       " (26, 676),\n",
       " (27, 729),\n",
       " (28, 784),\n",
       " (29, 841),\n",
       " (30, 900),\n",
       " (31, 961),\n",
       " (32, 1024),\n",
       " (33, 1089),\n",
       " (34, 1156),\n",
       " (35, 1225),\n",
       " (36, 1296),\n",
       " (37, 1369),\n",
       " (38, 1444),\n",
       " (39, 1521),\n",
       " (40, 1600),\n",
       " (41, 1681),\n",
       " (42, 1764),\n",
       " (43, 1849),\n",
       " (44, 1936),\n",
       " (45, 2025),\n",
       " (46, 2116),\n",
       " (47, 2209),\n",
       " (48, 2304),\n",
       " (49, 2401),\n",
       " (50, 2500),\n",
       " (51, 2601),\n",
       " (52, 2704),\n",
       " (53, 2809),\n",
       " (54, 2916),\n",
       " (55, 3025),\n",
       " (56, 3136),\n",
       " (57, 3249),\n",
       " (58, 3364),\n",
       " (59, 3481),\n",
       " (60, 3600),\n",
       " (61, 3721),\n",
       " (62, 3844),\n",
       " (63, 3969),\n",
       " (64, 4096),\n",
       " (65, 4225),\n",
       " (66, 4356),\n",
       " (67, 4489),\n",
       " (68, 4624),\n",
       " (69, 4761),\n",
       " (70, 4900),\n",
       " (71, 5041),\n",
       " (72, 5184),\n",
       " (73, 5329),\n",
       " (74, 5476),\n",
       " (75, 5625),\n",
       " (76, 5776),\n",
       " (77, 5929),\n",
       " (78, 6084),\n",
       " (79, 6241),\n",
       " (80, 6400),\n",
       " (81, 6561),\n",
       " (82, 6724),\n",
       " (83, 6889),\n",
       " (84, 7056),\n",
       " (85, 7225),\n",
       " (86, 7396),\n",
       " (87, 7569),\n",
       " (88, 7744),\n",
       " (89, 7921),\n",
       " (90, 8100),\n",
       " (91, 8281),\n",
       " (92, 8464),\n",
       " (93, 8649),\n",
       " (94, 8836),\n",
       " (95, 9025),\n",
       " (96, 9216),\n",
       " (97, 9409),\n",
       " (98, 9604),\n",
       " (99, 9801),\n",
       " (100, 10000)]"
      ]
     },
     "execution_count": 76,
     "metadata": {},
     "output_type": "execute_result"
    }
   ],
   "source": [
    "new_lst=[(i,i**2) for i in range(1,101)]\n",
    "new_lst"
   ]
  },
  {
   "cell_type": "code",
   "execution_count": 77,
   "metadata": {
    "scrolled": true
   },
   "outputs": [
    {
     "data": {
      "text/plain": [
       "[(1, 1),\n",
       " (2, 8),\n",
       " (3, 27),\n",
       " (4, 64),\n",
       " (5, 125),\n",
       " (6, 216),\n",
       " (7, 343),\n",
       " (8, 512),\n",
       " (9, 729),\n",
       " (10, 1000),\n",
       " (11, 1331),\n",
       " (12, 1728),\n",
       " (13, 2197),\n",
       " (14, 2744),\n",
       " (15, 3375),\n",
       " (16, 4096),\n",
       " (17, 4913),\n",
       " (18, 5832),\n",
       " (19, 6859),\n",
       " (20, 8000),\n",
       " (21, 9261),\n",
       " (22, 10648),\n",
       " (23, 12167),\n",
       " (24, 13824),\n",
       " (25, 15625),\n",
       " (26, 17576),\n",
       " (27, 19683),\n",
       " (28, 21952),\n",
       " (29, 24389),\n",
       " (30, 27000),\n",
       " (31, 29791),\n",
       " (32, 32768),\n",
       " (33, 35937),\n",
       " (34, 39304),\n",
       " (35, 42875),\n",
       " (36, 46656),\n",
       " (37, 50653),\n",
       " (38, 54872),\n",
       " (39, 59319),\n",
       " (40, 64000),\n",
       " (41, 68921),\n",
       " (42, 74088),\n",
       " (43, 79507),\n",
       " (44, 85184),\n",
       " (45, 91125),\n",
       " (46, 97336),\n",
       " (47, 103823),\n",
       " (48, 110592),\n",
       " (49, 117649),\n",
       " (50, 125000),\n",
       " (51, 132651),\n",
       " (52, 140608),\n",
       " (53, 148877),\n",
       " (54, 157464),\n",
       " (55, 166375),\n",
       " (56, 175616),\n",
       " (57, 185193),\n",
       " (58, 195112),\n",
       " (59, 205379),\n",
       " (60, 216000),\n",
       " (61, 226981),\n",
       " (62, 238328),\n",
       " (63, 250047),\n",
       " (64, 262144),\n",
       " (65, 274625),\n",
       " (66, 287496),\n",
       " (67, 300763),\n",
       " (68, 314432),\n",
       " (69, 328509),\n",
       " (70, 343000),\n",
       " (71, 357911),\n",
       " (72, 373248),\n",
       " (73, 389017),\n",
       " (74, 405224),\n",
       " (75, 421875),\n",
       " (76, 438976),\n",
       " (77, 456533),\n",
       " (78, 474552),\n",
       " (79, 493039),\n",
       " (80, 512000),\n",
       " (81, 531441),\n",
       " (82, 551368),\n",
       " (83, 571787),\n",
       " (84, 592704),\n",
       " (85, 614125),\n",
       " (86, 636056),\n",
       " (87, 658503),\n",
       " (88, 681472),\n",
       " (89, 704969),\n",
       " (90, 729000),\n",
       " (91, 753571),\n",
       " (92, 778688),\n",
       " (93, 804357),\n",
       " (94, 830584),\n",
       " (95, 857375),\n",
       " (96, 884736),\n",
       " (97, 912673),\n",
       " (98, 941192),\n",
       " (99, 970299),\n",
       " (100, 1000000)]"
      ]
     },
     "execution_count": 77,
     "metadata": {},
     "output_type": "execute_result"
    }
   ],
   "source": [
    "new_lst=[(i,i**3) for i in range(1,101)]\n",
    "new_lst"
   ]
  },
  {
   "cell_type": "code",
   "execution_count": 78,
   "metadata": {
    "scrolled": true
   },
   "outputs": [
    {
     "data": {
      "text/plain": [
       "[(1, 1),\n",
       " (2, 1024),\n",
       " (3, 59049),\n",
       " (4, 1048576),\n",
       " (5, 9765625),\n",
       " (6, 60466176),\n",
       " (7, 282475249),\n",
       " (8, 1073741824),\n",
       " (9, 3486784401),\n",
       " (10, 10000000000),\n",
       " (11, 25937424601),\n",
       " (12, 61917364224),\n",
       " (13, 137858491849),\n",
       " (14, 289254654976),\n",
       " (15, 576650390625),\n",
       " (16, 1099511627776),\n",
       " (17, 2015993900449),\n",
       " (18, 3570467226624),\n",
       " (19, 6131066257801),\n",
       " (20, 10240000000000),\n",
       " (21, 16679880978201),\n",
       " (22, 26559922791424),\n",
       " (23, 41426511213649),\n",
       " (24, 63403380965376),\n",
       " (25, 95367431640625),\n",
       " (26, 141167095653376),\n",
       " (27, 205891132094649),\n",
       " (28, 296196766695424),\n",
       " (29, 420707233300201),\n",
       " (30, 590490000000000),\n",
       " (31, 819628286980801),\n",
       " (32, 1125899906842624),\n",
       " (33, 1531578985264449),\n",
       " (34, 2064377754059776),\n",
       " (35, 2758547353515625),\n",
       " (36, 3656158440062976),\n",
       " (37, 4808584372417849),\n",
       " (38, 6278211847988224),\n",
       " (39, 8140406085191601),\n",
       " (40, 10485760000000000),\n",
       " (41, 13422659310152401),\n",
       " (42, 17080198121677824),\n",
       " (43, 21611482313284249),\n",
       " (44, 27197360938418176),\n",
       " (45, 34050628916015625),\n",
       " (46, 42420747482776576),\n",
       " (47, 52599132235830049),\n",
       " (48, 64925062108545024),\n",
       " (49, 79792266297612001),\n",
       " (50, 97656250000000000),\n",
       " (51, 119042423827613001),\n",
       " (52, 144555105949057024),\n",
       " (53, 174887470365513049),\n",
       " (54, 210832519264920576),\n",
       " (55, 253295162119140625),\n",
       " (56, 303305489096114176),\n",
       " (57, 362033331456891249),\n",
       " (58, 430804206899405824),\n",
       " (59, 511116753300641401),\n",
       " (60, 604661760000000000),\n",
       " (61, 713342911662882601),\n",
       " (62, 839299365868340224),\n",
       " (63, 984930291881790849),\n",
       " (64, 1152921504606846976),\n",
       " (65, 1346274334462890625),\n",
       " (66, 1568336880910795776),\n",
       " (67, 1822837804551761449),\n",
       " (68, 2113922820157210624),\n",
       " (69, 2446194060654759801),\n",
       " (70, 2824752490000000000),\n",
       " (71, 3255243551009881201),\n",
       " (72, 3743906242624487424),\n",
       " (73, 4297625829703557649),\n",
       " (74, 4923990397355877376),\n",
       " (75, 5631351470947265625),\n",
       " (76, 6428888932339941376),\n",
       " (77, 7326680472586200649),\n",
       " (78, 8335775831236199424),\n",
       " (79, 9468276082626847201),\n",
       " (80, 10737418240000000000),\n",
       " (81, 12157665459056928801),\n",
       " (82, 13744803133596058624),\n",
       " (83, 15516041187205853449),\n",
       " (84, 17490122876598091776),\n",
       " (85, 19687440434072265625),\n",
       " (86, 22130157888803070976),\n",
       " (87, 24842341419143568849),\n",
       " (88, 27850097600940212224),\n",
       " (89, 31181719929966183601),\n",
       " (90, 34867844010000000000),\n",
       " (91, 38941611811810745401),\n",
       " (92, 43438845422363213824),\n",
       " (93, 48398230717929318249),\n",
       " (94, 53861511409489970176),\n",
       " (95, 59873693923837890625),\n",
       " (96, 66483263599150104576),\n",
       " (97, 73742412689492826049),\n",
       " (98, 81707280688754689024),\n",
       " (99, 90438207500880449001),\n",
       " (100, 100000000000000000000)]"
      ]
     },
     "execution_count": 78,
     "metadata": {},
     "output_type": "execute_result"
    }
   ],
   "source": [
    "new_lst=[(i,i**10) for i in range(1,101)]\n",
    "new_lst"
   ]
  },
  {
   "cell_type": "code",
   "execution_count": 81,
   "metadata": {},
   "outputs": [
    {
     "name": "stdout",
     "output_type": "stream",
     "text": [
      "[0, 1, 4, 9, 16, 25, 36, 49, 64, 81]\n"
     ]
    }
   ],
   "source": [
    "square=[]\n",
    "for i in range(10):\n",
    "    square.append(i**2)\n",
    "print(square)"
   ]
  },
  {
   "cell_type": "code",
   "execution_count": 88,
   "metadata": {},
   "outputs": [],
   "source": [
    "matrix=[[1,2,3,4],\n",
    "       [2,3,4,5],\n",
    "       [3,4,5,6]]\n"
   ]
  },
  {
   "cell_type": "code",
   "execution_count": 85,
   "metadata": {},
   "outputs": [
    {
     "ename": "AttributeError",
     "evalue": "'list' object has no attribute 'transpose'",
     "output_type": "error",
     "traceback": [
      "\u001b[1;31m---------------------------------------------------------------------------\u001b[0m",
      "\u001b[1;31mAttributeError\u001b[0m                            Traceback (most recent call last)",
      "\u001b[1;32m<ipython-input-85-389e4e3e4296>\u001b[0m in \u001b[0;36m<module>\u001b[1;34m\u001b[0m\n\u001b[1;32m----> 1\u001b[1;33m \u001b[0mmatrix\u001b[0m\u001b[1;33m.\u001b[0m\u001b[0mtranspose\u001b[0m\u001b[1;33m(\u001b[0m\u001b[1;33m)\u001b[0m\u001b[1;33m\u001b[0m\u001b[1;33m\u001b[0m\u001b[0m\n\u001b[0m",
      "\u001b[1;31mAttributeError\u001b[0m: 'list' object has no attribute 'transpose'"
     ]
    }
   ],
   "source": [
    "matrix.transpose()"
   ]
  },
  {
   "cell_type": "code",
   "execution_count": 94,
   "metadata": {},
   "outputs": [
    {
     "name": "stdout",
     "output_type": "stream",
     "text": [
      "[[1, 5, 9], [2, 6, 10], [3, 7, 11], [4, 8, 12]]\n"
     ]
    }
   ],
   "source": [
    "matrix=[[1,2,3,4],\n",
    "       [5,6,7,8],\n",
    "       [9,10,11,12]]\n",
    "transposed=[[row[i] for row in matrix] for i in range(4)]\n",
    "print(transposed)"
   ]
  },
  {
   "cell_type": "code",
   "execution_count": 95,
   "metadata": {},
   "outputs": [
    {
     "ename": "NameError",
     "evalue": "name 'r' is not defined",
     "output_type": "error",
     "traceback": [
      "\u001b[1;31m---------------------------------------------------------------------------\u001b[0m",
      "\u001b[1;31mNameError\u001b[0m                                 Traceback (most recent call last)",
      "\u001b[1;32m<ipython-input-95-12bc3a3e4bcf>\u001b[0m in \u001b[0;36m<module>\u001b[1;34m\u001b[0m\n\u001b[1;32m----> 1\u001b[1;33m \u001b[1;33m[\u001b[0m\u001b[1;33m[\u001b[0m\u001b[0mrow\u001b[0m\u001b[1;33m[\u001b[0m\u001b[0mi\u001b[0m\u001b[1;33m]\u001b[0m \u001b[1;32mfor\u001b[0m \u001b[0mrow\u001b[0m \u001b[1;32min\u001b[0m \u001b[0mmatrix\u001b[0m\u001b[1;33m]\u001b[0m \u001b[1;32mfor\u001b[0m \u001b[0mi\u001b[0m \u001b[1;32min\u001b[0m \u001b[0mrange\u001b[0m\u001b[1;33m(\u001b[0m\u001b[0mlen\u001b[0m\u001b[1;33m(\u001b[0m\u001b[0mr\u001b[0m\u001b[1;33m)\u001b[0m\u001b[1;33m)\u001b[0m \u001b[1;32mfor\u001b[0m \u001b[0mr\u001b[0m \u001b[1;32min\u001b[0m \u001b[0mmatrix\u001b[0m\u001b[1;33m]\u001b[0m\u001b[1;33m\u001b[0m\u001b[1;33m\u001b[0m\u001b[0m\n\u001b[0m",
      "\u001b[1;31mNameError\u001b[0m: name 'r' is not defined"
     ]
    }
   ],
   "source": [
    "[[row[i] for row in matrix] for i in range(len(r)) for r in matrix]"
   ]
  },
  {
   "cell_type": "code",
   "execution_count": 100,
   "metadata": {},
   "outputs": [
    {
     "ename": "TypeError",
     "evalue": "'str' object does not support item assignment",
     "output_type": "error",
     "traceback": [
      "\u001b[1;31m---------------------------------------------------------------------------\u001b[0m",
      "\u001b[1;31mTypeError\u001b[0m                                 Traceback (most recent call last)",
      "\u001b[1;32m<ipython-input-100-2f5356623dbd>\u001b[0m in \u001b[0;36m<module>\u001b[1;34m\u001b[0m\n\u001b[0;32m      1\u001b[0m \u001b[0ma\u001b[0m\u001b[1;33m=\u001b[0m\u001b[1;34m'krishna'\u001b[0m\u001b[1;33m\u001b[0m\u001b[1;33m\u001b[0m\u001b[0m\n\u001b[1;32m----> 2\u001b[1;33m \u001b[0ma\u001b[0m\u001b[1;33m[\u001b[0m\u001b[1;36m1\u001b[0m\u001b[1;33m]\u001b[0m\u001b[1;33m=\u001b[0m\u001b[1;34m'd'\u001b[0m\u001b[1;33m\u001b[0m\u001b[1;33m\u001b[0m\u001b[0m\n\u001b[0m",
      "\u001b[1;31mTypeError\u001b[0m: 'str' object does not support item assignment"
     ]
    }
   ],
   "source": [
    "a='krishna'\n",
    "a[1]='d'"
   ]
  },
  {
   "cell_type": "code",
   "execution_count": 108,
   "metadata": {},
   "outputs": [
    {
     "name": "stdout",
     "output_type": "stream",
     "text": [
      "2 letters found\n"
     ]
    }
   ],
   "source": [
    "count=0\n",
    "for l in 'hello world':\n",
    "    if l==\"o\":\n",
    "        count+=1\n",
    "print(count,'letters found')\n"
   ]
  },
  {
   "cell_type": "code",
   "execution_count": 109,
   "metadata": {},
   "outputs": [
    {
     "name": "stdout",
     "output_type": "stream",
     "text": [
      "True\n"
     ]
    }
   ],
   "source": [
    "print(\"l\" in 'hello world')"
   ]
  },
  {
   "cell_type": "code",
   "execution_count": 110,
   "metadata": {},
   "outputs": [
    {
     "name": "stdout",
     "output_type": "stream",
     "text": [
      "2 letter found\n"
     ]
    }
   ],
   "source": [
    "count=0\n",
    "for k in \"krishna kumar \":\n",
    "    if k==\"a\":\n",
    "        count+=1\n",
    "print(count,\"letter found\")\n"
   ]
  },
  {
   "cell_type": "code",
   "execution_count": 111,
   "metadata": {},
   "outputs": [
    {
     "data": {
      "text/plain": [
       "'KRISHNA KUMAR'"
      ]
     },
     "execution_count": 111,
     "metadata": {},
     "output_type": "execute_result"
    }
   ],
   "source": [
    "'krishna kumar'.upper()"
   ]
  },
  {
   "cell_type": "code",
   "execution_count": 112,
   "metadata": {},
   "outputs": [
    {
     "data": {
      "text/plain": [
       "'krishna kumar'"
      ]
     },
     "execution_count": 112,
     "metadata": {},
     "output_type": "execute_result"
    }
   ],
   "source": [
    "'KRISHNA KUMAR'.lower()"
   ]
  },
  {
   "cell_type": "code",
   "execution_count": 113,
   "metadata": {},
   "outputs": [
    {
     "data": {
      "text/plain": [
       "['This', 'will', 'split', 'all', 'word', 'in', 'the', 'list']"
      ]
     },
     "execution_count": 113,
     "metadata": {},
     "output_type": "execute_result"
    }
   ],
   "source": [
    "'This will split all word in the list'.split()"
   ]
  },
  {
   "cell_type": "code",
   "execution_count": 115,
   "metadata": {},
   "outputs": [
    {
     "data": {
      "text/plain": [
       "['krishna']"
      ]
     },
     "execution_count": 115,
     "metadata": {},
     "output_type": "execute_result"
    }
   ],
   "source": [
    "'krishna'.split()"
   ]
  },
  {
   "cell_type": "code",
   "execution_count": 116,
   "metadata": {},
   "outputs": [
    {
     "data": {
      "text/plain": [
       "'Good morning'"
      ]
     },
     "execution_count": 116,
     "metadata": {},
     "output_type": "execute_result"
    }
   ],
   "source": [
    "'Bad morning'.replace(\"Bad\",\"Good\")"
   ]
  },
  {
   "cell_type": "code",
   "execution_count": 128,
   "metadata": {},
   "outputs": [],
   "source": [
    "a=\"madam\"\n",
    "b=reversed(a)"
   ]
  },
  {
   "cell_type": "code",
   "execution_count": 129,
   "metadata": {},
   "outputs": [
    {
     "name": "stdout",
     "output_type": "stream",
     "text": [
      "Given string is palindrome\n"
     ]
    }
   ],
   "source": [
    "if list(a)==list(b):\n",
    "    print(\"Given string is palindrome\")\n",
    "else:\n",
    "    print(\"Given string is not palindrom\")"
   ]
  },
  {
   "cell_type": "code",
   "execution_count": 132,
   "metadata": {},
   "outputs": [],
   "source": [
    "def print_name(name):\n",
    "    '''\n",
    "    This will print name \n",
    "    '''\n",
    "    print(\"Hello\"+\" \"+str(name))"
   ]
  },
  {
   "cell_type": "code",
   "execution_count": 118,
   "metadata": {},
   "outputs": [
    {
     "name": "stdout",
     "output_type": "stream",
     "text": [
      "Bad morning\n",
      "Good morning\n"
     ]
    }
   ],
   "source": [
    "s1=\"Bad morning\"\n",
    "s2=s1.replace('Bad',\"Good\")\n",
    "print(s1)\n",
    "print(s2)"
   ]
  },
  {
   "cell_type": "code",
   "execution_count": 133,
   "metadata": {},
   "outputs": [
    {
     "name": "stdout",
     "output_type": "stream",
     "text": [
      "Hello krishna kumar\n"
     ]
    }
   ],
   "source": [
    "print_name(\"krishna kumar\")"
   ]
  },
  {
   "cell_type": "code",
   "execution_count": 135,
   "metadata": {},
   "outputs": [
    {
     "name": "stdout",
     "output_type": "stream",
     "text": [
      "Hello manish\n"
     ]
    }
   ],
   "source": [
    "print_name(\"manish\")"
   ]
  },
  {
   "cell_type": "code",
   "execution_count": 136,
   "metadata": {},
   "outputs": [
    {
     "name": "stdout",
     "output_type": "stream",
     "text": [
      "\n",
      "    This will print name \n",
      "    \n"
     ]
    }
   ],
   "source": [
    "print(print_name.__doc__)"
   ]
  },
  {
   "cell_type": "code",
   "execution_count": 143,
   "metadata": {},
   "outputs": [],
   "source": [
    "def get_sum(lst):\n",
    "    '''\n",
    "    This will return sum of all element in a list\n",
    "    '''\n",
    "    _sum=0\n",
    "    for num in lst:\n",
    "        _sum+=num\n",
    "    return _sum\n"
   ]
  },
  {
   "cell_type": "code",
   "execution_count": 144,
   "metadata": {},
   "outputs": [
    {
     "data": {
      "text/plain": [
       "15"
      ]
     },
     "execution_count": 144,
     "metadata": {},
     "output_type": "execute_result"
    }
   ],
   "source": [
    "get_sum([1,2,3,4,5]) "
   ]
  },
  {
   "cell_type": "code",
   "execution_count": 147,
   "metadata": {},
   "outputs": [],
   "source": [
    "def get_multiple(lst):\n",
    "    \"\"\"\n",
    "    This will return multiplication of number in list\n",
    "    \"\"\"\n",
    "    _multiple=1\n",
    "    for num in lst:\n",
    "        _multiple*=num\n",
    "    return _multiple"
   ]
  },
  {
   "cell_type": "code",
   "execution_count": 148,
   "metadata": {},
   "outputs": [
    {
     "data": {
      "text/plain": [
       "24"
      ]
     },
     "execution_count": 148,
     "metadata": {},
     "output_type": "execute_result"
    }
   ],
   "source": [
    "get_multiple([1,2,3,4])"
   ]
  },
  {
   "cell_type": "code",
   "execution_count": 149,
   "metadata": {},
   "outputs": [
    {
     "data": {
      "text/plain": [
       "400"
      ]
     },
     "execution_count": 149,
     "metadata": {},
     "output_type": "execute_result"
    }
   ],
   "source": [
    "get_multiple([20,20])"
   ]
  },
  {
   "cell_type": "code",
   "execution_count": 150,
   "metadata": {},
   "outputs": [
    {
     "data": {
      "text/plain": [
       "55"
      ]
     },
     "execution_count": 150,
     "metadata": {},
     "output_type": "execute_result"
    }
   ],
   "source": [
    "get_sum([1,2,3,4,5,6,7,8,9,10])"
   ]
  },
  {
   "cell_type": "code",
   "execution_count": 156,
   "metadata": {},
   "outputs": [],
   "source": [
    "global_var='This is global variable'\n",
    "def test_life_time():\n",
    "    \"\"\"\n",
    "    This will return test the life time of a variable \n",
    "    \"\"\"\n",
    "    local_var=\"This is local variable\"\n",
    "    print(local_var)\n",
    "    print(global_var)\n",
    "    "
   ]
  },
  {
   "cell_type": "code",
   "execution_count": 152,
   "metadata": {},
   "outputs": [
    {
     "name": "stdout",
     "output_type": "stream",
     "text": [
      "This is local variable\n",
      "This is global variable\n"
     ]
    }
   ],
   "source": [
    "test_life_time()"
   ]
  },
  {
   "cell_type": "code",
   "execution_count": 153,
   "metadata": {},
   "outputs": [
    {
     "name": "stdout",
     "output_type": "stream",
     "text": [
      "This is global variable\n"
     ]
    }
   ],
   "source": [
    "print(global_var)"
   ]
  },
  {
   "cell_type": "code",
   "execution_count": 154,
   "metadata": {},
   "outputs": [
    {
     "ename": "NameError",
     "evalue": "name 'local_var' is not defined",
     "output_type": "error",
     "traceback": [
      "\u001b[1;31m---------------------------------------------------------------------------\u001b[0m",
      "\u001b[1;31mNameError\u001b[0m                                 Traceback (most recent call last)",
      "\u001b[1;32m<ipython-input-154-3bfff76e6cd3>\u001b[0m in \u001b[0;36m<module>\u001b[1;34m\u001b[0m\n\u001b[1;32m----> 1\u001b[1;33m \u001b[0mprint\u001b[0m\u001b[1;33m(\u001b[0m\u001b[0mlocal_var\u001b[0m\u001b[1;33m)\u001b[0m\u001b[1;33m\u001b[0m\u001b[1;33m\u001b[0m\u001b[0m\n\u001b[0m",
      "\u001b[1;31mNameError\u001b[0m: name 'local_var' is not defined"
     ]
    }
   ],
   "source": [
    "print(local_var)"
   ]
  },
  {
   "cell_type": "code",
   "execution_count": 157,
   "metadata": {},
   "outputs": [
    {
     "ename": "NameError",
     "evalue": "name 'local_var' is not defined",
     "output_type": "error",
     "traceback": [
      "\u001b[1;31m---------------------------------------------------------------------------\u001b[0m",
      "\u001b[1;31mNameError\u001b[0m                                 Traceback (most recent call last)",
      "\u001b[1;32m<ipython-input-157-250c6f9c626b>\u001b[0m in \u001b[0;36m<module>\u001b[1;34m\u001b[0m\n\u001b[1;32m----> 1\u001b[1;33m \u001b[0mprint\u001b[0m\u001b[1;33m(\u001b[0m\u001b[0mlocal_var\u001b[0m\u001b[1;33m)\u001b[0m\u001b[1;33m\u001b[0m\u001b[1;33m\u001b[0m\u001b[0m\n\u001b[0m\u001b[0;32m      2\u001b[0m \u001b[0mprint\u001b[0m\u001b[1;33m(\u001b[0m\u001b[0mglobal_var\u001b[0m\u001b[1;33m)\u001b[0m\u001b[1;33m\u001b[0m\u001b[1;33m\u001b[0m\u001b[0m\n",
      "\u001b[1;31mNameError\u001b[0m: name 'local_var' is not defined"
     ]
    }
   ],
   "source": [
    "print(local_var)\n",
    "print(global_var)"
   ]
  },
  {
   "cell_type": "code",
   "execution_count": 159,
   "metadata": {},
   "outputs": [
    {
     "name": "stdout",
     "output_type": "stream",
     "text": [
      "This is local variable\n",
      "This is global variable\n"
     ]
    }
   ],
   "source": [
    "test_life_time()"
   ]
  },
  {
   "cell_type": "code",
   "execution_count": 160,
   "metadata": {},
   "outputs": [
    {
     "name": "stdout",
     "output_type": "stream",
     "text": [
      "This is global variable\n"
     ]
    }
   ],
   "source": [
    "print(global_var)"
   ]
  },
  {
   "cell_type": "markdown",
   "metadata": {},
   "source": [
    "Python program to print HCF of two number"
   ]
  },
  {
   "cell_type": "code",
   "execution_count": 170,
   "metadata": {},
   "outputs": [],
   "source": [
    "def computeHCF(a,b):\n",
    "    \"\"\"\n",
    "    Computing HCF of two number\n",
    "    \"\"\"\n",
    "    smaller= b if a>b else a\n",
    "    hcf=1\n",
    "    for i in range(1,smaller+1):\n",
    "        if (a%i==0) and (b%i==0):\n",
    "            hcf=i\n",
    "    return hcf\n"
   ]
  },
  {
   "cell_type": "code",
   "execution_count": 169,
   "metadata": {},
   "outputs": [
    {
     "name": "stdout",
     "output_type": "stream",
     "text": [
      "Enter 1st num: 98\n",
      "Enter 2nd num: 78\n"
     ]
    },
    {
     "ename": "NameError",
     "evalue": "name 'smaller' is not defined",
     "output_type": "error",
     "traceback": [
      "\u001b[1;31m---------------------------------------------------------------------------\u001b[0m",
      "\u001b[1;31mNameError\u001b[0m                                 Traceback (most recent call last)",
      "\u001b[1;32m<ipython-input-169-58072b9ea227>\u001b[0m in \u001b[0;36m<module>\u001b[1;34m\u001b[0m\n\u001b[0;32m      1\u001b[0m \u001b[0mnum1\u001b[0m\u001b[1;33m=\u001b[0m\u001b[0mint\u001b[0m\u001b[1;33m(\u001b[0m\u001b[0minput\u001b[0m\u001b[1;33m(\u001b[0m\u001b[1;34m\"Enter 1st num: \"\u001b[0m\u001b[1;33m)\u001b[0m\u001b[1;33m)\u001b[0m\u001b[1;33m\u001b[0m\u001b[1;33m\u001b[0m\u001b[0m\n\u001b[0;32m      2\u001b[0m \u001b[0mnum2\u001b[0m\u001b[1;33m=\u001b[0m\u001b[0mint\u001b[0m\u001b[1;33m(\u001b[0m\u001b[0minput\u001b[0m\u001b[1;33m(\u001b[0m\u001b[1;34m\"Enter 2nd num: \"\u001b[0m\u001b[1;33m)\u001b[0m\u001b[1;33m)\u001b[0m\u001b[1;33m\u001b[0m\u001b[1;33m\u001b[0m\u001b[0m\n\u001b[1;32m----> 3\u001b[1;33m \u001b[0mprint\u001b[0m\u001b[1;33m(\u001b[0m\u001b[1;34m\"HCF of {} and {} is :{}\"\u001b[0m\u001b[1;33m.\u001b[0m\u001b[0mformat\u001b[0m\u001b[1;33m(\u001b[0m\u001b[0mnum1\u001b[0m\u001b[1;33m,\u001b[0m\u001b[0mnum2\u001b[0m\u001b[1;33m,\u001b[0m\u001b[0mcomputeHCF\u001b[0m\u001b[1;33m(\u001b[0m\u001b[0mnum1\u001b[0m\u001b[1;33m,\u001b[0m\u001b[0mnum2\u001b[0m\u001b[1;33m)\u001b[0m\u001b[1;33m)\u001b[0m\u001b[1;33m)\u001b[0m\u001b[1;33m\u001b[0m\u001b[1;33m\u001b[0m\u001b[0m\n\u001b[0m",
      "\u001b[1;32m<ipython-input-168-e5122f060920>\u001b[0m in \u001b[0;36mcomputeHCF\u001b[1;34m(a, b)\u001b[0m\n\u001b[0;32m      5\u001b[0m \u001b[1;31m#     smaller= b if a>b else a\u001b[0m\u001b[1;33m\u001b[0m\u001b[1;33m\u001b[0m\u001b[1;33m\u001b[0m\u001b[0m\n\u001b[0;32m      6\u001b[0m     \u001b[0mhcf\u001b[0m\u001b[1;33m=\u001b[0m\u001b[1;36m1\u001b[0m\u001b[1;33m\u001b[0m\u001b[1;33m\u001b[0m\u001b[0m\n\u001b[1;32m----> 7\u001b[1;33m     \u001b[1;32mfor\u001b[0m \u001b[0mi\u001b[0m \u001b[1;32min\u001b[0m \u001b[0mrange\u001b[0m\u001b[1;33m(\u001b[0m\u001b[1;36m1\u001b[0m\u001b[1;33m,\u001b[0m\u001b[0msmaller\u001b[0m\u001b[1;33m+\u001b[0m\u001b[1;36m1\u001b[0m\u001b[1;33m)\u001b[0m\u001b[1;33m:\u001b[0m\u001b[1;33m\u001b[0m\u001b[1;33m\u001b[0m\u001b[0m\n\u001b[0m\u001b[0;32m      8\u001b[0m         \u001b[1;32mif\u001b[0m \u001b[1;33m(\u001b[0m\u001b[0ma\u001b[0m\u001b[1;33m%\u001b[0m\u001b[0mi\u001b[0m\u001b[1;33m==\u001b[0m\u001b[1;36m0\u001b[0m\u001b[1;33m)\u001b[0m \u001b[1;32mand\u001b[0m \u001b[1;33m(\u001b[0m\u001b[0mb\u001b[0m\u001b[1;33m%\u001b[0m\u001b[0mi\u001b[0m\u001b[1;33m==\u001b[0m\u001b[1;36m0\u001b[0m\u001b[1;33m)\u001b[0m\u001b[1;33m:\u001b[0m\u001b[1;33m\u001b[0m\u001b[1;33m\u001b[0m\u001b[0m\n\u001b[0;32m      9\u001b[0m             \u001b[0mhcf\u001b[0m\u001b[1;33m=\u001b[0m\u001b[0mi\u001b[0m\u001b[1;33m\u001b[0m\u001b[1;33m\u001b[0m\u001b[0m\n",
      "\u001b[1;31mNameError\u001b[0m: name 'smaller' is not defined"
     ]
    }
   ],
   "source": [
    "num1=int(input(\"Enter 1st num: \"))\n",
    "num2=int(input(\"Enter 2nd num: \"))\n",
    "print(\"HCF of {} and {} is :{}\".format(num1,num2,computeHCF(num1,num2)))"
   ]
  },
  {
   "cell_type": "code",
   "execution_count": 171,
   "metadata": {},
   "outputs": [
    {
     "name": "stdout",
     "output_type": "stream",
     "text": [
      "Enter 1st num: 34\n",
      "Enter 2nd num: 56\n",
      "HCF of 34 and 56 is :2\n"
     ]
    }
   ],
   "source": [
    "num1=int(input(\"Enter 1st num: \"))\n",
    "num2=int(input(\"Enter 2nd num: \"))\n",
    "print(\"HCF of {} and {} is :{}\".format(num1,num2,computeHCF(num1,num2)))"
   ]
  },
  {
   "cell_type": "code",
   "execution_count": 172,
   "metadata": {},
   "outputs": [
    {
     "data": {
      "text/plain": [
       "200"
      ]
     },
     "execution_count": 172,
     "metadata": {},
     "output_type": "execute_result"
    }
   ],
   "source": [
    "num=-200\n",
    "abs(num)"
   ]
  },
  {
   "cell_type": "code",
   "execution_count": 173,
   "metadata": {},
   "outputs": [
    {
     "data": {
      "text/plain": [
       "True"
      ]
     },
     "execution_count": 173,
     "metadata": {},
     "output_type": "execute_result"
    }
   ],
   "source": [
    "lst=[1,2,3,3]\n",
    "all(lst)"
   ]
  },
  {
   "cell_type": "code",
   "execution_count": 174,
   "metadata": {},
   "outputs": [
    {
     "data": {
      "text/plain": [
       "False"
      ]
     },
     "execution_count": 174,
     "metadata": {},
     "output_type": "execute_result"
    }
   ],
   "source": [
    "lst=[0,1,2,3]\n",
    "all(lst)"
   ]
  },
  {
   "cell_type": "code",
   "execution_count": 176,
   "metadata": {},
   "outputs": [
    {
     "data": {
      "text/plain": [
       "False"
      ]
     },
     "execution_count": 176,
     "metadata": {},
     "output_type": "execute_result"
    }
   ],
   "source": [
    "lst=[False,2,4]\n",
    "all(lst)"
   ]
  },
  {
   "cell_type": "code",
   "execution_count": 177,
   "metadata": {},
   "outputs": [
    {
     "data": {
      "text/plain": [
       "True"
      ]
     },
     "execution_count": 177,
     "metadata": {},
     "output_type": "execute_result"
    }
   ],
   "source": [
    "lst=[-1,-2,3,4,4]\n",
    "all(lst)"
   ]
  },
  {
   "cell_type": "code",
   "execution_count": 178,
   "metadata": {},
   "outputs": [
    {
     "data": {
      "text/plain": [
       "True"
      ]
     },
     "execution_count": 178,
     "metadata": {},
     "output_type": "execute_result"
    }
   ],
   "source": [
    "lst=[]\n",
    "all(lst)"
   ]
  },
  {
   "cell_type": "code",
   "execution_count": 179,
   "metadata": {},
   "outputs": [
    {
     "data": {
      "text/plain": [
       "['__add__',\n",
       " '__class__',\n",
       " '__contains__',\n",
       " '__delattr__',\n",
       " '__delitem__',\n",
       " '__dir__',\n",
       " '__doc__',\n",
       " '__eq__',\n",
       " '__format__',\n",
       " '__ge__',\n",
       " '__getattribute__',\n",
       " '__getitem__',\n",
       " '__gt__',\n",
       " '__hash__',\n",
       " '__iadd__',\n",
       " '__imul__',\n",
       " '__init__',\n",
       " '__init_subclass__',\n",
       " '__iter__',\n",
       " '__le__',\n",
       " '__len__',\n",
       " '__lt__',\n",
       " '__mul__',\n",
       " '__ne__',\n",
       " '__new__',\n",
       " '__reduce__',\n",
       " '__reduce_ex__',\n",
       " '__repr__',\n",
       " '__reversed__',\n",
       " '__rmul__',\n",
       " '__setattr__',\n",
       " '__setitem__',\n",
       " '__sizeof__',\n",
       " '__str__',\n",
       " '__subclasshook__',\n",
       " 'append',\n",
       " 'clear',\n",
       " 'copy',\n",
       " 'count',\n",
       " 'extend',\n",
       " 'index',\n",
       " 'insert',\n",
       " 'pop',\n",
       " 'remove',\n",
       " 'reverse',\n",
       " 'sort']"
      ]
     },
     "execution_count": 179,
     "metadata": {},
     "output_type": "execute_result"
    }
   ],
   "source": [
    "num=[1,2,3]\n",
    "dir(num)"
   ]
  },
  {
   "cell_type": "code",
   "execution_count": 182,
   "metadata": {},
   "outputs": [
    {
     "ename": "AttributeError",
     "evalue": "'builtin_function_or_method' object has no attribute 'resverse'",
     "output_type": "error",
     "traceback": [
      "\u001b[1;31m---------------------------------------------------------------------------\u001b[0m",
      "\u001b[1;31mAttributeError\u001b[0m                            Traceback (most recent call last)",
      "\u001b[1;32m<ipython-input-182-cb46bbdbf858>\u001b[0m in \u001b[0;36m<module>\u001b[1;34m\u001b[0m\n\u001b[1;32m----> 1\u001b[1;33m \u001b[0mdir\u001b[0m\u001b[1;33m.\u001b[0m\u001b[0mresverse\u001b[0m\u001b[1;33m(\u001b[0m\u001b[0mnum\u001b[0m\u001b[1;33m)\u001b[0m\u001b[1;33m\u001b[0m\u001b[1;33m\u001b[0m\u001b[0m\n\u001b[0m",
      "\u001b[1;31mAttributeError\u001b[0m: 'builtin_function_or_method' object has no attribute 'resverse'"
     ]
    }
   ],
   "source": [
    "dir.resverse(num)"
   ]
  },
  {
   "cell_type": "code",
   "execution_count": 183,
   "metadata": {},
   "outputs": [
    {
     "data": {
      "text/plain": [
       "(4, 0)"
      ]
     },
     "execution_count": 183,
     "metadata": {},
     "output_type": "execute_result"
    }
   ],
   "source": [
    "divmod(12,3)"
   ]
  },
  {
   "cell_type": "code",
   "execution_count": 184,
   "metadata": {},
   "outputs": [
    {
     "data": {
      "text/plain": [
       "(11, 1)"
      ]
     },
     "execution_count": 184,
     "metadata": {},
     "output_type": "execute_result"
    }
   ],
   "source": [
    "divmod(34,3)"
   ]
  },
  {
   "cell_type": "code",
   "execution_count": 185,
   "metadata": {},
   "outputs": [
    {
     "name": "stdout",
     "output_type": "stream",
     "text": [
      "Index 0 has value 1\n",
      "Index 1 has value 2\n",
      "Index 2 has value 3\n",
      "Index 3 has value 4\n",
      "Index 4 has value 5\n"
     ]
    }
   ],
   "source": [
    "num=[1,2,3,4,5]\n",
    "for index,num in enumerate(num):\n",
    "    print(\"Index {} has value {}\".format(index,num))"
   ]
  },
  {
   "cell_type": "code",
   "execution_count": 191,
   "metadata": {},
   "outputs": [],
   "source": [
    "def find_positive_number(num):\n",
    "    \"\"\"\n",
    "    This functions return the positive number if num is positive \n",
    "    \"\"\"\n",
    "    if num >0:\n",
    "        return num"
   ]
  },
  {
   "cell_type": "code",
   "execution_count": 187,
   "metadata": {},
   "outputs": [
    {
     "name": "stdout",
     "output_type": "stream",
     "text": [
      "[-10, -9, -8, -7, -6, -5, -4, -3, -2, -1, 0, 1, 2, 3, 4, 5, 6, 7, 8, 9]\n"
     ]
    }
   ],
   "source": [
    "number_list=range(-10,10)\n",
    "print(list(number_list))"
   ]
  },
  {
   "cell_type": "code",
   "execution_count": 192,
   "metadata": {},
   "outputs": [
    {
     "name": "stdout",
     "output_type": "stream",
     "text": [
      "[1, 2, 3, 4, 5, 6, 7, 8, 9]\n"
     ]
    }
   ],
   "source": [
    "positive_num_lst=list(filter(find_positive_number,number_list))\n",
    "print(positive_num_lst)"
   ]
  },
  {
   "cell_type": "code",
   "execution_count": 193,
   "metadata": {},
   "outputs": [
    {
     "name": "stdout",
     "output_type": "stream",
     "text": [
      "[32, 43, 4]\n"
     ]
    }
   ],
   "source": [
    "lst=[-20,-34,32,-1,-2,43,4]\n",
    "positive_num_lst=list(filter(find_positive_number,lst))\n",
    "print(positive_num_lst)"
   ]
  },
  {
   "cell_type": "code",
   "execution_count": 195,
   "metadata": {},
   "outputs": [
    {
     "data": {
      "text/plain": [
       "'\\n    This functions return the positive number if num is positive \\n    '"
      ]
     },
     "execution_count": 195,
     "metadata": {},
     "output_type": "execute_result"
    }
   ],
   "source": [
    "find_positive_number.__doc__"
   ]
  },
  {
   "cell_type": "code",
   "execution_count": 196,
   "metadata": {},
   "outputs": [
    {
     "name": "stdout",
     "output_type": "stream",
     "text": [
      "True\n"
     ]
    }
   ],
   "source": [
    "lst=[1,2,3,4]\n",
    "print(isinstance(lst,list))"
   ]
  },
  {
   "cell_type": "code",
   "execution_count": 198,
   "metadata": {},
   "outputs": [
    {
     "name": "stdout",
     "output_type": "stream",
     "text": [
      "True\n"
     ]
    }
   ],
   "source": [
    "lst=(1,2,3,3)\n",
    "print(isinstance(lst,tuple))"
   ]
  },
  {
   "cell_type": "code",
   "execution_count": 203,
   "metadata": {},
   "outputs": [
    {
     "data": {
      "text/plain": [
       "[1, 4, 9, 16]"
      ]
     },
     "execution_count": 203,
     "metadata": {},
     "output_type": "execute_result"
    }
   ],
   "source": [
    "num=[1,2,3,4]\n",
    "[i**2 for i in num]"
   ]
  },
  {
   "cell_type": "code",
   "execution_count": 204,
   "metadata": {},
   "outputs": [
    {
     "data": {
      "text/plain": [
       "[0, 2, 4, 6, 8]"
      ]
     },
     "execution_count": 204,
     "metadata": {},
     "output_type": "execute_result"
    }
   ],
   "source": [
    "[i*2 for i in range(5)]"
   ]
  },
  {
   "cell_type": "code",
   "execution_count": 207,
   "metadata": {},
   "outputs": [],
   "source": [
    "lst=[1,2,3,4]\n",
    "def power_of_num(num):\n",
    "    '''\n",
    "    This function gives power of number\n",
    "    '''\n",
    "    return num**2"
   ]
  },
  {
   "cell_type": "code",
   "execution_count": 209,
   "metadata": {},
   "outputs": [
    {
     "data": {
      "text/plain": [
       "<function __main__.power_of_num(num)>"
      ]
     },
     "execution_count": 209,
     "metadata": {},
     "output_type": "execute_result"
    }
   ],
   "source": [
    "power_of_num"
   ]
  },
  {
   "cell_type": "code",
   "execution_count": 210,
   "metadata": {},
   "outputs": [
    {
     "data": {
      "text/plain": [
       "[1, 4, 9, 16]"
      ]
     },
     "execution_count": 210,
     "metadata": {},
     "output_type": "execute_result"
    }
   ],
   "source": [
    "list(map(power_of_num,lst))"
   ]
  },
  {
   "cell_type": "code",
   "execution_count": 211,
   "metadata": {},
   "outputs": [
    {
     "name": "stdout",
     "output_type": "stream",
     "text": [
      "[144, 169, 196, 225, 256]\n"
     ]
    }
   ],
   "source": [
    "number=[12,13,14,15,16]\n",
    "def power_of_number(num):\n",
    "    return num**2\n",
    "squred=list(map(power_of_number,number))\n",
    "print(squred)"
   ]
  },
  {
   "cell_type": "code",
   "execution_count": 212,
   "metadata": {},
   "outputs": [
    {
     "name": "stdout",
     "output_type": "stream",
     "text": [
      "24\n"
     ]
    }
   ],
   "source": [
    "product=1\n",
    "lst=[1,2,3,4]\n",
    "for num in lst:\n",
    "    product*=num\n",
    "print(product)"
   ]
  },
  {
   "cell_type": "code",
   "execution_count": 213,
   "metadata": {},
   "outputs": [
    {
     "name": "stdout",
     "output_type": "stream",
     "text": [
      "24\n"
     ]
    }
   ],
   "source": [
    "from functools import reduce\n",
    "def multiply(x,y):\n",
    "    return x*y\n",
    "product=reduce(multiply,lst)\n",
    "\n",
    "print(product)"
   ]
  },
  {
   "cell_type": "code",
   "execution_count": 214,
   "metadata": {},
   "outputs": [
    {
     "data": {
      "text/plain": [
       "120"
      ]
     },
     "execution_count": 214,
     "metadata": {},
     "output_type": "execute_result"
    }
   ],
   "source": [
    "reduce(multiply,[2,3,4,5])"
   ]
  },
  {
   "cell_type": "code",
   "execution_count": 216,
   "metadata": {},
   "outputs": [
    {
     "name": "stdout",
     "output_type": "stream",
     "text": [
      "product of 10 and 20 is 200\n"
     ]
    }
   ],
   "source": [
    "def product_numbers(a,b):\n",
    "    '''\n",
    "    This function return the product of two numbers\n",
    "    '''\n",
    "    product=a*b\n",
    "    return product\n",
    "num1=10\n",
    "num2=20\n",
    "print(\"product of {} and {} is {}\".format(num1,num2,product_numbers(num1,num2)))"
   ]
  },
  {
   "cell_type": "code",
   "execution_count": 217,
   "metadata": {},
   "outputs": [
    {
     "data": {
      "text/plain": [
       "'\\n    This function return the product of two numbers\\n    '"
      ]
     },
     "execution_count": 217,
     "metadata": {},
     "output_type": "execute_result"
    }
   ],
   "source": [
    "product_numbers.__doc__"
   ]
  },
  {
   "cell_type": "code",
   "execution_count": 222,
   "metadata": {},
   "outputs": [
    {
     "name": "stdout",
     "output_type": "stream",
     "text": [
      "select option\n",
      "1.Addition\n",
      "2.Subtraction\n",
      "3.Multiplication\n",
      "4.Division\n",
      "Enter choice number 1/2/3/45\n",
      "Enter first number: 34\n",
      "Enter second number: 34\n",
      "Invalid choice\n"
     ]
    }
   ],
   "source": [
    "def add(a,b):\n",
    "    \"\"\"\n",
    "    This function adds two numbers\n",
    "    \"\"\"\n",
    "    return a+b\n",
    "def multiply(a,b):\n",
    "    '''\n",
    "    This function multiply two numbers\n",
    "    '''\n",
    "    return a*b\n",
    "def subtract(a,b):\n",
    "    '''\n",
    "    This function subtract two number \n",
    "    '''\n",
    "    return a-b\n",
    "def division(a,b):\n",
    "    \"\"\"\n",
    "    This function return division of two number \n",
    "    \"\"\"\n",
    "    return a/b\n",
    "print(\"select option\")\n",
    "print(\"1.Addition\")\n",
    "print(\"2.Subtraction\")\n",
    "print(\"3.Multiplication\")\n",
    "print(\"4.Division\")\n",
    "choice=int(input(\"Enter choice number 1/2/3/4\"))\n",
    "num1=float(input(\"Enter first number: \"))\n",
    "num2=float(input(\"Enter second number: \"))\n",
    "if choice ==1:\n",
    "    print(\"Addition of {} and {} is {}\".format(num1,num2,add(num1,num2)))\n",
    "elif choice==2:\n",
    "    print(\"Subtraction of {} and {} is {}\".format(num1,num2,subtract(num1,num2)))\n",
    "elif choice==3:\n",
    "    print(\"Multiplication of {} and {} is {}\".format(num1,num2,multiply(num1,num2)))\n",
    "elif choice==4:\n",
    "    print(\"Division of {} and {} is {}\".format(num1,num2,division(num1,num2)))\n",
    "else:\n",
    "    print(\"Invalid choice\")\n",
    "    "
   ]
  },
  {
   "cell_type": "markdown",
   "metadata": {},
   "source": [
    "Python Calculator "
   ]
  },
  {
   "cell_type": "code",
   "execution_count": 223,
   "metadata": {},
   "outputs": [
    {
     "name": "stdout",
     "output_type": "stream",
     "text": [
      "select option\n",
      "1.Addition\n",
      "2.Multiplication\n",
      "3.Subtraction\n",
      "4.Division\n",
      "Enter chice 1/2/3/4 1\n",
      "Enter first number : 12\n",
      "Enter second number : 12\n",
      "Addition of 12 and 12 is 24\n"
     ]
    }
   ],
   "source": [
    "def add(a,b):\n",
    "    return a+b\n",
    "def multiply(a,b):\n",
    "    return a*b\n",
    "def subtract(a,b):\n",
    "    return a-b\n",
    "def division(a,b):\n",
    "    return a/b\n",
    "print(\"select option\")\n",
    "print(\"1.Addition\")\n",
    "print(\"2.Multiplication\")\n",
    "print(\"3.Subtraction\")\n",
    "print(\"4.Division\")\n",
    "choice = int(input(\"Enter chice 1/2/3/4 \"))\n",
    "num1=int(input(\"Enter first number : \"))\n",
    "num2=int(input(\"Enter second number : \"))\n",
    "if choice ==1:\n",
    "    print(\"Addition of {} and {} is {}\".format(num1,num1,add(num1,num2)))\n",
    "elif choice ==2:\n",
    "    print(\"Multiplication of {} and {} is {}\".format(num1,num1,multiply(num1,num2)))\n",
    "elif choice ==3:\n",
    "    print(\"Subtraction of {} and {} is {}\".format(num1,num1,subtract(num1,num2)))\n",
    "elif choice ==4:\n",
    "    print(\"Division of {} and {} is {}\".format(num1,num1,division(num1,num2)))\n",
    "else:\n",
    "    print(\"Invalid choice\")\n"
   ]
  },
  {
   "cell_type": "code",
   "execution_count": 224,
   "metadata": {},
   "outputs": [],
   "source": [
    "def greeting(name,msg):\n",
    "    \"\"\"\n",
    "    This function gives greating to person \n",
    "    \"\"\"\n",
    "    print(\"Hello {} , {} \".format(name,msg))\n",
    "    "
   ]
  },
  {
   "cell_type": "code",
   "execution_count": 225,
   "metadata": {},
   "outputs": [
    {
     "name": "stdout",
     "output_type": "stream",
     "text": [
      "Hello krishna , Good morning \n"
     ]
    }
   ],
   "source": [
    "greeting(\"krishna\", \"Good morning\")"
   ]
  },
  {
   "cell_type": "code",
   "execution_count": 226,
   "metadata": {},
   "outputs": [
    {
     "ename": "TypeError",
     "evalue": "greeting() missing 1 required positional argument: 'msg'",
     "output_type": "error",
     "traceback": [
      "\u001b[1;31m---------------------------------------------------------------------------\u001b[0m",
      "\u001b[1;31mTypeError\u001b[0m                                 Traceback (most recent call last)",
      "\u001b[1;32m<ipython-input-226-cf6c2c1c8ce4>\u001b[0m in \u001b[0;36m<module>\u001b[1;34m\u001b[0m\n\u001b[1;32m----> 1\u001b[1;33m \u001b[0mgreeting\u001b[0m\u001b[1;33m(\u001b[0m\u001b[1;34m\"krishna\"\u001b[0m\u001b[1;33m)\u001b[0m\u001b[1;33m\u001b[0m\u001b[1;33m\u001b[0m\u001b[0m\n\u001b[0m",
      "\u001b[1;31mTypeError\u001b[0m: greeting() missing 1 required positional argument: 'msg'"
     ]
    }
   ],
   "source": [
    "greeting(\"krishna\")"
   ]
  },
  {
   "cell_type": "code",
   "execution_count": 227,
   "metadata": {},
   "outputs": [],
   "source": [
    "def greet(name,msg=\"Good Morning\"):\n",
    "    \"\"\"\n",
    "    This function gives greeting to the person\n",
    "    \"\"\"\n",
    "    print(\"Helo {} , {}\".format(name,msg))"
   ]
  },
  {
   "cell_type": "code",
   "execution_count": 228,
   "metadata": {},
   "outputs": [
    {
     "name": "stdout",
     "output_type": "stream",
     "text": [
      "Helo krishna , Good Morning\n"
     ]
    }
   ],
   "source": [
    "greet(\"krishna\")"
   ]
  },
  {
   "cell_type": "code",
   "execution_count": 231,
   "metadata": {},
   "outputs": [],
   "source": [
    "def greet(*names):\n",
    "    \"\"\"\n",
    "    This function gives greeting to all person in the names tuple\n",
    "    \"\"\"\n",
    "    print(\"name\")\n",
    "    for name in names:\n",
    "        print(\"Hello, {}\".format(name))"
   ]
  },
  {
   "cell_type": "code",
   "execution_count": 232,
   "metadata": {},
   "outputs": [
    {
     "name": "stdout",
     "output_type": "stream",
     "text": [
      "name\n",
      "Hello, satish\n",
      "Hello, manish\n",
      "Hello, manu\n"
     ]
    }
   ],
   "source": [
    "greet(\"satish\",\"manish\",\"manu\")"
   ]
  },
  {
   "cell_type": "markdown",
   "metadata": {},
   "source": [
    "Python program to print factorial of a number of a given number"
   ]
  },
  {
   "cell_type": "code",
   "execution_count": 233,
   "metadata": {},
   "outputs": [],
   "source": [
    "def factorial(num):\n",
    "    \"\"\"\n",
    "    This function is a recursion function to find the factorial of a given number \n",
    "    \"\"\"\n",
    "    return 1 if num==1 else(num*factorial(num-1))\n"
   ]
  },
  {
   "cell_type": "code",
   "execution_count": 238,
   "metadata": {},
   "outputs": [
    {
     "name": "stdout",
     "output_type": "stream",
     "text": [
      "Enter a number: 10\n",
      "Factorial of 10 is 3628800\n"
     ]
    }
   ],
   "source": [
    "num=int(input(\"Enter a number: \"))\n",
    "print(\"Factorial of {} is {}\".format(num,factorial(num)))"
   ]
  },
  {
   "cell_type": "markdown",
   "metadata": {},
   "source": [
    "Fibonacci Sequence"
   ]
  },
  {
   "cell_type": "code",
   "execution_count": 239,
   "metadata": {},
   "outputs": [],
   "source": [
    "def fibonacci(num):\n",
    "    \"\"\"\n",
    "    Recursive function to print fibonacci sequence\n",
    "    \"\"\"\n",
    "    return num if num<=1 else fibonacci(num-1)+fibonacci(num-2)"
   ]
  },
  {
   "cell_type": "code",
   "execution_count": 241,
   "metadata": {},
   "outputs": [
    {
     "name": "stdout",
     "output_type": "stream",
     "text": [
      "Fibonacci Sequence\n",
      "0\n",
      "1\n",
      "1\n",
      "2\n",
      "3\n"
     ]
    }
   ],
   "source": [
    "nterm=5\n",
    "print(\"Fibonacci Sequence\")\n",
    "for num in range(nterm):\n",
    "    print(fibonacci(num))"
   ]
  },
  {
   "cell_type": "markdown",
   "metadata": {},
   "source": [
    "Lambda function"
   ]
  },
  {
   "cell_type": "code",
   "execution_count": 242,
   "metadata": {},
   "outputs": [
    {
     "name": "stdout",
     "output_type": "stream",
     "text": [
      "10\n"
     ]
    }
   ],
   "source": [
    "double=lambda x:x*2\n",
    "print(double(5))\n"
   ]
  },
  {
   "cell_type": "code",
   "execution_count": 243,
   "metadata": {},
   "outputs": [
    {
     "name": "stdout",
     "output_type": "stream",
     "text": [
      "10\n"
     ]
    }
   ],
   "source": [
    "def double(x):\n",
    "    return x*2\n",
    "print(double(5))"
   ]
  },
  {
   "cell_type": "code",
   "execution_count": 244,
   "metadata": {},
   "outputs": [
    {
     "name": "stdout",
     "output_type": "stream",
     "text": [
      "[2, 4]\n"
     ]
    }
   ],
   "source": [
    "lst=[1,2,3,4,5]\n",
    "even_lst=list(filter(lambda x:(x%2==0),lst))\n",
    "print(even_lst)"
   ]
  },
  {
   "cell_type": "code",
   "execution_count": 245,
   "metadata": {},
   "outputs": [
    {
     "name": "stdout",
     "output_type": "stream",
     "text": [
      "[1, 4, 9, 16, 25]\n"
     ]
    }
   ],
   "source": [
    "lst=[1,2,3,4,5]\n",
    "new_lst=list(map(lambda x:(x**2),lst))\n",
    "print(new_lst)"
   ]
  },
  {
   "cell_type": "code",
   "execution_count": 249,
   "metadata": {},
   "outputs": [],
   "source": [
    "def iseven(x) :\n",
    "    if (x%2==0):\n",
    "        return True\n",
    "    else:\n",
    "        return False"
   ]
  },
  {
   "cell_type": "code",
   "execution_count": 250,
   "metadata": {},
   "outputs": [
    {
     "data": {
      "text/plain": [
       "True"
      ]
     },
     "execution_count": 250,
     "metadata": {},
     "output_type": "execute_result"
    }
   ],
   "source": [
    "iseven(34)"
   ]
  },
  {
   "cell_type": "code",
   "execution_count": 251,
   "metadata": {},
   "outputs": [
    {
     "data": {
      "text/plain": [
       "False"
      ]
     },
     "execution_count": 251,
     "metadata": {},
     "output_type": "execute_result"
    }
   ],
   "source": [
    "iseven(45)"
   ]
  },
  {
   "cell_type": "code",
   "execution_count": 253,
   "metadata": {},
   "outputs": [
    {
     "name": "stdout",
     "output_type": "stream",
     "text": [
      "120\n"
     ]
    }
   ],
   "source": [
    "from functools import reduce\n",
    "lst=[1,2,3,4,5]\n",
    "product_lst=reduce(lambda x,y:x*y,lst)\n",
    "print(product_lst)"
   ]
  },
  {
   "cell_type": "code",
   "execution_count": 254,
   "metadata": {},
   "outputs": [
    {
     "ename": "ModuleNotFoundError",
     "evalue": "No module named 'example'",
     "output_type": "error",
     "traceback": [
      "\u001b[1;31m---------------------------------------------------------------------------\u001b[0m",
      "\u001b[1;31mModuleNotFoundError\u001b[0m                       Traceback (most recent call last)",
      "\u001b[1;32m<ipython-input-254-b8e8b7efa6f9>\u001b[0m in \u001b[0;36m<module>\u001b[1;34m\u001b[0m\n\u001b[1;32m----> 1\u001b[1;33m \u001b[1;32mimport\u001b[0m \u001b[0mexample\u001b[0m\u001b[1;33m\u001b[0m\u001b[1;33m\u001b[0m\u001b[0m\n\u001b[0m\u001b[0;32m      2\u001b[0m \u001b[0mexample\u001b[0m\u001b[1;33m.\u001b[0m\u001b[0madd\u001b[0m\u001b[1;33m(\u001b[0m\u001b[1;36m10\u001b[0m\u001b[1;33m,\u001b[0m\u001b[1;36m20\u001b[0m\u001b[1;33m)\u001b[0m\u001b[1;33m\u001b[0m\u001b[1;33m\u001b[0m\u001b[0m\n",
      "\u001b[1;31mModuleNotFoundError\u001b[0m: No module named 'example'"
     ]
    }
   ],
   "source": [
    "import example\n",
    "example.add(10,20)"
   ]
  },
  {
   "cell_type": "code",
   "execution_count": 255,
   "metadata": {},
   "outputs": [],
   "source": [
    "import math"
   ]
  },
  {
   "cell_type": "code",
   "execution_count": 256,
   "metadata": {},
   "outputs": [
    {
     "data": {
      "text/plain": [
       "3.141592653589793"
      ]
     },
     "execution_count": 256,
     "metadata": {},
     "output_type": "execute_result"
    }
   ],
   "source": [
    "math.pi"
   ]
  },
  {
   "cell_type": "code",
   "execution_count": 258,
   "metadata": {},
   "outputs": [
    {
     "data": {
      "text/plain": [
       "datetime.datetime(2020, 12, 22, 19, 36, 7, 514134)"
      ]
     },
     "execution_count": 258,
     "metadata": {},
     "output_type": "execute_result"
    }
   ],
   "source": [
    "import datetime\n",
    "datetime.datetime.now()"
   ]
  },
  {
   "cell_type": "code",
   "execution_count": 264,
   "metadata": {},
   "outputs": [
    {
     "data": {
      "text/plain": [
       "'ramuk anhsir'"
      ]
     },
     "execution_count": 264,
     "metadata": {},
     "output_type": "execute_result"
    }
   ],
   "source": [
    "a=\"krishna kumar\"\n",
    "a[-1:0:-1]"
   ]
  },
  {
   "cell_type": "code",
   "execution_count": 265,
   "metadata": {},
   "outputs": [],
   "source": [
    "from math import*"
   ]
  },
  {
   "cell_type": "code",
   "execution_count": 266,
   "metadata": {},
   "outputs": [
    {
     "name": "stdout",
     "output_type": "stream",
     "text": [
      "value of PI is3.141592653589793\n"
     ]
    }
   ],
   "source": [
    "print(\"value of PI is\" + str(pi))"
   ]
  },
  {
   "cell_type": "code",
   "execution_count": 268,
   "metadata": {},
   "outputs": [
    {
     "data": {
      "text/plain": [
       "'C:\\\\Users\\\\hp'"
      ]
     },
     "execution_count": 268,
     "metadata": {},
     "output_type": "execute_result"
    }
   ],
   "source": [
    "import os\n",
    "os.getcwd()"
   ]
  },
  {
   "cell_type": "markdown",
   "metadata": {},
   "source": [
    "if_elif_else statment"
   ]
  },
  {
   "cell_type": "code",
   "execution_count": 270,
   "metadata": {},
   "outputs": [
    {
     "name": "stdout",
     "output_type": "stream",
     "text": [
      "Enter your age : 45\n",
      "you are above 14\n"
     ]
    }
   ],
   "source": [
    "age=int(input(\"Enter your age : \"))\n",
    "if age>=14:\n",
    "    print(\"you are above 14\")\n",
    "else:\n",
    "    print(\"you are below 14\")"
   ]
  },
  {
   "cell_type": "code",
   "execution_count": 271,
   "metadata": {},
   "outputs": [
    {
     "ename": "SyntaxError",
     "evalue": "unexpected EOF while parsing (<ipython-input-271-fee974cfe10f>, line 2)",
     "output_type": "error",
     "traceback": [
      "\u001b[1;36m  File \u001b[1;32m\"<ipython-input-271-fee974cfe10f>\"\u001b[1;36m, line \u001b[1;32m2\u001b[0m\n\u001b[1;33m    if age>=12:\u001b[0m\n\u001b[1;37m               ^\u001b[0m\n\u001b[1;31mSyntaxError\u001b[0m\u001b[1;31m:\u001b[0m unexpected EOF while parsing\n"
     ]
    }
   ],
   "source": [
    "# pass statment\n",
    "if age>=12:"
   ]
  },
  {
   "cell_type": "code",
   "execution_count": 272,
   "metadata": {},
   "outputs": [],
   "source": [
    "if age>=14:\n",
    "    pass"
   ]
  },
  {
   "cell_type": "markdown",
   "metadata": {},
   "source": [
    "Generate Random Number in python"
   ]
  },
  {
   "cell_type": "code",
   "execution_count": 276,
   "metadata": {},
   "outputs": [
    {
     "name": "stdout",
     "output_type": "stream",
     "text": [
      "Guess a number: 45\n",
      "You guess large number\n"
     ]
    }
   ],
   "source": [
    "# Number gussing game\n",
    "winning_number= 30\n",
    "guess_number=int(input(\"Guess a number: \"))\n",
    "if winning_number==guess_number:\n",
    "    print(\"You win\")\n",
    "elif winning_number<guess_number:\n",
    "    print(\"You guess large number\")\n",
    "else:\n",
    "    print(\"You guess small number\")"
   ]
  },
  {
   "cell_type": "code",
   "execution_count": 282,
   "metadata": {},
   "outputs": [
    {
     "name": "stdout",
     "output_type": "stream",
     "text": [
      "Enter your name : Avinsh\n",
      "Enter your age : 23\n",
      "you can watch that movies\n"
     ]
    }
   ],
   "source": [
    "# Only that Person can watch this movies who name start with letter \"a\" or \"A\" \n",
    "name=input(\"Enter your name : \")\n",
    "age=int(input(\"Enter your age : \"))\n",
    "if name[0]=='a' or name[0]=='A' and age>=10:\n",
    "    print(\"you can watch that movies\")\n",
    "else:\n",
    "    print(\"You cannot watch the movies\")"
   ]
  },
  {
   "cell_type": "code",
   "execution_count": 284,
   "metadata": {},
   "outputs": [
    {
     "name": "stdout",
     "output_type": "stream",
     "text": [
      "Enter your name : Manish\n",
      "Enter your age : 12\n",
      "you can watch that movies\n"
     ]
    }
   ],
   "source": [
    "# Example of \"in\" keyword\n",
    "# Only that Person can watch this movies who name contain letter \"a\" or \"A\" \n",
    "name=input(\"Enter your name : \")\n",
    "age=int(input(\"Enter your age : \"))\n",
    "if (\"a\" or \"A\" in name) and age>=10:\n",
    "    print(\"you can watch that movies\")\n",
    "else:\n",
    "    print(\"You cannot watch the movies\")"
   ]
  },
  {
   "cell_type": "code",
   "execution_count": 287,
   "metadata": {},
   "outputs": [
    {
     "name": "stdout",
     "output_type": "stream",
     "text": [
      "Enter your name: \n",
      "you did't type anything\n"
     ]
    }
   ],
   "source": [
    "name=input(\"Enter your name: \")\n",
    "if name:\n",
    "    print(f\"Your name is {name}\")\n",
    "else:\n",
    "    print(\"you did't type anything\")"
   ]
  },
  {
   "cell_type": "markdown",
   "metadata": {},
   "source": [
    "# while loop"
   ]
  },
  {
   "cell_type": "code",
   "execution_count": 288,
   "metadata": {},
   "outputs": [
    {
     "name": "stdout",
     "output_type": "stream",
     "text": [
      "Total sum is 55\n"
     ]
    }
   ],
   "source": [
    "# sum 1 to 10\n",
    "total=0\n",
    "i=1\n",
    "while i<=10:\n",
    "    total+=i\n",
    "    i+=1\n",
    "print(\"Total sum is {}\".format(total))"
   ]
  },
  {
   "cell_type": "code",
   "execution_count": 293,
   "metadata": {},
   "outputs": [
    {
     "name": "stdout",
     "output_type": "stream",
     "text": [
      "Enter a number till you sum : 20\n",
      "Total sum from 1 to that number is 210\n"
     ]
    }
   ],
   "source": [
    "# sum from 1 to any natual number\n",
    "natural_number=int(input(\"Enter a number till you sum : \"))\n",
    "total=0\n",
    "i=1\n",
    "while i<=natural_number:\n",
    "    total+=i\n",
    "    i+=1\n",
    "print(\"Total sum from 1 to that number is {}\".format(total))"
   ]
  },
  {
   "cell_type": "code",
   "execution_count": 295,
   "metadata": {},
   "outputs": [
    {
     "name": "stdout",
     "output_type": "stream",
     "text": [
      "Enter a number: 12345679810\n",
      "46\n"
     ]
    }
   ],
   "source": [
    "# sum of digits in number\n",
    "\n",
    "number=input(\"Enter a number: \")\n",
    "total=0\n",
    "i=0\n",
    "while i<len(number):\n",
    "    total+=int(number[i])\n",
    "    i+=1\n",
    "print(total)"
   ]
  },
  {
   "cell_type": "code",
   "execution_count": 300,
   "metadata": {},
   "outputs": [
    {
     "name": "stdout",
     "output_type": "stream",
     "text": [
      "Please enter name : krishna kumar\n",
      "k:2\n",
      "r:2\n",
      "i:1\n",
      "s:1\n",
      "h:1\n",
      "n:1\n",
      "a:2\n",
      " :1\n",
      "k:2\n",
      "u:1\n",
      "m:1\n",
      "a:2\n",
      "r:2\n"
     ]
    }
   ],
   "source": [
    "name=input(\"Please enter name : \")\n",
    "i=0\n",
    "while i<len(name):\n",
    "    print(f\"{name[i]}:{name.count(name[i])}\")\n",
    "    i+=1"
   ]
  },
  {
   "cell_type": "code",
   "execution_count": 301,
   "metadata": {},
   "outputs": [
    {
     "name": "stdout",
     "output_type": "stream",
     "text": [
      "Please enter name : krishna kumar\n",
      "k:2\n",
      "r:2\n",
      "i:1\n",
      "s:1\n",
      "h:1\n",
      "n:1\n",
      "a:2\n",
      " :1\n",
      "u:1\n",
      "m:1\n"
     ]
    }
   ],
   "source": [
    "name=input(\"Please enter name : \")\n",
    "temp_var=\"\"\n",
    "i=0\n",
    "while i<len(name):\n",
    "    if name[i] not in temp_var:\n",
    "        temp_var+=name[i]\n",
    "        print(f\"{name[i]}:{name.count(name[i])}\")\n",
    "    i+=1"
   ]
  },
  {
   "cell_type": "markdown",
   "metadata": {},
   "source": [
    "# for loop"
   ]
  },
  {
   "cell_type": "code",
   "execution_count": 302,
   "metadata": {},
   "outputs": [
    {
     "name": "stdout",
     "output_type": "stream",
     "text": [
      "krishna kumar\n",
      "krishna kumar\n",
      "krishna kumar\n",
      "krishna kumar\n",
      "krishna kumar\n",
      "krishna kumar\n",
      "krishna kumar\n",
      "krishna kumar\n",
      "krishna kumar\n",
      "krishna kumar\n"
     ]
    }
   ],
   "source": [
    "# for loop with range function\n",
    "for i in range(10):\n",
    "    print(\"krishna kumar\")"
   ]
  },
  {
   "cell_type": "code",
   "execution_count": 303,
   "metadata": {},
   "outputs": [
    {
     "name": "stdout",
     "output_type": "stream",
     "text": [
      "hello world : 1\n",
      "hello world : 2\n",
      "hello world : 3\n",
      "hello world : 4\n",
      "hello world : 5\n",
      "hello world : 6\n",
      "hello world : 7\n",
      "hello world : 8\n",
      "hello world : 9\n",
      "hello world : 10\n"
     ]
    }
   ],
   "source": [
    "for i in range(1,11):\n",
    "    print(f\"hello world : {i}\")"
   ]
  },
  {
   "cell_type": "code",
   "execution_count": 305,
   "metadata": {},
   "outputs": [
    {
     "name": "stdout",
     "output_type": "stream",
     "text": [
      "{'hello world': 'i'}\n",
      "{'hello world': 'i'}\n",
      "{'hello world': 'i'}\n",
      "{'hello world': 'i'}\n",
      "{'hello world': 'i'}\n",
      "{'hello world': 'i'}\n",
      "{'hello world': 'i'}\n",
      "{'hello world': 'i'}\n",
      "{'hello world': 'i'}\n",
      "{'hello world': 'i'}\n"
     ]
    }
   ],
   "source": [
    "for i in range(1,11):\n",
    "    print({\"hello world\" : \"i\"})"
   ]
  },
  {
   "cell_type": "code",
   "execution_count": 307,
   "metadata": {},
   "outputs": [
    {
     "name": "stdout",
     "output_type": "stream",
     "text": [
      "55\n"
     ]
    }
   ],
   "source": [
    "sum=0\n",
    "for ele in range(11):\n",
    "    sum+=ele\n",
    "print(sum)"
   ]
  },
  {
   "cell_type": "code",
   "execution_count": 309,
   "metadata": {},
   "outputs": [
    {
     "name": "stdout",
     "output_type": "stream",
     "text": [
      "Enter a number : 10\n",
      "55\n"
     ]
    }
   ],
   "source": [
    "n=int(input(\"Enter a number : \"))\n",
    "total=0\n",
    "for i in range(1,n+1):\n",
    "    total+=i\n",
    "print(total)\n",
    "    "
   ]
  },
  {
   "cell_type": "code",
   "execution_count": 311,
   "metadata": {},
   "outputs": [
    {
     "name": "stdout",
     "output_type": "stream",
     "text": [
      "Enter a number: 12345\n",
      "15\n"
     ]
    }
   ],
   "source": [
    "total=0\n",
    "num=input(\"Enter a number: \")\n",
    "for i in range(0,len(num)):\n",
    "    total+=int(num[i])\n",
    "print(total)"
   ]
  },
  {
   "cell_type": "code",
   "execution_count": 312,
   "metadata": {},
   "outputs": [
    {
     "name": "stdout",
     "output_type": "stream",
     "text": [
      "Enter your name: krishna kumar\n",
      "k:2\n",
      "r:2\n",
      "i:1\n",
      "s:1\n",
      "h:1\n",
      "n:1\n",
      "a:2\n",
      " :1\n",
      "u:1\n",
      "m:1\n"
     ]
    }
   ],
   "source": [
    "name=input(\"Enter your name: \")\n",
    "temp=\"\"\n",
    "for i in range(len(name)):\n",
    "    if name[i]not in temp:\n",
    "        print(f'{name[i]}:{name.count(name[i])}')\n",
    "        temp+=name[i]"
   ]
  },
  {
   "cell_type": "code",
   "execution_count": 313,
   "metadata": {
    "scrolled": true
   },
   "outputs": [
    {
     "name": "stdout",
     "output_type": "stream",
     "text": [
      "guess a number between 1 to 100 : 45\n",
      "too high\n",
      "guess again : 40\n",
      "too low\n",
      "guess again: 41\n",
      "too low\n",
      "guess again: 42\n",
      "too low\n",
      "guess again: 44\n",
      "too high\n",
      "guess again : 43\n",
      "you win , and you guessed this number in 6 times\n"
     ]
    }
   ],
   "source": [
    "winning_number=43\n",
    "guess=1\n",
    "number=int(input(\"guess a number between 1 to 100 : \"))\n",
    "game_over=False\n",
    "while not game_over:\n",
    "    if number==winning_number:\n",
    "        print(f\"you win , and you guessed this number in {guess} times\")\n",
    "        game_over=True\n",
    "    else:\n",
    "        if number<winning_number:\n",
    "            print(\"too low\")\n",
    "            guess +=1\n",
    "            number=int(input(\"guess again: \"))\n",
    "        else:\n",
    "            print(\"too high\")\n",
    "            guess+=1\n",
    "            number=int(input(\"guess again : \"))\n",
    "            "
   ]
  },
  {
   "cell_type": "code",
   "execution_count": 315,
   "metadata": {},
   "outputs": [
    {
     "name": "stdout",
     "output_type": "stream",
     "text": [
      "guess a number between 1 to 100 : 56\n",
      "too high\n",
      "guess again : 45\n",
      "too high\n",
      "guess again : 34\n",
      "too high\n",
      "guess again : 30\n",
      "too low\n",
      "guess again: 33\n",
      "you win , and you guessed this number in 5 times\n"
     ]
    }
   ],
   "source": [
    "import random\n",
    "\n",
    "\n",
    "winning_number=random.randint(1,100)\n",
    "guess=1\n",
    "number=int(input(\"guess a number between 1 to 100 : \"))\n",
    "game_over=False\n",
    "while not game_over:\n",
    "    if number==winning_number:\n",
    "        print(f\"you win , and you guessed this number in {guess} times\")\n",
    "        game_over=True\n",
    "    else:\n",
    "        if number<winning_number:\n",
    "            print(\"too low\")\n",
    "            guess +=1\n",
    "            number=int(input(\"guess again: \"))\n",
    "        else:\n",
    "            print(\"too high\")\n",
    "            guess+=1\n",
    "            number=int(input(\"guess again : \"))\n",
    "            "
   ]
  },
  {
   "cell_type": "code",
   "execution_count": 316,
   "metadata": {},
   "outputs": [
    {
     "name": "stdout",
     "output_type": "stream",
     "text": [
      "guess a number between 1 to 100 : 56\n",
      "too high\n",
      "guess again : 40\n",
      "too low\n",
      "guess again : 42\n",
      "too low\n",
      "guess again : 43\n",
      "you win , and you guessed this number in 4 times\n"
     ]
    }
   ],
   "source": [
    "winning_number=43\n",
    "guess=1\n",
    "number=int(input(\"guess a number between 1 to 100 : \"))\n",
    "game_over=False\n",
    "while not game_over:\n",
    "    if number==winning_number:\n",
    "        print(f\"you win , and you guessed this number in {guess} times\")\n",
    "        game_over=True\n",
    "    else:\n",
    "        if number<winning_number:\n",
    "            print(\"too low\")\n",
    "        else:\n",
    "            print(\"too high\")\n",
    "        guess+=1\n",
    "        number=int(input(\"guess again : \"))\n",
    "            "
   ]
  },
  {
   "cell_type": "code",
   "execution_count": 317,
   "metadata": {},
   "outputs": [
    {
     "name": "stdout",
     "output_type": "stream",
     "text": [
      "guess a number between 1 to 100 : 40\n",
      "too low\n",
      "guess again: 41\n",
      "too low\n",
      "guess again: 44\n",
      "too high\n",
      "guess again : 43\n",
      "you win , and you guessed this number in 4 times\n"
     ]
    }
   ],
   "source": [
    "winning_number=43\n",
    "guess=1\n",
    "number=int(input(\"guess a number between 1 to 100 : \"))\n",
    "game_over=False\n",
    "while True:\n",
    "    if number==winning_number:\n",
    "        print(f\"you win , and you guessed this number in {guess} times\")\n",
    "        break\n",
    "    else:\n",
    "        if number<winning_number:\n",
    "            print(\"too low\")\n",
    "            guess +=1\n",
    "            number=int(input(\"guess again: \"))\n",
    "        else:\n",
    "            print(\"too high\")\n",
    "            guess+=1\n",
    "            number=int(input(\"guess again : \"))\n",
    "            "
   ]
  },
  {
   "cell_type": "code",
   "execution_count": 321,
   "metadata": {},
   "outputs": [
    {
     "name": "stdout",
     "output_type": "stream",
     "text": [
      "10\n",
      "9\n",
      "8\n",
      "7\n",
      "6\n",
      "5\n",
      "4\n",
      "3\n",
      "2\n",
      "1\n"
     ]
    }
   ],
   "source": [
    "for i in range(10,0,-1):\n",
    "    print(i)"
   ]
  },
  {
   "cell_type": "code",
   "execution_count": 323,
   "metadata": {},
   "outputs": [
    {
     "name": "stdout",
     "output_type": "stream",
     "text": [
      "k\n",
      "r\n",
      "i\n",
      "s\n",
      "h\n",
      "n\n",
      "a\n",
      " \n"
     ]
    }
   ],
   "source": [
    "name=\"krishna \"\n",
    "for i in range(len(name)):\n",
    "    print(name[i])"
   ]
  },
  {
   "cell_type": "code",
   "execution_count": 324,
   "metadata": {},
   "outputs": [
    {
     "name": "stdout",
     "output_type": "stream",
     "text": [
      "k\n",
      "r\n",
      "i\n",
      "s\n",
      "h\n",
      "n\n",
      "a\n",
      " \n"
     ]
    }
   ],
   "source": [
    "for i in name:\n",
    "    print(i)"
   ]
  },
  {
   "cell_type": "code",
   "execution_count": 326,
   "metadata": {},
   "outputs": [
    {
     "name": "stdout",
     "output_type": "stream",
     "text": [
      "Enter a number: 23455\n",
      "19\n"
     ]
    }
   ],
   "source": [
    "num=input(\"Enter a number: \")\n",
    "total=0\n",
    "for i in num:\n",
    "    total+=int(i)\n",
    "print(total)"
   ]
  },
  {
   "cell_type": "markdown",
   "metadata": {},
   "source": [
    "function question practice"
   ]
  },
  {
   "cell_type": "code",
   "execution_count": 327,
   "metadata": {},
   "outputs": [],
   "source": [
    "def add_two(a,b):\n",
    "    return a+b\n"
   ]
  },
  {
   "cell_type": "code",
   "execution_count": 328,
   "metadata": {},
   "outputs": [
    {
     "data": {
      "text/plain": [
       "9"
      ]
     },
     "execution_count": 328,
     "metadata": {},
     "output_type": "execute_result"
    }
   ],
   "source": [
    "add_two(4,5)"
   ]
  },
  {
   "cell_type": "code",
   "execution_count": 329,
   "metadata": {},
   "outputs": [
    {
     "name": "stdout",
     "output_type": "stream",
     "text": [
      "11\n"
     ]
    }
   ],
   "source": [
    "print(add_two(5,6))"
   ]
  },
  {
   "cell_type": "code",
   "execution_count": 335,
   "metadata": {},
   "outputs": [],
   "source": [
    "def last_char(name):\n",
    "    return name[-1]\n"
   ]
  },
  {
   "cell_type": "code",
   "execution_count": 334,
   "metadata": {},
   "outputs": [
    {
     "name": "stdout",
     "output_type": "stream",
     "text": [
      "Enter your name : krishna \n"
     ]
    },
    {
     "data": {
      "text/plain": [
       "'a'"
      ]
     },
     "execution_count": 334,
     "metadata": {},
     "output_type": "execute_result"
    }
   ],
   "source": [
    "last_char(input(\"Enter your name : \"))"
   ]
  },
  {
   "cell_type": "code",
   "execution_count": 337,
   "metadata": {},
   "outputs": [
    {
     "data": {
      "text/plain": [
       "'a'"
      ]
     },
     "execution_count": 337,
     "metadata": {},
     "output_type": "execute_result"
    }
   ],
   "source": [
    "last_char(\"krishna\")"
   ]
  },
  {
   "cell_type": "code",
   "execution_count": 339,
   "metadata": {},
   "outputs": [],
   "source": [
    "def odd_number(num):\n",
    "    return num%2!=0"
   ]
  },
  {
   "cell_type": "code",
   "execution_count": 340,
   "metadata": {},
   "outputs": [
    {
     "data": {
      "text/plain": [
       "True"
      ]
     },
     "execution_count": 340,
     "metadata": {},
     "output_type": "execute_result"
    }
   ],
   "source": [
    "odd_number(3)"
   ]
  },
  {
   "cell_type": "code",
   "execution_count": 341,
   "metadata": {},
   "outputs": [
    {
     "data": {
      "text/plain": [
       "False"
      ]
     },
     "execution_count": 341,
     "metadata": {},
     "output_type": "execute_result"
    }
   ],
   "source": [
    "odd_number(56)"
   ]
  },
  {
   "cell_type": "code",
   "execution_count": 342,
   "metadata": {},
   "outputs": [],
   "source": [
    "def odd_even(num):\n",
    "    if num%2== 0:\n",
    "        return \"Even\"\n",
    "    else:\n",
    "        return \"odd\""
   ]
  },
  {
   "cell_type": "code",
   "execution_count": 343,
   "metadata": {},
   "outputs": [
    {
     "data": {
      "text/plain": [
       "'Even'"
      ]
     },
     "execution_count": 343,
     "metadata": {},
     "output_type": "execute_result"
    }
   ],
   "source": [
    "odd_even(6)"
   ]
  },
  {
   "cell_type": "code",
   "execution_count": 344,
   "metadata": {},
   "outputs": [
    {
     "data": {
      "text/plain": [
       "'odd'"
      ]
     },
     "execution_count": 344,
     "metadata": {},
     "output_type": "execute_result"
    }
   ],
   "source": [
    "odd_even(45)"
   ]
  },
  {
   "cell_type": "code",
   "execution_count": 346,
   "metadata": {},
   "outputs": [],
   "source": [
    "def greater_num(a,b):\n",
    "    if a>b:\n",
    "        return \"a is greater number\"\n",
    "    return \" b is greater number\""
   ]
  },
  {
   "cell_type": "code",
   "execution_count": 347,
   "metadata": {},
   "outputs": [
    {
     "data": {
      "text/plain": [
       "' b is greater number'"
      ]
     },
     "execution_count": 347,
     "metadata": {},
     "output_type": "execute_result"
    }
   ],
   "source": [
    "greater_num(5,6)"
   ]
  },
  {
   "cell_type": "code",
   "execution_count": 354,
   "metadata": {},
   "outputs": [
    {
     "name": "stdout",
     "output_type": "stream",
     "text": [
      "Enter a first number : 567\n",
      "Enter a second number : 5574\n",
      "5574 is greater\n"
     ]
    }
   ],
   "source": [
    "def larger_num(a,b):\n",
    "    if a>b:\n",
    "        return a\n",
    "    else:\n",
    "        return b\n",
    "    \n",
    "num1=int(input(\"Enter a first number : \"))\n",
    "num2=int(input(\"Enter a second number : \"))\n",
    "bigger=larger_num(num1,num2)\n",
    "print(f\"{bigger} is greater\")"
   ]
  },
  {
   "cell_type": "code",
   "execution_count": 349,
   "metadata": {},
   "outputs": [
    {
     "name": "stdout",
     "output_type": "stream",
     "text": [
      "5\n"
     ]
    }
   ],
   "source": [
    "larger_num(4,5)"
   ]
  },
  {
   "cell_type": "code",
   "execution_count": 350,
   "metadata": {},
   "outputs": [
    {
     "name": "stdout",
     "output_type": "stream",
     "text": [
      "6\n",
      "2\n"
     ]
    }
   ],
   "source": [
    "larger_num(6,2)"
   ]
  },
  {
   "cell_type": "code",
   "execution_count": 371,
   "metadata": {},
   "outputs": [
    {
     "name": "stdout",
     "output_type": "stream",
     "text": [
      "Enter 1st number: 45\n",
      "Enter 2nd number: 47\n",
      "Enter 3rd number: 32\n",
      "47 is greater\n"
     ]
    }
   ],
   "source": [
    "def greater_numbers(a,b,c):\n",
    "    if a>b and a>c:\n",
    "        return a\n",
    "    elif b>c and b>a:\n",
    "        return b\n",
    "    else:\n",
    "        return c\n",
    "num1=int(input(\"Enter 1st number: \"))\n",
    "num2=int(input(\"Enter 2nd number: \"))\n",
    "num3=int(input(\"Enter 3rd number: \"))\n",
    "bigger=greater_numbers(num1,num2,num3)\n",
    "print(f\"{bigger} is greater\")"
   ]
  },
  {
   "cell_type": "markdown",
   "metadata": {},
   "source": [
    "def greater_numbers(a,b,c):\n",
    "    if a>b:\n",
    "        return a\n",
    "    elif b>c:\n",
    "        return b\n",
    "    return c\n",
    "num1=int(input(\"Enter 1st number: \"))\n",
    "num2=int(input(\"Enter 2nd number: \"))\n",
    "num3=int(input(\"Enter 3rd number: \"))\n",
    "bigger=greater_numbers(num1,num2,num3)\n",
    "print(f\"{bigger} is greater\")"
   ]
  },
  {
   "cell_type": "code",
   "execution_count": 372,
   "metadata": {
    "scrolled": true
   },
   "outputs": [
    {
     "name": "stdout",
     "output_type": "stream",
     "text": [
      "Enter 1st number: 24\n",
      "Enter 2nd number: 3\n",
      "Enter 3rd number: 45\n",
      "45 is greater\n"
     ]
    }
   ],
   "source": [
    "def greater_numbers(a,b,c):\n",
    "    if a>b and a>c:\n",
    "        return a\n",
    "    elif b>c and b>a:\n",
    "        return b\n",
    "    return c\n",
    "num1=int(input(\"Enter 1st number: \"))\n",
    "num2=int(input(\"Enter 2nd number: \"))\n",
    "num3=int(input(\"Enter 3rd number: \"))\n",
    "bigger=greater_numbers(num1,num2,num3)\n",
    "print(f\"{bigger} is greater\")"
   ]
  },
  {
   "cell_type": "code",
   "execution_count": 373,
   "metadata": {},
   "outputs": [],
   "source": [
    "def new_greatest(a,b,c):\n",
    "    bigger=larger_num(a,b)\n",
    "    return larger_num(bigger,c)\n"
   ]
  },
  {
   "cell_type": "code",
   "execution_count": 374,
   "metadata": {},
   "outputs": [
    {
     "data": {
      "text/plain": [
       "45"
      ]
     },
     "execution_count": 374,
     "metadata": {},
     "output_type": "execute_result"
    }
   ],
   "source": [
    "new_greatest(34,32,45\n",
    "            )"
   ]
  },
  {
   "cell_type": "code",
   "execution_count": 375,
   "metadata": {},
   "outputs": [],
   "source": [
    "def new_greatest(a,b,c):\n",
    "    return larger_num(larger_num(a,b),c)"
   ]
  },
  {
   "cell_type": "code",
   "execution_count": 376,
   "metadata": {},
   "outputs": [
    {
     "data": {
      "text/plain": [
       "52"
      ]
     },
     "execution_count": 376,
     "metadata": {},
     "output_type": "execute_result"
    }
   ],
   "source": [
    "new_greatest(45,4,52\n",
    "            )"
   ]
  },
  {
   "cell_type": "code",
   "execution_count": 378,
   "metadata": {},
   "outputs": [
    {
     "ename": "SyntaxError",
     "evalue": "invalid syntax (<ipython-input-378-67bc118ed4ee>, line 2)",
     "output_type": "error",
     "traceback": [
      "\u001b[1;36m  File \u001b[1;32m\"<ipython-input-378-67bc118ed4ee>\"\u001b[1;36m, line \u001b[1;32m2\u001b[0m\n\u001b[1;33m    if name[::]=name[::-1]:\u001b[0m\n\u001b[1;37m               ^\u001b[0m\n\u001b[1;31mSyntaxError\u001b[0m\u001b[1;31m:\u001b[0m invalid syntax\n"
     ]
    }
   ],
   "source": [
    "name=\"madam\"\n",
    "if name[::]=name[::-1]:\n",
    "    print(\"this is palindrom\")\n",
    "else:\n",
    "    print(\"This is not palindrom\")"
   ]
  },
  {
   "cell_type": "code",
   "execution_count": 382,
   "metadata": {},
   "outputs": [],
   "source": [
    "def is_palindrom(word):\n",
    "    \n",
    "    reversed_word=word[::-1]\n",
    "    if word==reversed_word:\n",
    "        return True\n",
    "    else:\n",
    "        return False\n",
    "    "
   ]
  },
  {
   "cell_type": "code",
   "execution_count": 384,
   "metadata": {},
   "outputs": [
    {
     "data": {
      "text/plain": [
       "True"
      ]
     },
     "execution_count": 384,
     "metadata": {},
     "output_type": "execute_result"
    }
   ],
   "source": [
    "is_palindrom(\"madam\")"
   ]
  },
  {
   "cell_type": "code",
   "execution_count": 385,
   "metadata": {},
   "outputs": [
    {
     "data": {
      "text/plain": [
       "False"
      ]
     },
     "execution_count": 385,
     "metadata": {},
     "output_type": "execute_result"
    }
   ],
   "source": [
    "is_palindrom(\"krishna\")"
   ]
  },
  {
   "cell_type": "code",
   "execution_count": 386,
   "metadata": {},
   "outputs": [
    {
     "data": {
      "text/plain": [
       "False"
      ]
     },
     "execution_count": 386,
     "metadata": {},
     "output_type": "execute_result"
    }
   ],
   "source": [
    "is_palindrom(\"manish\")"
   ]
  },
  {
   "cell_type": "code",
   "execution_count": 387,
   "metadata": {},
   "outputs": [
    {
     "data": {
      "text/plain": [
       "True"
      ]
     },
     "execution_count": 387,
     "metadata": {},
     "output_type": "execute_result"
    }
   ],
   "source": [
    "is_palindrom(\"naman\")"
   ]
  },
  {
   "cell_type": "code",
   "execution_count": 388,
   "metadata": {},
   "outputs": [],
   "source": [
    "def is_palindrom(word):\n",
    "    if word==word[::-1]:\n",
    "        return True\n",
    "    return False\n",
    "    "
   ]
  },
  {
   "cell_type": "code",
   "execution_count": 389,
   "metadata": {},
   "outputs": [
    {
     "data": {
      "text/plain": [
       "True"
      ]
     },
     "execution_count": 389,
     "metadata": {},
     "output_type": "execute_result"
    }
   ],
   "source": [
    "is_palindrom(\"naman\")"
   ]
  },
  {
   "cell_type": "code",
   "execution_count": 391,
   "metadata": {},
   "outputs": [
    {
     "name": "stdout",
     "output_type": "stream",
     "text": [
      "1,2,3,4,5,6,7,8,9,10,"
     ]
    }
   ],
   "source": [
    "for i in range(1,11):\n",
    "    print(i,end=\",\")"
   ]
  },
  {
   "cell_type": "code",
   "execution_count": null,
   "metadata": {},
   "outputs": [],
   "source": [
    "'''\n",
    "print(value, ..., sep=' ', end='\\n', file=sys.stdout, flush=False)\n",
    "\n",
    "Prints the values to a stream, or to sys.stdout by default.\n",
    "Optional keyword arguments:\n",
    "file:  a file-like object (stream); defaults to the current sys.stdout.\n",
    "sep:   string inserted between values, default a space.\n",
    "end:   string appended after the last value, default a newline.\n",
    "flush: whether to forcibly flush the stream.\n",
    "Type:      builtin_function_or_method\n",
    "\n",
    "\n",
    "'''"
   ]
  },
  {
   "cell_type": "markdown",
   "metadata": {},
   "source": [
    "fibonacci squence"
   ]
  },
  {
   "cell_type": "code",
   "execution_count": 398,
   "metadata": {},
   "outputs": [
    {
     "name": "stdout",
     "output_type": "stream",
     "text": [
      "Fibonacci Sequence\n",
      "0 1 1 2 3 5 8 13 21 34 "
     ]
    }
   ],
   "source": [
    "def fibonacci(num):\n",
    "    \"\"\"\n",
    "    Recursive function to print fibonacci sequence\n",
    "    \"\"\"\n",
    "    return num if num<=1 else fibonacci(num-1)+fibonacci(num-2)\n",
    "\n",
    "print(\"Fibonacci Sequence\")\n",
    "for num in range(nterm):\n",
    "    print(fibonacci(num),end=\" \")\n",
    "nterm=10"
   ]
  },
  {
   "cell_type": "code",
   "execution_count": 408,
   "metadata": {},
   "outputs": [
    {
     "name": "stdout",
     "output_type": "stream",
     "text": [
      "Enter a number : 30\n",
      "0 1 1 2 3 5 8 13 21 34 55 89 144 233 377 610 987 1597 2584 4181 6765 10946 17711 28657 46368 75025 121393 196418 317811 514229 "
     ]
    }
   ],
   "source": [
    "# Method 1:\n",
    "def fibonacci(num):\n",
    "    \"\"\"\n",
    "    Recursive function to print fibonacci sequence\n",
    "    \"\"\"\n",
    "    return num if num<=1 else fibonacci(num-1)+fibonacci(num-2)\n",
    "\n",
    "for num in range(int(input(\"Enter a number : \"))):\n",
    "    print(fibonacci(num),end=\" \")"
   ]
  },
  {
   "cell_type": "code",
   "execution_count": 409,
   "metadata": {},
   "outputs": [],
   "source": [
    "# Method 2\n",
    "def fibonacci_seq(n):\n",
    "    a=0\n",
    "    b=1\n",
    "    if n==1:\n",
    "        print(a)\n",
    "    elif n==2:\n",
    "        print(a,b)\n",
    "    else:\n",
    "        print(a,b,end=\" \")\n",
    "        for i in range(n-2):\n",
    "            c=a+b\n",
    "            a=b\n",
    "            b=c\n",
    "            print(b,end=\" \")\n",
    "            "
   ]
  },
  {
   "cell_type": "code",
   "execution_count": 415,
   "metadata": {},
   "outputs": [
    {
     "name": "stdout",
     "output_type": "stream",
     "text": [
      "0 1 1 2 3 5 8 13 21 34 55 89 144 233 377 "
     ]
    }
   ],
   "source": [
    "fibonacci_seq(15\n",
    "             )"
   ]
  },
  {
   "cell_type": "code",
   "execution_count": 419,
   "metadata": {},
   "outputs": [
    {
     "name": "stdout",
     "output_type": "stream",
     "text": [
      "0 1 1 2 3 5 8 13 21 34 "
     ]
    }
   ],
   "source": [
    "# Method 2\n",
    "def fibonacci_seq(n):\n",
    "    a=0;b=1\n",
    "    if n==1:\n",
    "        print(a)\n",
    "    elif n==2:\n",
    "        print(a,b)\n",
    "    else:\n",
    "        print(a,b,end=\" \")\n",
    "        for i in range(n-2):\n",
    "            c=a+b;a=b;b=c\n",
    "            print(b,end=\" \")\n",
    "fibonacci_seq(10\n",
    "             )            "
   ]
  },
  {
   "cell_type": "code",
   "execution_count": 425,
   "metadata": {},
   "outputs": [],
   "source": [
    "def user_info(first_name,last_name,age):\n",
    "    print(f\"Your first name is {first_name}\")\n",
    "    print(f\"Your last name is {last_name}\")\n",
    "    print(f\"Your age is {age}\")"
   ]
  },
  {
   "cell_type": "code",
   "execution_count": 426,
   "metadata": {},
   "outputs": [
    {
     "name": "stdout",
     "output_type": "stream",
     "text": [
      "Your first name is krishna\n",
      "Your last name is kumar\n",
      "Your age is 18\n"
     ]
    }
   ],
   "source": [
    "user_info('krishna','kumar',18)"
   ]
  },
  {
   "cell_type": "code",
   "execution_count": 433,
   "metadata": {},
   "outputs": [],
   "source": [
    "def user_info1(first_name,last_name=\"unknow\",age=None):\n",
    "    print(f\"Your first name is {first_name}\")\n",
    "    print(f\"Your last name is {last_name}\")\n",
    "    print(f\"Your age is {age}\")"
   ]
  },
  {
   "cell_type": "code",
   "execution_count": 435,
   "metadata": {
    "scrolled": true
   },
   "outputs": [
    {
     "name": "stdout",
     "output_type": "stream",
     "text": [
      "Your first name is krishna\n",
      "Your last name is unknow\n",
      "Your age is None\n"
     ]
    }
   ],
   "source": [
    "user_info1(\"krishna\")"
   ]
  },
  {
   "cell_type": "markdown",
   "metadata": {},
   "source": [
    "# Scope (Global variable and local variable)"
   ]
  },
  {
   "cell_type": "code",
   "execution_count": 440,
   "metadata": {},
   "outputs": [],
   "source": [
    "# x=5\n",
    "def fuc():\n",
    "#     global x\n",
    "    y=7\n",
    "    return y"
   ]
  },
  {
   "cell_type": "code",
   "execution_count": 441,
   "metadata": {},
   "outputs": [
    {
     "data": {
      "text/plain": [
       "7"
      ]
     },
     "execution_count": 441,
     "metadata": {},
     "output_type": "execute_result"
    }
   ],
   "source": [
    "fuc()"
   ]
  },
  {
   "cell_type": "code",
   "execution_count": 442,
   "metadata": {},
   "outputs": [
    {
     "ename": "NameError",
     "evalue": "name 'y' is not defined",
     "output_type": "error",
     "traceback": [
      "\u001b[1;31m---------------------------------------------------------------------------\u001b[0m",
      "\u001b[1;31mNameError\u001b[0m                                 Traceback (most recent call last)",
      "\u001b[1;32m<ipython-input-442-9063a9f0e032>\u001b[0m in \u001b[0;36m<module>\u001b[1;34m\u001b[0m\n\u001b[1;32m----> 1\u001b[1;33m \u001b[0my\u001b[0m\u001b[1;33m\u001b[0m\u001b[1;33m\u001b[0m\u001b[0m\n\u001b[0m",
      "\u001b[1;31mNameError\u001b[0m: name 'y' is not defined"
     ]
    }
   ],
   "source": [
    "y"
   ]
  },
  {
   "cell_type": "code",
   "execution_count": 449,
   "metadata": {},
   "outputs": [],
   "source": [
    "y=5\n",
    "def fuc1():\n",
    "    global y\n",
    "    y=7\n",
    "    return y"
   ]
  },
  {
   "cell_type": "code",
   "execution_count": 444,
   "metadata": {},
   "outputs": [
    {
     "data": {
      "text/plain": [
       "7"
      ]
     },
     "execution_count": 444,
     "metadata": {},
     "output_type": "execute_result"
    }
   ],
   "source": [
    "fuc1()"
   ]
  },
  {
   "cell_type": "code",
   "execution_count": 451,
   "metadata": {},
   "outputs": [
    {
     "name": "stdout",
     "output_type": "stream",
     "text": [
      "5\n",
      "7\n",
      "7\n"
     ]
    }
   ],
   "source": [
    "print(y)\n",
    "print(fuc1())\n",
    "print(y)"
   ]
  },
  {
   "cell_type": "markdown",
   "metadata": {},
   "source": [
    "# List"
   ]
  },
  {
   "cell_type": "code",
   "execution_count": 452,
   "metadata": {},
   "outputs": [],
   "source": [
    "# data structure\n",
    "# ordered collection of items\n",
    "# we can store anything in lists like int, float,string ect..\n",
    "num=[1,2,3,3.4]"
   ]
  },
  {
   "cell_type": "code",
   "execution_count": 453,
   "metadata": {},
   "outputs": [
    {
     "data": {
      "text/plain": [
       "[1, 2, 3, 3.4]"
      ]
     },
     "execution_count": 453,
     "metadata": {},
     "output_type": "execute_result"
    }
   ],
   "source": [
    "num"
   ]
  },
  {
   "cell_type": "code",
   "execution_count": 454,
   "metadata": {},
   "outputs": [],
   "source": [
    "mix=[2,3,4,\"krishna\",5.4,None]"
   ]
  },
  {
   "cell_type": "code",
   "execution_count": 455,
   "metadata": {},
   "outputs": [
    {
     "data": {
      "text/plain": [
       "[2, 3, 4, 'krishna', 5.4, None]"
      ]
     },
     "execution_count": 455,
     "metadata": {},
     "output_type": "execute_result"
    }
   ],
   "source": [
    "mix"
   ]
  },
  {
   "cell_type": "code",
   "execution_count": 457,
   "metadata": {},
   "outputs": [],
   "source": [
    "a=[0,1,2,3,4,4,5,6,6]\n",
    "a[1:]=\"krishna\""
   ]
  },
  {
   "cell_type": "code",
   "execution_count": 458,
   "metadata": {},
   "outputs": [
    {
     "data": {
      "text/plain": [
       "[0, 'k', 'r', 'i', 's', 'h', 'n', 'a']"
      ]
     },
     "execution_count": 458,
     "metadata": {},
     "output_type": "execute_result"
    }
   ],
   "source": [
    "a"
   ]
  },
  {
   "cell_type": "markdown",
   "metadata": {},
   "source": [
    "loop in list"
   ]
  },
  {
   "cell_type": "code",
   "execution_count": 465,
   "metadata": {},
   "outputs": [
    {
     "name": "stdout",
     "output_type": "stream",
     "text": [
      "apple,orange,banana,grapes,['apple', 'orange', 'banana', 'grapes'] "
     ]
    }
   ],
   "source": [
    "fruits=[\"apple\",'orange','banana','grapes']\n",
    "for fruit in fruits:\n",
    "    print(fruit,end=\",\")\n",
    "    \n",
    "print(fruits, end=\" \")"
   ]
  },
  {
   "cell_type": "code",
   "execution_count": 467,
   "metadata": {},
   "outputs": [
    {
     "name": "stdout",
     "output_type": "stream",
     "text": [
      "1 2 3 4 5 6 7 8 9 "
     ]
    }
   ],
   "source": [
    "# list inside list using looping \n",
    "matrix=[[1,2,3],[4,5,6],[7,8,9]]\n",
    "for sublist in matrix:\n",
    "    for i in sublist:\n",
    "        print(i,end=\" \")"
   ]
  },
  {
   "cell_type": "code",
   "execution_count": 471,
   "metadata": {},
   "outputs": [
    {
     "name": "stdout",
     "output_type": "stream",
     "text": [
      "[0, 1, 2, 3, 4, 5, 6, 7, 8, 9, 10, 11, 12, 13, 14, 15, 16, 17, 18, 19, 20, 21, 22, 23, 24, 25, 26, 27, 28, 29] "
     ]
    }
   ],
   "source": [
    "number=list(range(0,30))\n",
    "print(number,end=\" \")"
   ]
  },
  {
   "cell_type": "code",
   "execution_count": 469,
   "metadata": {},
   "outputs": [
    {
     "data": {
      "text/plain": [
       "[1, 2, 3, 4, 5, 6, 7, 8, 9]"
      ]
     },
     "execution_count": 469,
     "metadata": {},
     "output_type": "execute_result"
    }
   ],
   "source": [
    "number"
   ]
  },
  {
   "cell_type": "code",
   "execution_count": 472,
   "metadata": {},
   "outputs": [],
   "source": [
    "def negative_list(l):\n",
    "    negative=[]\n",
    "    for i in l:\n",
    "        negative.append(-i)\n",
    "    return negative"
   ]
  },
  {
   "cell_type": "code",
   "execution_count": 473,
   "metadata": {},
   "outputs": [
    {
     "data": {
      "text/plain": [
       "[-1, -2, -3, -4, -5, -6, -7, -7, -8]"
      ]
     },
     "execution_count": 473,
     "metadata": {},
     "output_type": "execute_result"
    }
   ],
   "source": [
    "negative_list([1,2,3,4,5,6,7,7,8])"
   ]
  },
  {
   "cell_type": "code",
   "execution_count": 478,
   "metadata": {},
   "outputs": [],
   "source": [
    "def reverse_list(l):\n",
    "    reverse=[]\n",
    "    for i in l:\n",
    "        reverse.append(l[::-1])\n",
    "    return reverse"
   ]
  },
  {
   "cell_type": "code",
   "execution_count": 479,
   "metadata": {},
   "outputs": [
    {
     "data": {
      "text/plain": [
       "[[6, 5, 4, 3, 2, 1],\n",
       " [6, 5, 4, 3, 2, 1],\n",
       " [6, 5, 4, 3, 2, 1],\n",
       " [6, 5, 4, 3, 2, 1],\n",
       " [6, 5, 4, 3, 2, 1],\n",
       " [6, 5, 4, 3, 2, 1]]"
      ]
     },
     "execution_count": 479,
     "metadata": {},
     "output_type": "execute_result"
    }
   ],
   "source": [
    "reverse_list([1,2,3,4,5,6])"
   ]
  },
  {
   "cell_type": "code",
   "execution_count": 480,
   "metadata": {},
   "outputs": [
    {
     "data": {
      "text/plain": [
       "[[6, 5, 4, 3, 2, 1]]"
      ]
     },
     "execution_count": 480,
     "metadata": {},
     "output_type": "execute_result"
    }
   ],
   "source": [
    "def reverse_list(l):\n",
    "    reverse=[]\n",
    "    reverse.append(l[::-1])\n",
    "    return reverse\n",
    "reverse_list([1,2,3,4,5,6])"
   ]
  },
  {
   "cell_type": "code",
   "execution_count": 486,
   "metadata": {},
   "outputs": [
    {
     "name": "stdout",
     "output_type": "stream",
     "text": [
      "None\n"
     ]
    }
   ],
   "source": [
    "def reverse(l):\n",
    "    return l.reverse()\n",
    "print(reverse([1,2,3,4,5]))"
   ]
  },
  {
   "cell_type": "code",
   "execution_count": 487,
   "metadata": {},
   "outputs": [
    {
     "name": "stdout",
     "output_type": "stream",
     "text": [
      "[5, 4, 3, 2, 1]\n"
     ]
    }
   ],
   "source": [
    "def reverse(l):\n",
    "    l.reverse()\n",
    "    return l\n",
    "print(reverse([1,2,3,4,5]))"
   ]
  },
  {
   "cell_type": "code",
   "execution_count": 488,
   "metadata": {},
   "outputs": [
    {
     "data": {
      "text/plain": [
       "[5, 4, 3, 2, 1]"
      ]
     },
     "execution_count": 488,
     "metadata": {},
     "output_type": "execute_result"
    }
   ],
   "source": [
    "# ///////////////// revised ///////////\n",
    "def reversed_list(l):\n",
    "    r_list=[]\n",
    "    for i in range(len(l)):\n",
    "        popped_item=l.pop()\n",
    "        r_list.append(popped_item)\n",
    "    return r_list\n",
    "reversed_list([1,2,3,4,5])"
   ]
  },
  {
   "cell_type": "code",
   "execution_count": null,
   "metadata": {},
   "outputs": [],
   "source": []
  },
  {
   "cell_type": "code",
   "execution_count": 481,
   "metadata": {},
   "outputs": [
    {
     "data": {
      "text/plain": [
       "[1, 4, 9, 16, 25, 36]"
      ]
     },
     "execution_count": 481,
     "metadata": {},
     "output_type": "execute_result"
    }
   ],
   "source": [
    "def squred_list(l):\n",
    "    squred=[]\n",
    "    for i in l:\n",
    "        squred.append(i**2)\n",
    "    return squred\n",
    "squred_list([1,2,3,4,5,6])"
   ]
  },
  {
   "cell_type": "code",
   "execution_count": 484,
   "metadata": {},
   "outputs": [
    {
     "data": {
      "text/plain": [
       "81"
      ]
     },
     "execution_count": 484,
     "metadata": {},
     "output_type": "execute_result"
    }
   ],
   "source": [
    "def squred_num(l):\n",
    "    return i**2\n",
    "squred_num([1,2,3,4,5])"
   ]
  },
  {
   "cell_type": "code",
   "execution_count": 490,
   "metadata": {},
   "outputs": [
    {
     "data": {
      "text/plain": [
       "['cba', 'vut', 'zyx']"
      ]
     },
     "execution_count": 490,
     "metadata": {},
     "output_type": "execute_result"
    }
   ],
   "source": [
    "word=[\"abc\",\"tuv\",\"xyz\"]\n",
    "def reverse_word(l):\n",
    "    r_word=[]\n",
    "    for i in l:\n",
    "        r_word.append(i[::-1])\n",
    "    return r_word\n",
    "reverse_word(word)\n",
    "            \n",
    "            "
   ]
  },
  {
   "cell_type": "code",
   "execution_count": 491,
   "metadata": {},
   "outputs": [
    {
     "data": {
      "text/plain": [
       "[[], False, True, False, True, False, True, False, True]"
      ]
     },
     "execution_count": 491,
     "metadata": {},
     "output_type": "execute_result"
    }
   ],
   "source": [
    "lst=[1,2,3,4,5,6,7]\n",
    "def filter_odd_even(l):\n",
    "    filter_list=[]\n",
    "    for i in lst:\n",
    "        filter_list.append(i%2==0)\n",
    "    else:\n",
    "        filter_list.append(i%2!=0)\n",
    "    return filter_list\n",
    "filter_odd_even(lst)"
   ]
  },
  {
   "cell_type": "code",
   "execution_count": 492,
   "metadata": {},
   "outputs": [
    {
     "data": {
      "text/plain": [
       "[[1, 3, 5, 7], [2, 4, 6]]"
      ]
     },
     "execution_count": 492,
     "metadata": {},
     "output_type": "execute_result"
    }
   ],
   "source": [
    "lst=[1,2,3,4,5,6,7]\n",
    "def filter_odd_even(l):\n",
    "    odd_nums=[]\n",
    "    even_nums=[]\n",
    "    for i in l:\n",
    "        if i%2==0:\n",
    "            even_nums.append(i)\n",
    "        else:\n",
    "            odd_nums.append(i)\n",
    "    output=[odd_nums,even_nums] \n",
    "    return output\n",
    "filter_odd_even(lst)"
   ]
  },
  {
   "cell_type": "code",
   "execution_count": 493,
   "metadata": {},
   "outputs": [
    {
     "data": {
      "text/plain": [
       "[[23, 23, 213, 45, 653, 7555, 7455, 23, 65475, 43345], [24, 34, 356]]"
      ]
     },
     "execution_count": 493,
     "metadata": {},
     "output_type": "execute_result"
    }
   ],
   "source": [
    "filter_odd_even([23,24,34,23,213,45,356,653,7555,7455,23,65475,43345])"
   ]
  },
  {
   "cell_type": "code",
   "execution_count": 500,
   "metadata": {},
   "outputs": [
    {
     "data": {
      "text/plain": [
       "[1, 2, 3, 4]"
      ]
     },
     "execution_count": 500,
     "metadata": {},
     "output_type": "execute_result"
    }
   ],
   "source": [
    "def common_element(a,b):\n",
    "    common_finder=[]\n",
    "    for i in a:\n",
    "        if i in b:\n",
    "            common_finder.append(i)\n",
    "    return common_finder\n",
    "common_element([1,2,3,4,5],[2,3,4,1])"
   ]
  },
  {
   "cell_type": "code",
   "execution_count": null,
   "metadata": {},
   "outputs": [],
   "source": [
    "a=[1,2,3,5,6,7,8]\n",
    "b=[2,4,6,7,8,9,0,4]\n",
    "\n",
    "def common_element(a,b):\n",
    "    common_finder=[]\n",
    "    for i in a:\n",
    "        if i in b:\n",
    "            common_finder.append(i)\n",
    "    return common_finder\n",
    "common_element(a,b)"
   ]
  },
  {
   "cell_type": "code",
   "execution_count": 1,
   "metadata": {},
   "outputs": [
    {
     "data": {
      "text/plain": [
       "[1, 2, 3, 4]"
      ]
     },
     "execution_count": 1,
     "metadata": {},
     "output_type": "execute_result"
    }
   ],
   "source": [
    "def common_element(a,b):\n",
    "    common_finder=[]\n",
    "    for i in a:\n",
    "        if i in b:\n",
    "            common_finder.append(i)\n",
    "    return common_finder\n",
    "common_element([1,2,3,4,5],[2,3,4,1])"
   ]
  },
  {
   "cell_type": "code",
   "execution_count": null,
   "metadata": {},
   "outputs": [],
   "source": [
    "import numpy as np"
   ]
  },
  {
   "cell_type": "code",
   "execution_count": 3,
   "metadata": {},
   "outputs": [
    {
     "data": {
      "text/plain": [
       "43"
      ]
     },
     "execution_count": 3,
     "metadata": {},
     "output_type": "execute_result"
    }
   ],
   "source": [
    "numbers=[34,45,2]\n",
    "def greatest_def(l):\n",
    "    return max(l)-min(l)\n",
    "greatest_def(numbers)"
   ]
  },
  {
   "cell_type": "markdown",
   "metadata": {},
   "source": [
    "Tuple"
   ]
  },
  {
   "cell_type": "code",
   "execution_count": null,
   "metadata": {},
   "outputs": [],
   "source": [
    "# Tuples are immutable\n",
    "# tuples are ordered collection of itiems\n",
    "# tuples can store any data types\n",
    "# we cannot  change the value of tuples  once it create\n",
    "# but can delete ,add data from list which present in the tuple \n",
    "# no append,no pop,no insert,no remove\n",
    "#only count and index\n",
    "# function(min(),max(),len(),sum())\n",
    "# tuple is faster than list\n"
   ]
  },
  {
   "cell_type": "code",
   "execution_count": 4,
   "metadata": {},
   "outputs": [],
   "source": [
    "# function returning two value\n",
    "def func(int1,int2):\n",
    "    add=int1+int2\n",
    "    multiply=int1*int2\n",
    "    return add,multiply"
   ]
  },
  {
   "cell_type": "code",
   "execution_count": 5,
   "metadata": {},
   "outputs": [
    {
     "data": {
      "text/plain": [
       "(11, 30)"
      ]
     },
     "execution_count": 5,
     "metadata": {},
     "output_type": "execute_result"
    }
   ],
   "source": [
    "# Its gives add and multilpy in tuple \n",
    "func(5,6) "
   ]
  },
  {
   "cell_type": "code",
   "execution_count": 6,
   "metadata": {},
   "outputs": [
    {
     "name": "stdout",
     "output_type": "stream",
     "text": [
      "11\n",
      "30\n"
     ]
    }
   ],
   "source": [
    "# if we want to print separate add, multiply\n",
    "add,multiply=func(5,6)\n",
    "print(add)\n",
    "print(multiply)"
   ]
  },
  {
   "cell_type": "code",
   "execution_count": 7,
   "metadata": {},
   "outputs": [
    {
     "data": {
      "text/plain": [
       "(1, 2, 3, 4, 5, 6, 7, 8, 9, 10)"
      ]
     },
     "execution_count": 7,
     "metadata": {},
     "output_type": "execute_result"
    }
   ],
   "source": [
    "nums=tuple(range(1,11))\n",
    "nums"
   ]
  },
  {
   "cell_type": "code",
   "execution_count": 9,
   "metadata": {},
   "outputs": [
    {
     "data": {
      "text/plain": [
       "range(1, 10)"
      ]
     },
     "execution_count": 9,
     "metadata": {},
     "output_type": "execute_result"
    }
   ],
   "source": [
    "a=range(1,10)\n",
    "a"
   ]
  },
  {
   "cell_type": "code",
   "execution_count": 10,
   "metadata": {},
   "outputs": [
    {
     "data": {
      "text/plain": [
       "[1, 2, 3, 4, 5, 6, 7, 8, 9, 10]"
      ]
     },
     "execution_count": 10,
     "metadata": {},
     "output_type": "execute_result"
    }
   ],
   "source": [
    "list(nums)"
   ]
  },
  {
   "cell_type": "code",
   "execution_count": 11,
   "metadata": {},
   "outputs": [
    {
     "data": {
      "text/plain": [
       "'(1, 2, 3, 4, 5, 6, 7, 8, 9, 10)'"
      ]
     },
     "execution_count": 11,
     "metadata": {},
     "output_type": "execute_result"
    }
   ],
   "source": [
    "str(nums)"
   ]
  },
  {
   "cell_type": "code",
   "execution_count": 12,
   "metadata": {},
   "outputs": [
    {
     "data": {
      "text/plain": [
       "4"
      ]
     },
     "execution_count": 12,
     "metadata": {},
     "output_type": "execute_result"
    }
   ],
   "source": [
    "mixed=(1,2,3,4,[1,2,3,4])\n",
    "mixed[4].pop() "
   ]
  },
  {
   "cell_type": "markdown",
   "metadata": {},
   "source": [
    "Dictionary"
   ]
  },
  {
   "cell_type": "code",
   "execution_count": 31,
   "metadata": {},
   "outputs": [
    {
     "data": {
      "text/plain": [
       "{'name': 'krishna', 'age': 24, 'greeting': 'Good morning'}"
      ]
     },
     "execution_count": 31,
     "metadata": {},
     "output_type": "execute_result"
    }
   ],
   "source": [
    "user_info={\"name\":\"krishna\",\"age\":24,\"greeting\":\"Good morning\"}\n",
    "user_info"
   ]
  },
  {
   "cell_type": "code",
   "execution_count": 21,
   "metadata": {},
   "outputs": [
    {
     "name": "stdout",
     "output_type": "stream",
     "text": [
      "present\n"
     ]
    }
   ],
   "source": [
    "if \"name\" in user_info:\n",
    "    print('present')"
   ]
  },
  {
   "cell_type": "code",
   "execution_count": 24,
   "metadata": {},
   "outputs": [
    {
     "name": "stdout",
     "output_type": "stream",
     "text": [
      "present\n"
     ]
    }
   ],
   "source": [
    "if \"krishna\"in user_info.values():\n",
    "    print(\"present\")\n",
    "else:\n",
    "    print(\"not present\")"
   ]
  },
  {
   "cell_type": "code",
   "execution_count": 27,
   "metadata": {},
   "outputs": [
    {
     "name": "stdout",
     "output_type": "stream",
     "text": [
      "krishna\n",
      "24\n",
      "Good morning\n"
     ]
    }
   ],
   "source": [
    "for i in user_info.values():\n",
    "    print(i)"
   ]
  },
  {
   "cell_type": "code",
   "execution_count": 28,
   "metadata": {},
   "outputs": [
    {
     "name": "stdout",
     "output_type": "stream",
     "text": [
      "name\n",
      "age\n",
      "great\n"
     ]
    }
   ],
   "source": [
    "for i in user_info.keys():\n",
    "    print(i)"
   ]
  },
  {
   "cell_type": "code",
   "execution_count": 32,
   "metadata": {},
   "outputs": [
    {
     "name": "stdout",
     "output_type": "stream",
     "text": [
      " key is name and value is krishna\n",
      " key is age and value is 24\n",
      " key is greeting and value is Good morning\n"
     ]
    }
   ],
   "source": [
    "for key,value in user_info.items():\n",
    "    print(f\" key is {key} and value is {value}\")"
   ]
  },
  {
   "cell_type": "code",
   "execution_count": 34,
   "metadata": {},
   "outputs": [
    {
     "name": "stdout",
     "output_type": "stream",
     "text": [
      " key is name and value is krishna\n",
      " key is age and value is 24\n",
      " key is greeting and value is Good morning\n"
     ]
    }
   ],
   "source": [
    "for i, j in user_info.items():\n",
    "    print(f\" key is {i} and value is {j}\")"
   ]
  },
  {
   "cell_type": "code",
   "execution_count": 35,
   "metadata": {},
   "outputs": [
    {
     "name": "stdout",
     "output_type": "stream",
     "text": [
      "{'name': 'unknown', 'age': 'unknown', 'height': 'unknown'}\n"
     ]
    }
   ],
   "source": [
    "# fromkeys method\n",
    "a=dict.fromkeys(('name','age','height'),'unknown')\n",
    "print(a)"
   ]
  },
  {
   "cell_type": "code",
   "execution_count": 37,
   "metadata": {},
   "outputs": [
    {
     "name": "stdout",
     "output_type": "stream",
     "text": [
      "{0: 'unknown', 1: 'unknown', 2: 'unknown', 3: 'unknown', 4: 'unknown', 5: 'unknown', 6: 'unknown', 7: 'unknown', 8: 'unknown', 9: 'unknown'}\n"
     ]
    }
   ],
   "source": [
    "b=dict.fromkeys(range(10),'unknown')\n",
    "print(b)"
   ]
  },
  {
   "cell_type": "code",
   "execution_count": 38,
   "metadata": {},
   "outputs": [
    {
     "name": "stdout",
     "output_type": "stream",
     "text": [
      "unknown\n"
     ]
    }
   ],
   "source": [
    "# getkeys method\n",
    "print(a.get(\"name\"))"
   ]
  },
  {
   "cell_type": "code",
   "execution_count": 39,
   "metadata": {},
   "outputs": [
    {
     "data": {
      "text/plain": [
       "'unknown'"
      ]
     },
     "execution_count": 39,
     "metadata": {},
     "output_type": "execute_result"
    }
   ],
   "source": [
    "a[\"name\"]"
   ]
  },
  {
   "cell_type": "code",
   "execution_count": 40,
   "metadata": {},
   "outputs": [
    {
     "ename": "KeyError",
     "evalue": "'names'",
     "output_type": "error",
     "traceback": [
      "\u001b[1;31m---------------------------------------------------------------------------\u001b[0m",
      "\u001b[1;31mKeyError\u001b[0m                                  Traceback (most recent call last)",
      "\u001b[1;32m<ipython-input-40-0208f3c7b334>\u001b[0m in \u001b[0;36m<module>\u001b[1;34m\u001b[0m\n\u001b[1;32m----> 1\u001b[1;33m \u001b[0ma\u001b[0m\u001b[1;33m[\u001b[0m\u001b[1;34m\"names\"\u001b[0m\u001b[1;33m]\u001b[0m\u001b[1;33m\u001b[0m\u001b[1;33m\u001b[0m\u001b[0m\n\u001b[0m",
      "\u001b[1;31mKeyError\u001b[0m: 'names'"
     ]
    }
   ],
   "source": [
    "a[\"names\"]"
   ]
  },
  {
   "cell_type": "code",
   "execution_count": 43,
   "metadata": {},
   "outputs": [
    {
     "name": "stdout",
     "output_type": "stream",
     "text": [
      "None\n"
     ]
    }
   ],
   "source": [
    "print(a.get(\"names\"))"
   ]
  },
  {
   "cell_type": "code",
   "execution_count": 42,
   "metadata": {},
   "outputs": [
    {
     "data": {
      "text/plain": [
       "{'name': 'unknown', 'age': 'unknown', 'height': 'unknown'}"
      ]
     },
     "execution_count": 42,
     "metadata": {},
     "output_type": "execute_result"
    }
   ],
   "source": [
    "a"
   ]
  },
  {
   "cell_type": "code",
   "execution_count": 44,
   "metadata": {},
   "outputs": [
    {
     "name": "stdout",
     "output_type": "stream",
     "text": [
      "present\n"
     ]
    }
   ],
   "source": [
    "if \"name\" in a:\n",
    "    print(\"present\")\n",
    "else:\n",
    "    print(\"Not present\")"
   ]
  },
  {
   "cell_type": "code",
   "execution_count": 45,
   "metadata": {},
   "outputs": [
    {
     "name": "stdout",
     "output_type": "stream",
     "text": [
      "present\n"
     ]
    }
   ],
   "source": [
    "if a.get(\"name\"):\n",
    "    print(\"present\")\n",
    "else:\n",
    "    print(\"Not present\")"
   ]
  },
  {
   "cell_type": "code",
   "execution_count": 46,
   "metadata": {},
   "outputs": [
    {
     "name": "stdout",
     "output_type": "stream",
     "text": [
      "Not present\n"
     ]
    }
   ],
   "source": [
    "if a.get(\"names\"):\n",
    "    print(\"present\")\n",
    "else:\n",
    "    print(\"Not present\")"
   ]
  },
  {
   "cell_type": "code",
   "execution_count": 47,
   "metadata": {},
   "outputs": [
    {
     "data": {
      "text/plain": [
       "{'name': 'unknown', 'age': 'unknown', 'height': 'unknown'}"
      ]
     },
     "execution_count": 47,
     "metadata": {},
     "output_type": "execute_result"
    }
   ],
   "source": [
    "a"
   ]
  },
  {
   "cell_type": "code",
   "execution_count": 48,
   "metadata": {},
   "outputs": [],
   "source": [
    "a=b"
   ]
  },
  {
   "cell_type": "code",
   "execution_count": 52,
   "metadata": {},
   "outputs": [
    {
     "name": "stdout",
     "output_type": "stream",
     "text": [
      "True\n"
     ]
    }
   ],
   "source": [
    "\n",
    "print(a is b)"
   ]
  },
  {
   "cell_type": "code",
   "execution_count": 56,
   "metadata": {},
   "outputs": [
    {
     "data": {
      "text/plain": [
       "{1: 1, 2: 8, 3: 27, 4: 64, 5: 125, 6: 216, 7: 343, 8: 512, 9: 729, 10: 1000}"
      ]
     },
     "execution_count": 56,
     "metadata": {},
     "output_type": "execute_result"
    }
   ],
   "source": [
    "def cube_finder(n):\n",
    "    cube={}\n",
    "    for i in range(1,n+1):\n",
    "        cube[i]=i**3\n",
    "    return cube\n",
    "cube_finder(10)"
   ]
  },
  {
   "cell_type": "code",
   "execution_count": 58,
   "metadata": {},
   "outputs": [
    {
     "name": "stdout",
     "output_type": "stream",
     "text": [
      "{1: 1, 2: 4, 3: 9, 4: 16, 5: 25, 6: 36, 7: 49, 8: 64, 9: 81, 10: 100}\n"
     ]
    }
   ],
   "source": [
    "def sqaure_finder(n):\n",
    "    squared={}\n",
    "    for i in range(1,n+1):\n",
    "        squared[i]=i**2\n",
    "    return squared\n",
    "print(sqaure_finder(10))"
   ]
  },
  {
   "cell_type": "code",
   "execution_count": 60,
   "metadata": {
    "scrolled": true
   },
   "outputs": [
    {
     "data": {
      "text/plain": [
       "{'k': 2,\n",
       " 'r': 2,\n",
       " 'i': 1,\n",
       " 's': 1,\n",
       " 'h': 1,\n",
       " 'n': 1,\n",
       " 'a': 2,\n",
       " ' ': 1,\n",
       " 'u': 1,\n",
       " 'm': 1}"
      ]
     },
     "execution_count": 60,
     "metadata": {},
     "output_type": "execute_result"
    }
   ],
   "source": [
    "# Word Counter\n",
    "def word_counter(s):\n",
    "    count={}\n",
    "    for char in s:\n",
    "        count[char]=s.count(char)\n",
    "    return count\n",
    "word_counter(\"krishna kumar\")"
   ]
  },
  {
   "cell_type": "code",
   "execution_count": 61,
   "metadata": {},
   "outputs": [
    {
     "name": "stdout",
     "output_type": "stream",
     "text": [
      "What is your name : krishna \n",
      "What is your age : 23\n",
      "your fav_movies separated by commam1,m2\n",
      "your fav_songs separated by commas1,s2\n",
      "{'name': 'krishna ', 'age': 23, 'fav_movies': ['m1', 'm2'], 'fav_songs': ['s1', 's2']}\n"
     ]
    }
   ],
   "source": [
    "user={}\n",
    "name=input(\"What is your name : \")\n",
    "age=int(input(\"What is your age : \"))\n",
    "fav_movies=input(\"your fav_movies separated by comma\").split(\",\")\n",
    "fav_songs=input(\"your fav_songs separated by comma\").split(\",\")\n",
    "\n",
    "user[\"name\"]=name\n",
    "user[\"age\"]=age\n",
    "user[\"fav_movies\"]=fav_movies\n",
    "user[\"fav_songs\"]=fav_songs\n",
    "print(user)"
   ]
  },
  {
   "cell_type": "code",
   "execution_count": 63,
   "metadata": {},
   "outputs": [
    {
     "name": "stdout",
     "output_type": "stream",
     "text": [
      "What is your name : krishna kuamr\n",
      "What is your age : 22\n",
      "your fav_movies separated by commamovies1\n",
      "your fav_songs separated by commasong1,song2\n",
      "{'name': 'krishna kuamr', 'age': 22, 'fav_movies': ['movies1'], 'fav_songs': ['song1', 'song2']}\n",
      "name:krishna kuamr\n",
      "age:22\n",
      "fav_movies:['movies1']\n",
      "fav_songs:['song1', 'song2']\n"
     ]
    }
   ],
   "source": [
    "user={}\n",
    "name=input(\"What is your name : \")\n",
    "age=int(input(\"What is your age : \"))\n",
    "fav_movies=input(\"your fav_movies separated by comma\").split(\",\")\n",
    "fav_songs=input(\"your fav_songs separated by comma\").split(\",\")\n",
    "\n",
    "user[\"name\"]=name\n",
    "user[\"age\"]=age\n",
    "user[\"fav_movies\"]=fav_movies\n",
    "user[\"fav_songs\"]=fav_songs\n",
    "print(user)\n",
    "for key,value in user.items():\n",
    "    print(f\"{key}:{value}\")"
   ]
  },
  {
   "cell_type": "markdown",
   "metadata": {},
   "source": [
    "set"
   ]
  },
  {
   "cell_type": "code",
   "execution_count": null,
   "metadata": {},
   "outputs": [],
   "source": [
    "# we cannot store list or dictonary in set "
   ]
  },
  {
   "cell_type": "code",
   "execution_count": 64,
   "metadata": {},
   "outputs": [
    {
     "name": "stdout",
     "output_type": "stream",
     "text": [
      "{1, 2, 3, 4, 5, 6, 7, 23}\n"
     ]
    }
   ],
   "source": [
    "l=[1,2,3,4,4,4,5,5,6,6,7,5,4,23,4]\n",
    "s=set(l)\n",
    "print(s)"
   ]
  },
  {
   "cell_type": "code",
   "execution_count": 65,
   "metadata": {},
   "outputs": [
    {
     "data": {
      "text/plain": [
       "[1, 2, 3, 4, 5, 6, 7, 23]"
      ]
     },
     "execution_count": 65,
     "metadata": {},
     "output_type": "execute_result"
    }
   ],
   "source": [
    "list(s)"
   ]
  },
  {
   "cell_type": "code",
   "execution_count": 66,
   "metadata": {},
   "outputs": [],
   "source": [
    "s.discard(23)"
   ]
  },
  {
   "cell_type": "code",
   "execution_count": 67,
   "metadata": {},
   "outputs": [
    {
     "data": {
      "text/plain": [
       "{1, 2, 3, 4, 5, 6, 7}"
      ]
     },
     "execution_count": 67,
     "metadata": {},
     "output_type": "execute_result"
    }
   ],
   "source": [
    "s"
   ]
  },
  {
   "cell_type": "markdown",
   "metadata": {},
   "source": [
    "# list comprehension"
   ]
  },
  {
   "cell_type": "code",
   "execution_count": null,
   "metadata": {},
   "outputs": [],
   "source": [
    "# with help of list comprehension we can create list in one line"
   ]
  },
  {
   "cell_type": "code",
   "execution_count": 70,
   "metadata": {},
   "outputs": [
    {
     "name": "stdout",
     "output_type": "stream",
     "text": [
      "[1, 4, 9, 16, 25, 36, 49, 64, 81, 100]\n"
     ]
    }
   ],
   "source": [
    "# create a list of sqaure  from 1 to 10\n",
    "square=[]\n",
    "for i in range(1,11):\n",
    "    square.append(i**2)\n",
    "print(square)"
   ]
  },
  {
   "cell_type": "code",
   "execution_count": 72,
   "metadata": {},
   "outputs": [
    {
     "data": {
      "text/plain": [
       "[1, 4, 9, 16, 25, 36, 49, 64, 81, 100]"
      ]
     },
     "execution_count": 72,
     "metadata": {},
     "output_type": "execute_result"
    }
   ],
   "source": [
    "square1=[i**2 for i in range(1,11)]\n",
    "square1"
   ]
  },
  {
   "cell_type": "code",
   "execution_count": 73,
   "metadata": {},
   "outputs": [
    {
     "name": "stdout",
     "output_type": "stream",
     "text": [
      "[-1, -2, -3, -4, -5, -6, -7, -8, -9, -10]\n"
     ]
    }
   ],
   "source": [
    "negative=[]\n",
    "for i in range(1,11):\n",
    "    negative.append(-i)\n",
    "print(negative)"
   ]
  },
  {
   "cell_type": "code",
   "execution_count": 76,
   "metadata": {},
   "outputs": [
    {
     "data": {
      "text/plain": [
       "[-1, -2, -3, -4, -5, -6, -7, -8, -9, -10]"
      ]
     },
     "execution_count": 76,
     "metadata": {},
     "output_type": "execute_result"
    }
   ],
   "source": [
    "negative1=[-i for i in range(1,11)]\n",
    "negative1"
   ]
  },
  {
   "cell_type": "code",
   "execution_count": 77,
   "metadata": {},
   "outputs": [
    {
     "name": "stdout",
     "output_type": "stream",
     "text": [
      "['k', 'm', 'r', 'm']\n"
     ]
    }
   ],
   "source": [
    "names=[\"krishna \",\"mohit\",'rohit',\"manish\"]\n",
    "new_list=[]\n",
    "for name in names:\n",
    "    new_list.append(name[0])\n",
    "print(new_list)"
   ]
  },
  {
   "cell_type": "code",
   "execution_count": 78,
   "metadata": {},
   "outputs": [
    {
     "data": {
      "text/plain": [
       "['k', 'm', 'r', 'm']"
      ]
     },
     "execution_count": 78,
     "metadata": {},
     "output_type": "execute_result"
    }
   ],
   "source": [
    "new_list1=[name[0] for name in names]\n",
    "new_list1"
   ]
  },
  {
   "cell_type": "code",
   "execution_count": 79,
   "metadata": {},
   "outputs": [
    {
     "data": {
      "text/plain": [
       "['cba', 'vut', 'zyx']"
      ]
     },
     "execution_count": 79,
     "metadata": {},
     "output_type": "execute_result"
    }
   ],
   "source": [
    "l=[\"abc\",\"tuv\",\"xyz\"]\n",
    "reverse_list=[i[::-1] for i in l]\n",
    "reverse_list"
   ]
  },
  {
   "cell_type": "code",
   "execution_count": 80,
   "metadata": {},
   "outputs": [
    {
     "data": {
      "text/plain": [
       "['cba', 'vut', 'zyx']"
      ]
     },
     "execution_count": 80,
     "metadata": {},
     "output_type": "execute_result"
    }
   ],
   "source": [
    "def reverse_string(l):\n",
    "    return [i[::-1] for i in l]\n",
    "reverse_string(l)"
   ]
  },
  {
   "cell_type": "code",
   "execution_count": 81,
   "metadata": {},
   "outputs": [
    {
     "data": {
      "text/plain": [
       "[2, 4, 6, 8, 10]"
      ]
     },
     "execution_count": 81,
     "metadata": {},
     "output_type": "execute_result"
    }
   ],
   "source": [
    "# list comprehension with if statement\n",
    "numbers=list(range(1,11))\n",
    "even_num=[i for i in numbers if i%2==0]\n",
    "even_num"
   ]
  },
  {
   "cell_type": "code",
   "execution_count": 82,
   "metadata": {},
   "outputs": [
    {
     "data": {
      "text/plain": [
       "[2, 4, 6, 8, 10]"
      ]
     },
     "execution_count": 82,
     "metadata": {},
     "output_type": "execute_result"
    }
   ],
   "source": [
    "even_nums=[i for i in range(1,11) if i%2==0]\n",
    "even_nums"
   ]
  },
  {
   "cell_type": "code",
   "execution_count": 83,
   "metadata": {},
   "outputs": [
    {
     "data": {
      "text/plain": [
       "[1, 3, 5, 7, 9]"
      ]
     },
     "execution_count": 83,
     "metadata": {},
     "output_type": "execute_result"
    }
   ],
   "source": [
    "odd_num=[i for i in range(1,11) if i%2!=0]\n",
    "odd_num"
   ]
  },
  {
   "cell_type": "code",
   "execution_count": 84,
   "metadata": {},
   "outputs": [
    {
     "data": {
      "text/plain": [
       "['1', '2', '3.3', '5.5']"
      ]
     },
     "execution_count": 84,
     "metadata": {},
     "output_type": "execute_result"
    }
   ],
   "source": [
    "def num_to_string(l):\n",
    "    return [str(i) for i in l if (type(i)==int or type(i)==float)]\n",
    "num_to_string([False,True,1,2,3.3,5.5])"
   ]
  },
  {
   "cell_type": "code",
   "execution_count": 88,
   "metadata": {},
   "outputs": [
    {
     "data": {
      "text/plain": [
       "[-1, 4, -3, 8, -5, 12, -7, 16, -9, 20]"
      ]
     },
     "execution_count": 88,
     "metadata": {},
     "output_type": "execute_result"
    }
   ],
   "source": [
    "# list comprehension with if else\n",
    "new_list=[i*2 if (i%2==0) else -i for i in range(1,11) ]\n",
    "new_list\n"
   ]
  },
  {
   "cell_type": "code",
   "execution_count": 89,
   "metadata": {},
   "outputs": [
    {
     "data": {
      "text/plain": [
       "[[1, 2, 3], [1, 2, 3], [1, 2, 3]]"
      ]
     },
     "execution_count": 89,
     "metadata": {},
     "output_type": "execute_result"
    }
   ],
   "source": [
    "# list comprehension in nested list\n",
    "nested_com=[[i for i in range(1,4)] for j in range(3)]\n",
    "nested_com"
   ]
  },
  {
   "cell_type": "code",
   "execution_count": 90,
   "metadata": {},
   "outputs": [
    {
     "data": {
      "text/plain": [
       "[[1, 2, 3], [1, 2, 3], [1, 2, 3]]"
      ]
     },
     "execution_count": 90,
     "metadata": {},
     "output_type": "execute_result"
    }
   ],
   "source": [
    "# list comprehension in nested list\n",
    "nested_com=[[i for i in range(1,4)] for i in range(3)]\n",
    "nested_com"
   ]
  },
  {
   "cell_type": "code",
   "execution_count": 91,
   "metadata": {},
   "outputs": [
    {
     "data": {
      "text/plain": [
       "{1: 1, 2: 4, 3: 9, 4: 16, 5: 25, 6: 36, 7: 49, 8: 64, 9: 81, 10: 100}"
      ]
     },
     "execution_count": 91,
     "metadata": {},
     "output_type": "execute_result"
    }
   ],
   "source": [
    "# dictionary comprehension \n",
    "squared={i:i**2 for i in range(1,11)}\n",
    "squared"
   ]
  },
  {
   "cell_type": "code",
   "execution_count": 93,
   "metadata": {},
   "outputs": [
    {
     "data": {
      "text/plain": [
       "{'square of 1 is': 1,\n",
       " 'square of 2 is': 4,\n",
       " 'square of 3 is': 9,\n",
       " 'square of 4 is': 16,\n",
       " 'square of 5 is': 25,\n",
       " 'square of 6 is': 36,\n",
       " 'square of 7 is': 49,\n",
       " 'square of 8 is': 64,\n",
       " 'square of 9 is': 81,\n",
       " 'square of 10 is': 100}"
      ]
     },
     "execution_count": 93,
     "metadata": {},
     "output_type": "execute_result"
    }
   ],
   "source": [
    "squared={f\"square of {i} is\":i**2 for i in range(1,11)}\n",
    "squared"
   ]
  },
  {
   "cell_type": "code",
   "execution_count": 94,
   "metadata": {},
   "outputs": [
    {
     "name": "stdout",
     "output_type": "stream",
     "text": [
      "square of 1 is:1\n",
      "square of 2 is:4\n",
      "square of 3 is:9\n",
      "square of 4 is:16\n",
      "square of 5 is:25\n",
      "square of 6 is:36\n",
      "square of 7 is:49\n",
      "square of 8 is:64\n",
      "square of 9 is:81\n",
      "square of 10 is:100\n"
     ]
    }
   ],
   "source": [
    "for k,v in squared.items():\n",
    "    print(f\"{k}:{v}\")"
   ]
  },
  {
   "cell_type": "code",
   "execution_count": 95,
   "metadata": {},
   "outputs": [
    {
     "name": "stdout",
     "output_type": "stream",
     "text": [
      "{'k': 1, 'r': 1, 'i': 1, 's': 1, 'h': 1, 'n': 1, 'a': 1}\n"
     ]
    }
   ],
   "source": [
    "string=\"krishna\"\n",
    "word_count={char:string.count(char) for char in string}\n",
    "print(word_count)"
   ]
  },
  {
   "cell_type": "code",
   "execution_count": 97,
   "metadata": {},
   "outputs": [
    {
     "data": {
      "text/plain": [
       "{1: 'odd',\n",
       " 2: 'even',\n",
       " 3: 'odd',\n",
       " 4: 'even',\n",
       " 5: 'odd',\n",
       " 6: 'even',\n",
       " 7: 'odd',\n",
       " 8: 'even',\n",
       " 9: 'odd',\n",
       " 10: 'even'}"
      ]
     },
     "execution_count": 97,
     "metadata": {},
     "output_type": "execute_result"
    }
   ],
   "source": [
    "# dictionary comprehension with if else\n",
    "odd_even={i:(\"even\" if i%2==0 else 'odd') for i in range(1,11)}\n",
    "odd_even"
   ]
  },
  {
   "cell_type": "code",
   "execution_count": 99,
   "metadata": {},
   "outputs": [
    {
     "name": "stdout",
     "output_type": "stream",
     "text": [
      "{64, 1, 4, 36, 100, 9, 16, 49, 81, 25}\n"
     ]
    }
   ],
   "source": [
    "# set comprehension\n",
    "s={k**2 for k in range(1,11)}\n",
    "print(s)"
   ]
  },
  {
   "cell_type": "code",
   "execution_count": 100,
   "metadata": {},
   "outputs": [],
   "source": [
    "first={name[0] for name in [\"krishna \",\"mohit\",\"rohit\"]}"
   ]
  },
  {
   "cell_type": "code",
   "execution_count": 101,
   "metadata": {},
   "outputs": [
    {
     "data": {
      "text/plain": [
       "{'k', 'm', 'r'}"
      ]
     },
     "execution_count": 101,
     "metadata": {},
     "output_type": "execute_result"
    }
   ],
   "source": [
    "first"
   ]
  },
  {
   "cell_type": "raw",
   "metadata": {},
   "source": []
  },
  {
   "cell_type": "markdown",
   "metadata": {},
   "source": [
    "args operator"
   ]
  },
  {
   "cell_type": "code",
   "execution_count": 102,
   "metadata": {},
   "outputs": [
    {
     "name": "stdout",
     "output_type": "stream",
     "text": [
      "13\n"
     ]
    }
   ],
   "source": [
    "\n",
    "def all_total(*args):\n",
    "    total=0\n",
    "    for num in args:\n",
    "        total+=num\n",
    "    return total\n",
    "print(all_total(1,2,3,3,4))"
   ]
  },
  {
   "cell_type": "code",
   "execution_count": null,
   "metadata": {},
   "outputs": [],
   "source": [
    "def all_total(*args):\n",
    "    total=0\n",
    "    for num in args:\n",
    "        total+=num\n",
    "    return total\n",
    "print(all_total(1,2,3,3,4))"
   ]
  },
  {
   "cell_type": "code",
   "execution_count": 103,
   "metadata": {},
   "outputs": [
    {
     "data": {
      "text/plain": [
       "36"
      ]
     },
     "execution_count": 103,
     "metadata": {},
     "output_type": "execute_result"
    }
   ],
   "source": [
    "# *args with normal parameter\n",
    "def multiply_nums(*args):\n",
    "    multiply=1\n",
    "    for i in args:\n",
    "        multiply*=i\n",
    "    return multiply\n",
    "multiply_nums(2,3,6)\n"
   ]
  },
  {
   "cell_type": "code",
   "execution_count": 104,
   "metadata": {},
   "outputs": [],
   "source": [
    "def to_power(num,*args):\n",
    "    if args:\n",
    "        return [i**num for i in args]\n",
    "    else:\n",
    "        return \"You didn't pass any args \""
   ]
  },
  {
   "cell_type": "code",
   "execution_count": 106,
   "metadata": {},
   "outputs": [
    {
     "data": {
      "text/plain": [
       "[4, 16, 36, 49]"
      ]
     },
     "execution_count": 106,
     "metadata": {},
     "output_type": "execute_result"
    }
   ],
   "source": [
    "nums=[2,4,6,7]\n",
    "to_power(2,*nums)"
   ]
  },
  {
   "cell_type": "code",
   "execution_count": 107,
   "metadata": {},
   "outputs": [
    {
     "data": {
      "text/plain": [
       "\"You didn't pass any args \""
      ]
     },
     "execution_count": 107,
     "metadata": {},
     "output_type": "execute_result"
    }
   ],
   "source": [
    "to_power(2)"
   ]
  },
  {
   "cell_type": "markdown",
   "metadata": {},
   "source": [
    "# **kwargs(keyword argument)"
   ]
  },
  {
   "cell_type": "code",
   "execution_count": 108,
   "metadata": {},
   "outputs": [
    {
     "name": "stdout",
     "output_type": "stream",
     "text": [
      "{'first_name': 'krishna', 'last_name': 'kumar'}\n"
     ]
    }
   ],
   "source": [
    "# kwagrs as parameter\n",
    "def func(**kwargs):\n",
    "    print(kwargs)\n",
    "func(first_name=\"krishna\",last_name=\"kumar\")"
   ]
  },
  {
   "cell_type": "markdown",
   "metadata": {},
   "source": [
    "#"
   ]
  },
  {
   "cell_type": "code",
   "execution_count": 112,
   "metadata": {},
   "outputs": [
    {
     "name": "stdout",
     "output_type": "stream",
     "text": [
      "first_name:krishna\n",
      "last_name:kumar\n"
     ]
    }
   ],
   "source": [
    " def func1(**kwargs):\n",
    "    for k,v in kwargs.items():\n",
    "        print(f\"{k}:{v}\")\n",
    "func1(first_name=\"krishna\",last_name=\"kumar\")"
   ]
  },
  {
   "cell_type": "code",
   "execution_count": null,
   "metadata": {},
   "outputs": [],
   "source": [
    "# function with all parameter\n",
    "# PADK (always maintain order)\n",
    "# { parameters\n",
    "# *args\n",
    "# defult parameters\n",
    "# **kwargs }\n",
    "\n"
   ]
  },
  {
   "cell_type": "code",
   "execution_count": 113,
   "metadata": {},
   "outputs": [
    {
     "name": "stdout",
     "output_type": "stream",
     "text": [
      "krishna \n",
      "(1, 2, 3)\n",
      "unknown\n",
      "{'a': 1, 'b': 2}\n"
     ]
    }
   ],
   "source": [
    "def func(name,*args,last_name=\"unknown\",**kwargs):\n",
    "    print(name)\n",
    "    print(args)\n",
    "    print(last_name)\n",
    "    print(kwargs)\n",
    "func(\"krishna \",1,2,3,a=1,b=2)"
   ]
  },
  {
   "cell_type": "code",
   "execution_count": 118,
   "metadata": {},
   "outputs": [
    {
     "name": "stdout",
     "output_type": "stream",
     "text": [
      "['Anhsirk', 'Tihom']\n"
     ]
    }
   ],
   "source": [
    "def func(l,**kwargs):\n",
    "    if kwargs.get(\"reverse_str\")==True:\n",
    "        return [name[::-1].title() for name in l]\n",
    "    else:\n",
    "        return [name.title() for name in l]\n",
    "names=['krishna','mohit']\n",
    "print(func(names,reverse_str=True))"
   ]
  },
  {
   "cell_type": "markdown",
   "metadata": {},
   "source": [
    "# Lambda expression(anonyous fuction)"
   ]
  },
  {
   "cell_type": "code",
   "execution_count": 119,
   "metadata": {},
   "outputs": [
    {
     "data": {
      "text/plain": [
       "5"
      ]
     },
     "execution_count": 119,
     "metadata": {},
     "output_type": "execute_result"
    }
   ],
   "source": [
    "def add(a,b):\n",
    "    return a+b\n",
    "add(2,3)"
   ]
  },
  {
   "cell_type": "code",
   "execution_count": 122,
   "metadata": {},
   "outputs": [
    {
     "name": "stdout",
     "output_type": "stream",
     "text": [
      "5\n",
      "<function <lambda> at 0x0000020085D19158>\n"
     ]
    }
   ],
   "source": [
    "add2=lambda a,b:a+b\n",
    "print(add2(2,3))\n",
    "print(add2)"
   ]
  },
  {
   "cell_type": "code",
   "execution_count": 124,
   "metadata": {},
   "outputs": [
    {
     "name": "stdout",
     "output_type": "stream",
     "text": [
      "42\n",
      "<function <lambda> at 0x0000020085D19510>\n"
     ]
    }
   ],
   "source": [
    "multipy=lambda a,b:a*b\n",
    "print(multipy(6,7))\n",
    "print(multipy)"
   ]
  },
  {
   "cell_type": "code",
   "execution_count": 125,
   "metadata": {},
   "outputs": [
    {
     "name": "stdout",
     "output_type": "stream",
     "text": [
      "nahsirk\n"
     ]
    }
   ],
   "source": [
    "reverse=lambda a:a[::-1]\n",
    "print(reverse(\"krishan\"))"
   ]
  },
  {
   "cell_type": "code",
   "execution_count": 126,
   "metadata": {},
   "outputs": [
    {
     "name": "stdout",
     "output_type": "stream",
     "text": [
      "n\n"
     ]
    }
   ],
   "source": [
    "# lambda practice\n",
    "last_char=lambda s:s[-1]\n",
    "print(last_char(\"krishan\"))"
   ]
  },
  {
   "cell_type": "code",
   "execution_count": 127,
   "metadata": {},
   "outputs": [
    {
     "data": {
      "text/plain": [
       "True"
      ]
     },
     "execution_count": 127,
     "metadata": {},
     "output_type": "execute_result"
    }
   ],
   "source": [
    "func=lambda s: True if len(s)>5 else False\n",
    "func(\"krishna\")"
   ]
  },
  {
   "cell_type": "code",
   "execution_count": 128,
   "metadata": {},
   "outputs": [
    {
     "data": {
      "text/plain": [
       "True"
      ]
     },
     "execution_count": 128,
     "metadata": {},
     "output_type": "execute_result"
    }
   ],
   "source": [
    "func1=lambda s:len(s)>5\n",
    "func1(\"krishna \")"
   ]
  },
  {
   "cell_type": "markdown",
   "metadata": {},
   "source": [
    "# enumerate function"
   ]
  },
  {
   "cell_type": "code",
   "execution_count": null,
   "metadata": {},
   "outputs": [],
   "source": [
    "# we use enumerate function with  for loop to track position of our items \n",
    "# iterable\n"
   ]
  },
  {
   "cell_type": "code",
   "execution_count": 129,
   "metadata": {},
   "outputs": [
    {
     "name": "stdout",
     "output_type": "stream",
     "text": [
      "0----->abc\n",
      "1----->abcdefg\n",
      "2----->krishna\n"
     ]
    }
   ],
   "source": [
    "# how can we o this without enumerate function\n",
    "names=['abc','abcdefg','krishna']\n",
    "pos=0\n",
    "for name in names:\n",
    "    print(f\"{pos}----->{name}\")\n",
    "    pos+=1\n",
    "    "
   ]
  },
  {
   "cell_type": "code",
   "execution_count": 130,
   "metadata": {},
   "outputs": [
    {
     "name": "stdout",
     "output_type": "stream",
     "text": [
      "0----->abc\n",
      "1----->abcdefg\n",
      "2----->krishna\n"
     ]
    }
   ],
   "source": [
    "# with enumerate function\n",
    "for pos,name in enumerate(names):\n",
    "    print(f\"{pos}----->{name}\")"
   ]
  },
  {
   "cell_type": "code",
   "execution_count": 134,
   "metadata": {},
   "outputs": [
    {
     "data": {
      "text/plain": [
       "2"
      ]
     },
     "execution_count": 134,
     "metadata": {},
     "output_type": "execute_result"
    }
   ],
   "source": [
    "# define a function that take two aguments\n",
    "# 1. list containing string\n",
    "# 2. string that want to find in your list\n",
    "# and this function will return the index of  string in your list and\n",
    "# if string is not present return -1\n",
    "def find_pos(l,target):\n",
    "    for pos,name in enumerate(l):\n",
    "        if name==target:\n",
    "            return pos\n",
    "    return -1\n",
    "find_pos(names,\"krishna\")\n",
    "# names=['abc','abcdefg','krishna']"
   ]
  },
  {
   "cell_type": "code",
   "execution_count": 135,
   "metadata": {},
   "outputs": [
    {
     "data": {
      "text/plain": [
       "-1"
      ]
     },
     "execution_count": 135,
     "metadata": {},
     "output_type": "execute_result"
    }
   ],
   "source": [
    "def find_pos(l,target):\n",
    "    for pos,name in enumerate(l):\n",
    "        if name==target:\n",
    "            return pos\n",
    "    return -1\n",
    "find_pos(names,\"krishan\")"
   ]
  },
  {
   "cell_type": "markdown",
   "metadata": {},
   "source": [
    "# Map Function"
   ]
  },
  {
   "cell_type": "code",
   "execution_count": 137,
   "metadata": {},
   "outputs": [
    {
     "name": "stdout",
     "output_type": "stream",
     "text": [
      "[1, 4, 9, 16]\n"
     ]
    }
   ],
   "source": [
    "number=[1,2,3,4]\n",
    "def square(a):\n",
    "    return a**2\n",
    "square=list(map(square,number))\n",
    "print(square)"
   ]
  },
  {
   "cell_type": "code",
   "execution_count": 138,
   "metadata": {},
   "outputs": [
    {
     "data": {
      "text/plain": [
       "[1, 4, 9, 16]"
      ]
     },
     "execution_count": 138,
     "metadata": {},
     "output_type": "execute_result"
    }
   ],
   "source": [
    "square=list(map(lambda a:a**2,number))\n",
    "square"
   ]
  },
  {
   "cell_type": "code",
   "execution_count": 140,
   "metadata": {},
   "outputs": [
    {
     "data": {
      "text/plain": [
       "[1, 4, 9, 16]"
      ]
     },
     "execution_count": 140,
     "metadata": {},
     "output_type": "execute_result"
    }
   ],
   "source": [
    "# list comprehension\n",
    "square_new=[i**2 for i in number]\n",
    "square_new"
   ]
  },
  {
   "cell_type": "code",
   "execution_count": 141,
   "metadata": {},
   "outputs": [
    {
     "data": {
      "text/plain": [
       "['abc', 'abcdefg', 'krishna']"
      ]
     },
     "execution_count": 141,
     "metadata": {},
     "output_type": "execute_result"
    }
   ],
   "source": [
    "names"
   ]
  },
  {
   "cell_type": "code",
   "execution_count": 144,
   "metadata": {},
   "outputs": [
    {
     "name": "stdout",
     "output_type": "stream",
     "text": [
      "3\n",
      "7\n",
      "7\n"
     ]
    }
   ],
   "source": [
    "length=map(len,names)\n",
    "for i in length:\n",
    "    print(i)"
   ]
  },
  {
   "cell_type": "code",
   "execution_count": 146,
   "metadata": {},
   "outputs": [
    {
     "name": "stdout",
     "output_type": "stream",
     "text": [
      "[3, 7, 7]\n"
     ]
    }
   ],
   "source": [
    "length=list(map(len,names))\n",
    "print(length)"
   ]
  },
  {
   "cell_type": "markdown",
   "metadata": {},
   "source": [
    "filter function"
   ]
  },
  {
   "cell_type": "code",
   "execution_count": 149,
   "metadata": {},
   "outputs": [
    {
     "data": {
      "text/plain": [
       "(2, 4, 54, 35656, 354)"
      ]
     },
     "execution_count": 149,
     "metadata": {},
     "output_type": "execute_result"
    }
   ],
   "source": [
    "def is_even(a):\n",
    "    return a%2==0\n",
    "numbers=[1,2,3,4,3,43,54,35656,354]\n",
    "evens=tuple(filter(is_even,numbers))\n",
    "evens"
   ]
  },
  {
   "cell_type": "code",
   "execution_count": 150,
   "metadata": {},
   "outputs": [
    {
     "data": {
      "text/plain": [
       "(2, 4, 54, 35656, 354)"
      ]
     },
     "execution_count": 150,
     "metadata": {},
     "output_type": "execute_result"
    }
   ],
   "source": [
    "evens=tuple(filter(lambda a:a%2==0,numbers))\n",
    "evens"
   ]
  },
  {
   "cell_type": "code",
   "execution_count": 151,
   "metadata": {},
   "outputs": [
    {
     "name": "stdout",
     "output_type": "stream",
     "text": [
      "2\n",
      "4\n",
      "54\n",
      "35656\n",
      "354\n"
     ]
    }
   ],
   "source": [
    "evens=filter(lambda a:a%2==0,numbers)\n",
    "for i in evens:\n",
    "    print(i)\n"
   ]
  },
  {
   "cell_type": "markdown",
   "metadata": {},
   "source": [
    "zip function"
   ]
  },
  {
   "cell_type": "code",
   "execution_count": 152,
   "metadata": {},
   "outputs": [
    {
     "name": "stdout",
     "output_type": "stream",
     "text": [
      "[('user1', 'krishna', 'kumar'), ('user2', 'mohit', 'prasad'), ('user3', 'rohit', 'patel')]\n"
     ]
    }
   ],
   "source": [
    "user_id=['user1','user2','user3']\n",
    "name=['krishna','mohit','rohit']\n",
    "last_name=['kumar','prasad','patel']\n",
    "print(list(zip(user_id,name,last_name)))"
   ]
  },
  {
   "cell_type": "code",
   "execution_count": 156,
   "metadata": {},
   "outputs": [
    {
     "name": "stdout",
     "output_type": "stream",
     "text": [
      "{'a': 1, 'b': 2}\n"
     ]
    }
   ],
   "source": [
    "# example=('a',1),('b',2)\n",
    "print(dict([('a',1),('b',2)]))"
   ]
  },
  {
   "cell_type": "code",
   "execution_count": 157,
   "metadata": {},
   "outputs": [
    {
     "name": "stdout",
     "output_type": "stream",
     "text": [
      "[(1, 3, 4, 6), (2, 4, 5, 7)]\n"
     ]
    }
   ],
   "source": [
    "l=[(1,2),(3,4),(4,5),(6,7)]\n",
    "print(list(zip(*l)))"
   ]
  },
  {
   "cell_type": "code",
   "execution_count": 158,
   "metadata": {},
   "outputs": [
    {
     "name": "stdout",
     "output_type": "stream",
     "text": [
      "[1, 3, 4, 6]\n",
      "[2, 4, 5, 7]\n"
     ]
    }
   ],
   "source": [
    "l1,l2=list(zip(*l))\n",
    "print(list(l1))\n",
    "print(list(l2))"
   ]
  },
  {
   "cell_type": "code",
   "execution_count": 159,
   "metadata": {},
   "outputs": [
    {
     "data": {
      "text/plain": [
       "(1, 3, 4, 6)"
      ]
     },
     "execution_count": 159,
     "metadata": {},
     "output_type": "execute_result"
    }
   ],
   "source": [
    "l1"
   ]
  },
  {
   "cell_type": "code",
   "execution_count": 160,
   "metadata": {},
   "outputs": [
    {
     "data": {
      "text/plain": [
       "(2, 4, 5, 7)"
      ]
     },
     "execution_count": 160,
     "metadata": {},
     "output_type": "execute_result"
    }
   ],
   "source": [
    "l2"
   ]
  },
  {
   "cell_type": "code",
   "execution_count": 161,
   "metadata": {},
   "outputs": [
    {
     "name": "stdout",
     "output_type": "stream",
     "text": [
      "[2, 4, 5, 7]\n"
     ]
    }
   ],
   "source": [
    "new_list=[]\n",
    "for pair in zip(l1,l2):\n",
    "    new_list.append(max(pair))\n",
    "print(new_list)\n",
    "    "
   ]
  },
  {
   "cell_type": "code",
   "execution_count": 162,
   "metadata": {},
   "outputs": [
    {
     "name": "stdout",
     "output_type": "stream",
     "text": [
      "[2.5, 3.5, 4.5]\n"
     ]
    }
   ],
   "source": [
    "def average_finder(l1,l2):\n",
    "    average=[]\n",
    "    for pair in zip(l1,l2):\n",
    "        average.append(sum(pair)/len(pair))\n",
    "    return average\n",
    "print(average_finder([1,2,3],[4,5,6]))"
   ]
  },
  {
   "cell_type": "code",
   "execution_count": 163,
   "metadata": {},
   "outputs": [
    {
     "name": "stdout",
     "output_type": "stream",
     "text": [
      "[4.0, 5.0, 6.0]\n"
     ]
    }
   ],
   "source": [
    "def average_finder(*args):\n",
    "    average=[]\n",
    "    for pair in zip(*args):\n",
    "        average.append(sum(pair)/len(pair))\n",
    "    return average\n",
    "print(average_finder([1,2,3],[4,5,6],[7,8,9]))"
   ]
  },
  {
   "cell_type": "code",
   "execution_count": 165,
   "metadata": {},
   "outputs": [
    {
     "name": "stdout",
     "output_type": "stream",
     "text": [
      "[4.0, 5.0, 6.0]\n"
     ]
    }
   ],
   "source": [
    "average_finder=lambda *args:[(sum(pair)/len(pair)) for pair in zip(*args)]\n",
    "print(average_finder([1,2,3],[4,5,6],[7,8,9]))"
   ]
  },
  {
   "cell_type": "code",
   "execution_count": 168,
   "metadata": {},
   "outputs": [
    {
     "name": "stdout",
     "output_type": "stream",
     "text": [
      "False\n"
     ]
    }
   ],
   "source": [
    "# all, any function\n",
    "number1=[2,4,8,10,4,6]\n",
    "number2=[1,2,3,5,4,3,5]\n",
    "print(all([num%2==0 for num in number2]))"
   ]
  },
  {
   "cell_type": "code",
   "execution_count": 169,
   "metadata": {},
   "outputs": [
    {
     "name": "stdout",
     "output_type": "stream",
     "text": [
      "True\n"
     ]
    }
   ],
   "source": [
    "# all, any function\n",
    "number1=[2,4,8,10,4,6]\n",
    "number2=[1,2,3,5,4,3,5]\n",
    "print(any([num%2==0 for num in number2]))"
   ]
  },
  {
   "cell_type": "code",
   "execution_count": 174,
   "metadata": {},
   "outputs": [
    {
     "name": "stdout",
     "output_type": "stream",
     "text": [
      "wrong input\n"
     ]
    }
   ],
   "source": [
    "# any all function \n",
    "def my_sum(*args):\n",
    "    if all([(type(arg)==int or type(arg)==float) for arg in args]):\n",
    "        total=0\n",
    "        for num in args:\n",
    "            total+=num\n",
    "        return total\n",
    "    else:\n",
    "        return \"wrong input\"\n",
    "print(my_sum(1,2,3,4,4.5,'krishna '))"
   ]
  },
  {
   "cell_type": "code",
   "execution_count": 173,
   "metadata": {},
   "outputs": [
    {
     "name": "stdout",
     "output_type": "stream",
     "text": [
      "14.5\n"
     ]
    }
   ],
   "source": [
    "def my_sum(*args):\n",
    "    if all([(type(arg)==int or type(arg)==float) for arg in args]):\n",
    "        total=0\n",
    "        for num in args:\n",
    "            total+=num\n",
    "        return total\n",
    "    else:\n",
    "        return \"wrong input\"\n",
    "print(my_sum(1,2,3,4,4.5))"
   ]
  },
  {
   "cell_type": "markdown",
   "metadata": {},
   "source": [
    "# Advance min,max function"
   ]
  },
  {
   "cell_type": "code",
   "execution_count": 175,
   "metadata": {},
   "outputs": [
    {
     "name": "stdout",
     "output_type": "stream",
     "text": [
      "krishna\n"
     ]
    }
   ],
   "source": [
    "names=[\"krishna\",\"mohit\",\"abc\"]\n",
    "print(max(names,key=lambda item : len(item)))"
   ]
  },
  {
   "cell_type": "code",
   "execution_count": 186,
   "metadata": {},
   "outputs": [
    {
     "name": "stdout",
     "output_type": "stream",
     "text": [
      "krishna\n"
     ]
    }
   ],
   "source": [
    "students={\n",
    "       \"krishna\":{\"score\":90,\"age\":18},\n",
    "        \"mohit\":{\"score\":80,\"age\":19}, \n",
    "        \"rohit\":{\"score\":70,\"age\":17}        \n",
    "}\n",
    "              \n",
    "print(max(students,key=lambda item:students[item][\"score\"]))"
   ]
  },
  {
   "cell_type": "code",
   "execution_count": 190,
   "metadata": {},
   "outputs": [
    {
     "name": "stdout",
     "output_type": "stream",
     "text": [
      "mohit\n"
     ]
    }
   ],
   "source": [
    "student1={\"lrishna\":{\"score\":90,\"age\":19},\n",
    "          \"mohit\":{\"score\":99,\"age\":19},\n",
    "          \"rohit\":{\"score\":70,\"age\":17}}\n",
    "print(max(student1,key=lambda item:student1[item][\"score\"]))"
   ]
  },
  {
   "cell_type": "code",
   "execution_count": 184,
   "metadata": {},
   "outputs": [
    {
     "name": "stdout",
     "output_type": "stream",
     "text": [
      "{'name': 'krishna', 'score': 90, 'age': 19}\n"
     ]
    }
   ],
   "source": [
    "student1=[{\"name\":\"krishna\",\"score\":90,\"age\":19},\n",
    "          {\"name\":\"mohit\",\"score\":95,\"age\":15},\n",
    "          {\"name\":\"rohit\",\"score\":80,\"age\":18}]\n",
    "print(max(student1,key=lambda item:item.get(\"age\")))"
   ]
  },
  {
   "cell_type": "code",
   "execution_count": 185,
   "metadata": {},
   "outputs": [
    {
     "name": "stdout",
     "output_type": "stream",
     "text": [
      "krishna\n"
     ]
    }
   ],
   "source": [
    "student1=[{\"name\":\"krishna\",\"score\":90,\"age\":19},\n",
    "          {\"name\":\"mohit\",\"score\":95,\"age\":15},\n",
    "          {\"name\":\"rohit\",\"score\":80,\"age\":18}]\n",
    "print(max(student1,key=lambda item:item.get(\"age\"))['name'])"
   ]
  },
  {
   "cell_type": "markdown",
   "metadata": {},
   "source": [
    "sort function "
   ]
  },
  {
   "cell_type": "code",
   "execution_count": 192,
   "metadata": {},
   "outputs": [
    {
     "name": "stdout",
     "output_type": "stream",
     "text": [
      "['apple', 'grapes', 'mango']\n"
     ]
    }
   ],
   "source": [
    "# tuple allow sort function \n",
    "fruits=[\"grapes\",\"mango\",\"apple\"]\n",
    "fruits.sort()\n",
    "print(fruits)"
   ]
  },
  {
   "cell_type": "code",
   "execution_count": 193,
   "metadata": {},
   "outputs": [
    {
     "ename": "AttributeError",
     "evalue": "'tuple' object has no attribute 'sort'",
     "output_type": "error",
     "traceback": [
      "\u001b[1;31m---------------------------------------------------------------------------\u001b[0m",
      "\u001b[1;31mAttributeError\u001b[0m                            Traceback (most recent call last)",
      "\u001b[1;32m<ipython-input-193-0d77531e00af>\u001b[0m in \u001b[0;36m<module>\u001b[1;34m\u001b[0m\n\u001b[0;32m      1\u001b[0m \u001b[0mfruits1\u001b[0m\u001b[1;33m=\u001b[0m\u001b[1;33m(\u001b[0m\u001b[1;34m\"grapes\"\u001b[0m\u001b[1;33m,\u001b[0m\u001b[1;34m\"mango\"\u001b[0m\u001b[1;33m,\u001b[0m\u001b[1;34m\"apple\"\u001b[0m\u001b[1;33m)\u001b[0m\u001b[1;33m\u001b[0m\u001b[1;33m\u001b[0m\u001b[0m\n\u001b[1;32m----> 2\u001b[1;33m \u001b[0mfruits1\u001b[0m\u001b[1;33m.\u001b[0m\u001b[0msort\u001b[0m\u001b[1;33m(\u001b[0m\u001b[1;33m)\u001b[0m\u001b[1;33m\u001b[0m\u001b[1;33m\u001b[0m\u001b[0m\n\u001b[0m",
      "\u001b[1;31mAttributeError\u001b[0m: 'tuple' object has no attribute 'sort'"
     ]
    }
   ],
   "source": [
    "fruits1=(\"grapes\",\"mango\",\"apple\")\n",
    "fruits1.sort()"
   ]
  },
  {
   "cell_type": "code",
   "execution_count": 194,
   "metadata": {},
   "outputs": [
    {
     "data": {
      "text/plain": [
       "['apple', 'grapes', 'mango']"
      ]
     },
     "execution_count": 194,
     "metadata": {},
     "output_type": "execute_result"
    }
   ],
   "source": [
    "sorted(fruits1)"
   ]
  },
  {
   "cell_type": "code",
   "execution_count": 195,
   "metadata": {},
   "outputs": [
    {
     "ename": "AttributeError",
     "evalue": "'set' object has no attribute 'sort'",
     "output_type": "error",
     "traceback": [
      "\u001b[1;31m---------------------------------------------------------------------------\u001b[0m",
      "\u001b[1;31mAttributeError\u001b[0m                            Traceback (most recent call last)",
      "\u001b[1;32m<ipython-input-195-1bf671500b8a>\u001b[0m in \u001b[0;36m<module>\u001b[1;34m\u001b[0m\n\u001b[0;32m      1\u001b[0m \u001b[0mfruits2\u001b[0m\u001b[1;33m=\u001b[0m\u001b[1;33m{\u001b[0m\u001b[1;34m\"grapes\"\u001b[0m\u001b[1;33m,\u001b[0m\u001b[1;34m\"apple\"\u001b[0m\u001b[1;33m,\u001b[0m\u001b[1;34m\"mango\"\u001b[0m\u001b[1;33m}\u001b[0m\u001b[1;33m\u001b[0m\u001b[1;33m\u001b[0m\u001b[0m\n\u001b[1;32m----> 2\u001b[1;33m \u001b[0mfruits2\u001b[0m\u001b[1;33m.\u001b[0m\u001b[0msort\u001b[0m\u001b[1;33m(\u001b[0m\u001b[1;33m)\u001b[0m\u001b[1;33m\u001b[0m\u001b[1;33m\u001b[0m\u001b[0m\n\u001b[0m",
      "\u001b[1;31mAttributeError\u001b[0m: 'set' object has no attribute 'sort'"
     ]
    }
   ],
   "source": [
    "fruits2={\"grapes\",\"apple\",\"mango\"}\n",
    "fruits2.sort()"
   ]
  },
  {
   "cell_type": "code",
   "execution_count": 196,
   "metadata": {},
   "outputs": [
    {
     "data": {
      "text/plain": [
       "['apple', 'grapes', 'mango']"
      ]
     },
     "execution_count": 196,
     "metadata": {},
     "output_type": "execute_result"
    }
   ],
   "source": [
    "sorted(fruits2)"
   ]
  },
  {
   "cell_type": "code",
   "execution_count": 198,
   "metadata": {},
   "outputs": [
    {
     "name": "stdout",
     "output_type": "stream",
     "text": [
      "[{'model': 'yamaha', 'price': 8400}, {'model': 'faith naptune', 'price': 35000}, {'model': 'faith apollo', 'price': 50000}]\n"
     ]
    }
   ],
   "source": [
    "guitars=[\n",
    "    {\"model\":\"yamaha\",\"price\":8400},\n",
    "    {\"model\":\"faith naptune\",\"price\":35000},\n",
    "     {\"model\":\"faith apollo\",\"price\":50000}]\n",
    "print(sorted(guitars,key=lambda d:d[\"price\"]))"
   ]
  },
  {
   "cell_type": "code",
   "execution_count": 200,
   "metadata": {},
   "outputs": [
    {
     "name": "stdout",
     "output_type": "stream",
     "text": [
      "[{'model': 'yamaha', 'price': 8400}, {'model': 'faith naptune', 'price': 35000}, {'model': 'faith apollo', 'price': 50000}]\n"
     ]
    }
   ],
   "source": [
    "guitars=[\n",
    "    {\"model\":\"yamaha\",\"price\":8400},\n",
    "    {\"model\":\"faith naptune\",\"price\":35000},\n",
    "     {\"model\":\"faith apollo\",\"price\":50000}]\n",
    "print(sorted(guitars,key=lambda d:d.get(\"price\")))"
   ]
  },
  {
   "cell_type": "code",
   "execution_count": 203,
   "metadata": {},
   "outputs": [
    {
     "name": "stdout",
     "output_type": "stream",
     "text": [
      "[1, 4, 9, 16]\n"
     ]
    }
   ],
   "source": [
    "l=[1,2,3,4]\n",
    "def square(a):\n",
    "    return a**2\n",
    "print(list(map(square,l)))"
   ]
  },
  {
   "cell_type": "code",
   "execution_count": 204,
   "metadata": {},
   "outputs": [],
   "source": [
    "# function return function\n",
    "\n",
    "def outer_func():\n",
    "    def inner_func():\n",
    "        print(\"inside inner func\")\n",
    "    return inner_func\n"
   ]
  },
  {
   "cell_type": "code",
   "execution_count": 206,
   "metadata": {},
   "outputs": [
    {
     "name": "stdout",
     "output_type": "stream",
     "text": [
      "inside inner func\n"
     ]
    }
   ],
   "source": [
    "var=outer_func()\n",
    "var()"
   ]
  },
  {
   "cell_type": "code",
   "execution_count": 208,
   "metadata": {},
   "outputs": [
    {
     "ename": "NameError",
     "evalue": "name 'inner_func' is not defined",
     "output_type": "error",
     "traceback": [
      "\u001b[1;31m---------------------------------------------------------------------------\u001b[0m",
      "\u001b[1;31mNameError\u001b[0m                                 Traceback (most recent call last)",
      "\u001b[1;32m<ipython-input-208-902ecd3bb4ba>\u001b[0m in \u001b[0;36m<module>\u001b[1;34m\u001b[0m\n\u001b[1;32m----> 1\u001b[1;33m \u001b[0ma\u001b[0m\u001b[1;33m=\u001b[0m\u001b[0minner_func\u001b[0m\u001b[1;33m(\u001b[0m\u001b[1;33m)\u001b[0m\u001b[1;33m\u001b[0m\u001b[1;33m\u001b[0m\u001b[0m\n\u001b[0m\u001b[0;32m      2\u001b[0m \u001b[0ma\u001b[0m\u001b[1;33m(\u001b[0m\u001b[1;33m)\u001b[0m\u001b[1;33m\u001b[0m\u001b[1;33m\u001b[0m\u001b[0m\n",
      "\u001b[1;31mNameError\u001b[0m: name 'inner_func' is not defined"
     ]
    }
   ],
   "source": [
    "a=inner_func()\n",
    "a()"
   ]
  },
  {
   "cell_type": "code",
   "execution_count": 211,
   "metadata": {},
   "outputs": [],
   "source": [
    "def outer_func2(msg):\n",
    "    def inner_func2():\n",
    "        print(f\"message is {msg}\")\n",
    "    return inner_func2"
   ]
  },
  {
   "cell_type": "code",
   "execution_count": 212,
   "metadata": {},
   "outputs": [
    {
     "name": "stdout",
     "output_type": "stream",
     "text": [
      "message is hello there !\n"
     ]
    }
   ],
   "source": [
    "var=outer_func2(\"hello there !\")\n",
    "var()"
   ]
  },
  {
   "cell_type": "markdown",
   "metadata": {},
   "source": [
    "# function returning function (closures,first class function)"
   ]
  },
  {
   "cell_type": "code",
   "execution_count": 214,
   "metadata": {},
   "outputs": [],
   "source": [
    "def to_power(x):\n",
    "    def calc_power(n):\n",
    "        return n**x\n",
    "    return calc_power"
   ]
  },
  {
   "cell_type": "code",
   "execution_count": 217,
   "metadata": {},
   "outputs": [
    {
     "name": "stdout",
     "output_type": "stream",
     "text": [
      "27\n"
     ]
    }
   ],
   "source": [
    "cube=to_power(3)\n",
    "print(cube(3))"
   ]
  },
  {
   "cell_type": "markdown",
   "metadata": {},
   "source": [
    "Decorators"
   ]
  },
  {
   "cell_type": "code",
   "execution_count": null,
   "metadata": {},
   "outputs": [],
   "source": [
    "# Enhance functionality of other function\n",
    "# @ use for decorator"
   ]
  },
  {
   "cell_type": "code",
   "execution_count": 218,
   "metadata": {},
   "outputs": [],
   "source": [
    "def func1():\n",
    "    print(\"this is function1\")"
   ]
  },
  {
   "cell_type": "code",
   "execution_count": 219,
   "metadata": {},
   "outputs": [],
   "source": [
    "def func2():\n",
    "    print(\"this is function2\")"
   ]
  },
  {
   "cell_type": "code",
   "execution_count": 220,
   "metadata": {},
   "outputs": [],
   "source": [
    "def decorator_function(any_function):\n",
    "    def wrapper_function():\n",
    "        print(\"this is awesome function\")\n",
    "        any_function()\n",
    "    return wrapper_function"
   ]
  },
  {
   "cell_type": "code",
   "execution_count": 221,
   "metadata": {},
   "outputs": [
    {
     "name": "stdout",
     "output_type": "stream",
     "text": [
      "this is awesome function\n",
      "this is function1\n"
     ]
    }
   ],
   "source": [
    "var=decorator_function(func1)\n",
    "var()"
   ]
  },
  {
   "cell_type": "code",
   "execution_count": 222,
   "metadata": {},
   "outputs": [
    {
     "name": "stdout",
     "output_type": "stream",
     "text": [
      "this is awesome function\n",
      "this is function1\n"
     ]
    }
   ],
   "source": [
    "func1=decorator_function(func1)\n",
    "func1()"
   ]
  },
  {
   "cell_type": "code",
   "execution_count": 224,
   "metadata": {},
   "outputs": [
    {
     "name": "stdout",
     "output_type": "stream",
     "text": [
      "this is awesome function\n",
      "this is function1\n"
     ]
    }
   ],
   "source": [
    "@decorator_function\n",
    "def func1():\n",
    "    print(\"this is function1\")\n",
    "func1()"
   ]
  },
  {
   "cell_type": "code",
   "execution_count": 226,
   "metadata": {},
   "outputs": [
    {
     "name": "stdout",
     "output_type": "stream",
     "text": [
      "this is awesome function\n",
      "this is function2\n"
     ]
    }
   ],
   "source": [
    "@decorator_function\n",
    "def func2():\n",
    "    print(\"this is function2\")\n",
    "func2()"
   ]
  },
  {
   "cell_type": "code",
   "execution_count": 230,
   "metadata": {},
   "outputs": [],
   "source": [
    "def decorator(any_func):\n",
    "    def wrapper():\n",
    "        print(\"what is your name ?\")\n",
    "        any_func()\n",
    "    return wrapper"
   ]
  },
  {
   "cell_type": "code",
   "execution_count": 231,
   "metadata": {},
   "outputs": [
    {
     "name": "stdout",
     "output_type": "stream",
     "text": [
      "what is your name ?\n",
      "MY Name is Krishna kumar\n"
     ]
    }
   ],
   "source": [
    "@decorator\n",
    "def name1():\n",
    "    print(\"MY Name is Krishna kumar\")\n",
    "name1()"
   ]
  },
  {
   "cell_type": "code",
   "execution_count": 232,
   "metadata": {},
   "outputs": [],
   "source": [
    "def decorator_function(any_function):\n",
    "    def wrapper_function(*args,**kwargs):\n",
    "        print(\"this is awesome function\")\n",
    "        return any_function(*args,**kwargs)\n",
    "    return wrapper_function"
   ]
  },
  {
   "cell_type": "code",
   "execution_count": 236,
   "metadata": {},
   "outputs": [
    {
     "name": "stdout",
     "output_type": "stream",
     "text": [
      "this is awesome function\n",
      "this function with argument 5\n"
     ]
    }
   ],
   "source": [
    "@decorator_function\n",
    "def func(a):\n",
    "    print(f\"this function with argument {a}\")\n",
    "func(5)"
   ]
  },
  {
   "cell_type": "code",
   "execution_count": 237,
   "metadata": {},
   "outputs": [
    {
     "name": "stdout",
     "output_type": "stream",
     "text": [
      "this is awesome function\n",
      "9\n"
     ]
    }
   ],
   "source": [
    "@decorator_function\n",
    "def add(a,b):\n",
    "    return a+b\n",
    "print(add(4,5))"
   ]
  },
  {
   "cell_type": "code",
   "execution_count": 238,
   "metadata": {},
   "outputs": [],
   "source": [
    "def decorator_function(any_function):\n",
    "    def wrapper_function(*args,**kwargs):\n",
    "        \"\"\" this is wrapper function\"\"\"\n",
    "        print(\"this is awesome function\")\n",
    "        return any_function(*args,**kwargs)\n",
    "    return wrapper_function"
   ]
  },
  {
   "cell_type": "code",
   "execution_count": 239,
   "metadata": {},
   "outputs": [
    {
     "name": "stdout",
     "output_type": "stream",
     "text": [
      "this is awesome function\n",
      "9\n"
     ]
    }
   ],
   "source": [
    "@decorator_function\n",
    "def add(a,b):\n",
    "    \"\"\" this is add funtion\"\"\"\n",
    "    return a+b\n",
    "print(add(4,5))"
   ]
  },
  {
   "cell_type": "code",
   "execution_count": 240,
   "metadata": {},
   "outputs": [
    {
     "data": {
      "text/plain": [
       "' this is wrapper function'"
      ]
     },
     "execution_count": 240,
     "metadata": {},
     "output_type": "execute_result"
    }
   ],
   "source": [
    "add.__doc__"
   ]
  },
  {
   "cell_type": "code",
   "execution_count": 241,
   "metadata": {},
   "outputs": [
    {
     "data": {
      "text/plain": [
       "'wrapper_function'"
      ]
     },
     "execution_count": 241,
     "metadata": {},
     "output_type": "execute_result"
    }
   ],
   "source": [
    "add.__name__"
   ]
  },
  {
   "cell_type": "code",
   "execution_count": 242,
   "metadata": {},
   "outputs": [],
   "source": [
    "from functools import wraps\n",
    "def decorator_function(any_function):\n",
    "    @wraps(any_function)\n",
    "    def wrapper_function(*args,**kwargs):\n",
    "        \"\"\" this is wrapper function\"\"\"\n",
    "        print(\"this is awesome function\")\n",
    "        return any_function(*args,**kwargs)\n",
    "    return wrapper_function"
   ]
  },
  {
   "cell_type": "code",
   "execution_count": 246,
   "metadata": {},
   "outputs": [
    {
     "name": "stdout",
     "output_type": "stream",
     "text": [
      "this is awesome function\n",
      "9\n",
      " this is add funtion\n",
      "add\n"
     ]
    }
   ],
   "source": [
    "@decorator_function\n",
    "def add(a,b):\n",
    "    \"\"\" this is add funtion\"\"\"\n",
    "    return a+b\n",
    "print(add(4,5))\n",
    "print(add.__doc__)\n",
    "print(add.__name__)"
   ]
  },
  {
   "cell_type": "code",
   "execution_count": 247,
   "metadata": {},
   "outputs": [],
   "source": [
    "from functools import wraps\n",
    "def print_func_data(any_function):\n",
    "    @wraps(any_function)\n",
    "    def wrapper_function(*args,**kwargs):\n",
    "        \"\"\" this is wrapper function\"\"\"\n",
    "        print(\"you are calling add function\")\n",
    "        return any_function(*args,**kwargs)\n",
    "    return wrapper_function"
   ]
  },
  {
   "cell_type": "code",
   "execution_count": 248,
   "metadata": {},
   "outputs": [
    {
     "name": "stdout",
     "output_type": "stream",
     "text": [
      "you are calling add function\n",
      "9\n",
      " this function takes two argument and return their sum\n",
      "add\n"
     ]
    }
   ],
   "source": [
    "@print_func_data\n",
    "def add(a,b):\n",
    "    \"\"\" this function takes two argument and return their sum\"\"\"\n",
    "    return a+b\n",
    "print(add(4,5))\n",
    "print(add.__doc__)\n",
    "print(add.__name__)"
   ]
  },
  {
   "cell_type": "code",
   "execution_count": 249,
   "metadata": {},
   "outputs": [],
   "source": [
    "def print_function_data(function):\n",
    "    @wraps(function)\n",
    "    def wrapper(*args,**kwargs):\n",
    "        print(f\"You are calling {function.__name__} function\")\n",
    "        print(f\"{function.__doc__}\")\n",
    "        return function(*args,**kwargs)\n",
    "    return wrapper"
   ]
  },
  {
   "cell_type": "code",
   "execution_count": 250,
   "metadata": {},
   "outputs": [
    {
     "name": "stdout",
     "output_type": "stream",
     "text": [
      "You are calling add function\n",
      " this function takes two argument and return their sum\n",
      "9\n"
     ]
    }
   ],
   "source": [
    "@print_function_data\n",
    "def add(a,b):\n",
    "    \"\"\" this function takes two argument and return their sum\"\"\"\n",
    "    return a+b\n",
    "print(add(4,5))"
   ]
  },
  {
   "cell_type": "code",
   "execution_count": 251,
   "metadata": {},
   "outputs": [
    {
     "name": "stdout",
     "output_type": "stream",
     "text": [
      "this is line one\n",
      "x is equal to 5 \n",
      "0.0\n"
     ]
    }
   ],
   "source": [
    "import time\n",
    "t1=time.time()\n",
    "print(\"this is line one\")\n",
    "x=5\n",
    "if x==5:\n",
    "    print(\"x is equal to 5 \")\n",
    "t2=time.time()\n",
    "print(t2-t1)"
   ]
  },
  {
   "cell_type": "code",
   "execution_count": 252,
   "metadata": {},
   "outputs": [
    {
     "name": "stdout",
     "output_type": "stream",
     "text": [
      "this is line one\n",
      "x is equal to 5 \n",
      "x is equal to 5 \n",
      "x is equal to 5 \n",
      "x is equal to 5 \n",
      "x is equal to 5 \n",
      "x is equal to 5 \n",
      "0.0\n"
     ]
    }
   ],
   "source": [
    "import time\n",
    "t1=time.time()\n",
    "print(\"this is line one\")\n",
    "x=5\n",
    "if x==5:\n",
    "    print(\"x is equal to 5 \")\n",
    "print(\"x is equal to 5 \")\n",
    "print(\"x is equal to 5 \")\n",
    "print(\"x is equal to 5 \")\n",
    "print(\"x is equal to 5 \")\n",
    "print(\"x is equal to 5 \")\n",
    "t2=time.time()\n",
    "print(t2-t1)"
   ]
  },
  {
   "cell_type": "code",
   "execution_count": 253,
   "metadata": {},
   "outputs": [],
   "source": [
    "from functools import wraps\n",
    "import time\n",
    "def calcutale_time(function):\n",
    "    @wraps(function)\n",
    "    def wrapper(*args,**kwargs):\n",
    "        print(f\" Executing ..{function.__name__}\")\n",
    "        t1=time.time()\n",
    "        returned_value=function(*args,**kwargs)\n",
    "        t2=time.time()\n",
    "        total_time=t2-t1\n",
    "        print(f\" This function took {total_time} seconds\")\n",
    "        return returned_value\n",
    "    return wrapper\n"
   ]
  },
  {
   "cell_type": "code",
   "execution_count": 254,
   "metadata": {},
   "outputs": [
    {
     "name": "stdout",
     "output_type": "stream",
     "text": [
      " Executing ..square_finder\n",
      " This function took 0.18594145774841309 seconds\n"
     ]
    },
    {
     "data": {
      "text/plain": [
       "[1,\n",
       " 4,\n",
       " 9,\n",
       " 16,\n",
       " 25,\n",
       " 36,\n",
       " 49,\n",
       " 64,\n",
       " 81,\n",
       " 100,\n",
       " 121,\n",
       " 144,\n",
       " 169,\n",
       " 196,\n",
       " 225,\n",
       " 256,\n",
       " 289,\n",
       " 324,\n",
       " 361,\n",
       " 400,\n",
       " 441,\n",
       " 484,\n",
       " 529,\n",
       " 576,\n",
       " 625,\n",
       " 676,\n",
       " 729,\n",
       " 784,\n",
       " 841,\n",
       " 900,\n",
       " 961,\n",
       " 1024,\n",
       " 1089,\n",
       " 1156,\n",
       " 1225,\n",
       " 1296,\n",
       " 1369,\n",
       " 1444,\n",
       " 1521,\n",
       " 1600,\n",
       " 1681,\n",
       " 1764,\n",
       " 1849,\n",
       " 1936,\n",
       " 2025,\n",
       " 2116,\n",
       " 2209,\n",
       " 2304,\n",
       " 2401,\n",
       " 2500,\n",
       " 2601,\n",
       " 2704,\n",
       " 2809,\n",
       " 2916,\n",
       " 3025,\n",
       " 3136,\n",
       " 3249,\n",
       " 3364,\n",
       " 3481,\n",
       " 3600,\n",
       " 3721,\n",
       " 3844,\n",
       " 3969,\n",
       " 4096,\n",
       " 4225,\n",
       " 4356,\n",
       " 4489,\n",
       " 4624,\n",
       " 4761,\n",
       " 4900,\n",
       " 5041,\n",
       " 5184,\n",
       " 5329,\n",
       " 5476,\n",
       " 5625,\n",
       " 5776,\n",
       " 5929,\n",
       " 6084,\n",
       " 6241,\n",
       " 6400,\n",
       " 6561,\n",
       " 6724,\n",
       " 6889,\n",
       " 7056,\n",
       " 7225,\n",
       " 7396,\n",
       " 7569,\n",
       " 7744,\n",
       " 7921,\n",
       " 8100,\n",
       " 8281,\n",
       " 8464,\n",
       " 8649,\n",
       " 8836,\n",
       " 9025,\n",
       " 9216,\n",
       " 9409,\n",
       " 9604,\n",
       " 9801,\n",
       " 10000,\n",
       " 10201,\n",
       " 10404,\n",
       " 10609,\n",
       " 10816,\n",
       " 11025,\n",
       " 11236,\n",
       " 11449,\n",
       " 11664,\n",
       " 11881,\n",
       " 12100,\n",
       " 12321,\n",
       " 12544,\n",
       " 12769,\n",
       " 12996,\n",
       " 13225,\n",
       " 13456,\n",
       " 13689,\n",
       " 13924,\n",
       " 14161,\n",
       " 14400,\n",
       " 14641,\n",
       " 14884,\n",
       " 15129,\n",
       " 15376,\n",
       " 15625,\n",
       " 15876,\n",
       " 16129,\n",
       " 16384,\n",
       " 16641,\n",
       " 16900,\n",
       " 17161,\n",
       " 17424,\n",
       " 17689,\n",
       " 17956,\n",
       " 18225,\n",
       " 18496,\n",
       " 18769,\n",
       " 19044,\n",
       " 19321,\n",
       " 19600,\n",
       " 19881,\n",
       " 20164,\n",
       " 20449,\n",
       " 20736,\n",
       " 21025,\n",
       " 21316,\n",
       " 21609,\n",
       " 21904,\n",
       " 22201,\n",
       " 22500,\n",
       " 22801,\n",
       " 23104,\n",
       " 23409,\n",
       " 23716,\n",
       " 24025,\n",
       " 24336,\n",
       " 24649,\n",
       " 24964,\n",
       " 25281,\n",
       " 25600,\n",
       " 25921,\n",
       " 26244,\n",
       " 26569,\n",
       " 26896,\n",
       " 27225,\n",
       " 27556,\n",
       " 27889,\n",
       " 28224,\n",
       " 28561,\n",
       " 28900,\n",
       " 29241,\n",
       " 29584,\n",
       " 29929,\n",
       " 30276,\n",
       " 30625,\n",
       " 30976,\n",
       " 31329,\n",
       " 31684,\n",
       " 32041,\n",
       " 32400,\n",
       " 32761,\n",
       " 33124,\n",
       " 33489,\n",
       " 33856,\n",
       " 34225,\n",
       " 34596,\n",
       " 34969,\n",
       " 35344,\n",
       " 35721,\n",
       " 36100,\n",
       " 36481,\n",
       " 36864,\n",
       " 37249,\n",
       " 37636,\n",
       " 38025,\n",
       " 38416,\n",
       " 38809,\n",
       " 39204,\n",
       " 39601,\n",
       " 40000,\n",
       " 40401,\n",
       " 40804,\n",
       " 41209,\n",
       " 41616,\n",
       " 42025,\n",
       " 42436,\n",
       " 42849,\n",
       " 43264,\n",
       " 43681,\n",
       " 44100,\n",
       " 44521,\n",
       " 44944,\n",
       " 45369,\n",
       " 45796,\n",
       " 46225,\n",
       " 46656,\n",
       " 47089,\n",
       " 47524,\n",
       " 47961,\n",
       " 48400,\n",
       " 48841,\n",
       " 49284,\n",
       " 49729,\n",
       " 50176,\n",
       " 50625,\n",
       " 51076,\n",
       " 51529,\n",
       " 51984,\n",
       " 52441,\n",
       " 52900,\n",
       " 53361,\n",
       " 53824,\n",
       " 54289,\n",
       " 54756,\n",
       " 55225,\n",
       " 55696,\n",
       " 56169,\n",
       " 56644,\n",
       " 57121,\n",
       " 57600,\n",
       " 58081,\n",
       " 58564,\n",
       " 59049,\n",
       " 59536,\n",
       " 60025,\n",
       " 60516,\n",
       " 61009,\n",
       " 61504,\n",
       " 62001,\n",
       " 62500,\n",
       " 63001,\n",
       " 63504,\n",
       " 64009,\n",
       " 64516,\n",
       " 65025,\n",
       " 65536,\n",
       " 66049,\n",
       " 66564,\n",
       " 67081,\n",
       " 67600,\n",
       " 68121,\n",
       " 68644,\n",
       " 69169,\n",
       " 69696,\n",
       " 70225,\n",
       " 70756,\n",
       " 71289,\n",
       " 71824,\n",
       " 72361,\n",
       " 72900,\n",
       " 73441,\n",
       " 73984,\n",
       " 74529,\n",
       " 75076,\n",
       " 75625,\n",
       " 76176,\n",
       " 76729,\n",
       " 77284,\n",
       " 77841,\n",
       " 78400,\n",
       " 78961,\n",
       " 79524,\n",
       " 80089,\n",
       " 80656,\n",
       " 81225,\n",
       " 81796,\n",
       " 82369,\n",
       " 82944,\n",
       " 83521,\n",
       " 84100,\n",
       " 84681,\n",
       " 85264,\n",
       " 85849,\n",
       " 86436,\n",
       " 87025,\n",
       " 87616,\n",
       " 88209,\n",
       " 88804,\n",
       " 89401,\n",
       " 90000,\n",
       " 90601,\n",
       " 91204,\n",
       " 91809,\n",
       " 92416,\n",
       " 93025,\n",
       " 93636,\n",
       " 94249,\n",
       " 94864,\n",
       " 95481,\n",
       " 96100,\n",
       " 96721,\n",
       " 97344,\n",
       " 97969,\n",
       " 98596,\n",
       " 99225,\n",
       " 99856,\n",
       " 100489,\n",
       " 101124,\n",
       " 101761,\n",
       " 102400,\n",
       " 103041,\n",
       " 103684,\n",
       " 104329,\n",
       " 104976,\n",
       " 105625,\n",
       " 106276,\n",
       " 106929,\n",
       " 107584,\n",
       " 108241,\n",
       " 108900,\n",
       " 109561,\n",
       " 110224,\n",
       " 110889,\n",
       " 111556,\n",
       " 112225,\n",
       " 112896,\n",
       " 113569,\n",
       " 114244,\n",
       " 114921,\n",
       " 115600,\n",
       " 116281,\n",
       " 116964,\n",
       " 117649,\n",
       " 118336,\n",
       " 119025,\n",
       " 119716,\n",
       " 120409,\n",
       " 121104,\n",
       " 121801,\n",
       " 122500,\n",
       " 123201,\n",
       " 123904,\n",
       " 124609,\n",
       " 125316,\n",
       " 126025,\n",
       " 126736,\n",
       " 127449,\n",
       " 128164,\n",
       " 128881,\n",
       " 129600,\n",
       " 130321,\n",
       " 131044,\n",
       " 131769,\n",
       " 132496,\n",
       " 133225,\n",
       " 133956,\n",
       " 134689,\n",
       " 135424,\n",
       " 136161,\n",
       " 136900,\n",
       " 137641,\n",
       " 138384,\n",
       " 139129,\n",
       " 139876,\n",
       " 140625,\n",
       " 141376,\n",
       " 142129,\n",
       " 142884,\n",
       " 143641,\n",
       " 144400,\n",
       " 145161,\n",
       " 145924,\n",
       " 146689,\n",
       " 147456,\n",
       " 148225,\n",
       " 148996,\n",
       " 149769,\n",
       " 150544,\n",
       " 151321,\n",
       " 152100,\n",
       " 152881,\n",
       " 153664,\n",
       " 154449,\n",
       " 155236,\n",
       " 156025,\n",
       " 156816,\n",
       " 157609,\n",
       " 158404,\n",
       " 159201,\n",
       " 160000,\n",
       " 160801,\n",
       " 161604,\n",
       " 162409,\n",
       " 163216,\n",
       " 164025,\n",
       " 164836,\n",
       " 165649,\n",
       " 166464,\n",
       " 167281,\n",
       " 168100,\n",
       " 168921,\n",
       " 169744,\n",
       " 170569,\n",
       " 171396,\n",
       " 172225,\n",
       " 173056,\n",
       " 173889,\n",
       " 174724,\n",
       " 175561,\n",
       " 176400,\n",
       " 177241,\n",
       " 178084,\n",
       " 178929,\n",
       " 179776,\n",
       " 180625,\n",
       " 181476,\n",
       " 182329,\n",
       " 183184,\n",
       " 184041,\n",
       " 184900,\n",
       " 185761,\n",
       " 186624,\n",
       " 187489,\n",
       " 188356,\n",
       " 189225,\n",
       " 190096,\n",
       " 190969,\n",
       " 191844,\n",
       " 192721,\n",
       " 193600,\n",
       " 194481,\n",
       " 195364,\n",
       " 196249,\n",
       " 197136,\n",
       " 198025,\n",
       " 198916,\n",
       " 199809,\n",
       " 200704,\n",
       " 201601,\n",
       " 202500,\n",
       " 203401,\n",
       " 204304,\n",
       " 205209,\n",
       " 206116,\n",
       " 207025,\n",
       " 207936,\n",
       " 208849,\n",
       " 209764,\n",
       " 210681,\n",
       " 211600,\n",
       " 212521,\n",
       " 213444,\n",
       " 214369,\n",
       " 215296,\n",
       " 216225,\n",
       " 217156,\n",
       " 218089,\n",
       " 219024,\n",
       " 219961,\n",
       " 220900,\n",
       " 221841,\n",
       " 222784,\n",
       " 223729,\n",
       " 224676,\n",
       " 225625,\n",
       " 226576,\n",
       " 227529,\n",
       " 228484,\n",
       " 229441,\n",
       " 230400,\n",
       " 231361,\n",
       " 232324,\n",
       " 233289,\n",
       " 234256,\n",
       " 235225,\n",
       " 236196,\n",
       " 237169,\n",
       " 238144,\n",
       " 239121,\n",
       " 240100,\n",
       " 241081,\n",
       " 242064,\n",
       " 243049,\n",
       " 244036,\n",
       " 245025,\n",
       " 246016,\n",
       " 247009,\n",
       " 248004,\n",
       " 249001,\n",
       " 250000,\n",
       " 251001,\n",
       " 252004,\n",
       " 253009,\n",
       " 254016,\n",
       " 255025,\n",
       " 256036,\n",
       " 257049,\n",
       " 258064,\n",
       " 259081,\n",
       " 260100,\n",
       " 261121,\n",
       " 262144,\n",
       " 263169,\n",
       " 264196,\n",
       " 265225,\n",
       " 266256,\n",
       " 267289,\n",
       " 268324,\n",
       " 269361,\n",
       " 270400,\n",
       " 271441,\n",
       " 272484,\n",
       " 273529,\n",
       " 274576,\n",
       " 275625,\n",
       " 276676,\n",
       " 277729,\n",
       " 278784,\n",
       " 279841,\n",
       " 280900,\n",
       " 281961,\n",
       " 283024,\n",
       " 284089,\n",
       " 285156,\n",
       " 286225,\n",
       " 287296,\n",
       " 288369,\n",
       " 289444,\n",
       " 290521,\n",
       " 291600,\n",
       " 292681,\n",
       " 293764,\n",
       " 294849,\n",
       " 295936,\n",
       " 297025,\n",
       " 298116,\n",
       " 299209,\n",
       " 300304,\n",
       " 301401,\n",
       " 302500,\n",
       " 303601,\n",
       " 304704,\n",
       " 305809,\n",
       " 306916,\n",
       " 308025,\n",
       " 309136,\n",
       " 310249,\n",
       " 311364,\n",
       " 312481,\n",
       " 313600,\n",
       " 314721,\n",
       " 315844,\n",
       " 316969,\n",
       " 318096,\n",
       " 319225,\n",
       " 320356,\n",
       " 321489,\n",
       " 322624,\n",
       " 323761,\n",
       " 324900,\n",
       " 326041,\n",
       " 327184,\n",
       " 328329,\n",
       " 329476,\n",
       " 330625,\n",
       " 331776,\n",
       " 332929,\n",
       " 334084,\n",
       " 335241,\n",
       " 336400,\n",
       " 337561,\n",
       " 338724,\n",
       " 339889,\n",
       " 341056,\n",
       " 342225,\n",
       " 343396,\n",
       " 344569,\n",
       " 345744,\n",
       " 346921,\n",
       " 348100,\n",
       " 349281,\n",
       " 350464,\n",
       " 351649,\n",
       " 352836,\n",
       " 354025,\n",
       " 355216,\n",
       " 356409,\n",
       " 357604,\n",
       " 358801,\n",
       " 360000,\n",
       " 361201,\n",
       " 362404,\n",
       " 363609,\n",
       " 364816,\n",
       " 366025,\n",
       " 367236,\n",
       " 368449,\n",
       " 369664,\n",
       " 370881,\n",
       " 372100,\n",
       " 373321,\n",
       " 374544,\n",
       " 375769,\n",
       " 376996,\n",
       " 378225,\n",
       " 379456,\n",
       " 380689,\n",
       " 381924,\n",
       " 383161,\n",
       " 384400,\n",
       " 385641,\n",
       " 386884,\n",
       " 388129,\n",
       " 389376,\n",
       " 390625,\n",
       " 391876,\n",
       " 393129,\n",
       " 394384,\n",
       " 395641,\n",
       " 396900,\n",
       " 398161,\n",
       " 399424,\n",
       " 400689,\n",
       " 401956,\n",
       " 403225,\n",
       " 404496,\n",
       " 405769,\n",
       " 407044,\n",
       " 408321,\n",
       " 409600,\n",
       " 410881,\n",
       " 412164,\n",
       " 413449,\n",
       " 414736,\n",
       " 416025,\n",
       " 417316,\n",
       " 418609,\n",
       " 419904,\n",
       " 421201,\n",
       " 422500,\n",
       " 423801,\n",
       " 425104,\n",
       " 426409,\n",
       " 427716,\n",
       " 429025,\n",
       " 430336,\n",
       " 431649,\n",
       " 432964,\n",
       " 434281,\n",
       " 435600,\n",
       " 436921,\n",
       " 438244,\n",
       " 439569,\n",
       " 440896,\n",
       " 442225,\n",
       " 443556,\n",
       " 444889,\n",
       " 446224,\n",
       " 447561,\n",
       " 448900,\n",
       " 450241,\n",
       " 451584,\n",
       " 452929,\n",
       " 454276,\n",
       " 455625,\n",
       " 456976,\n",
       " 458329,\n",
       " 459684,\n",
       " 461041,\n",
       " 462400,\n",
       " 463761,\n",
       " 465124,\n",
       " 466489,\n",
       " 467856,\n",
       " 469225,\n",
       " 470596,\n",
       " 471969,\n",
       " 473344,\n",
       " 474721,\n",
       " 476100,\n",
       " 477481,\n",
       " 478864,\n",
       " 480249,\n",
       " 481636,\n",
       " 483025,\n",
       " 484416,\n",
       " 485809,\n",
       " 487204,\n",
       " 488601,\n",
       " 490000,\n",
       " 491401,\n",
       " 492804,\n",
       " 494209,\n",
       " 495616,\n",
       " 497025,\n",
       " 498436,\n",
       " 499849,\n",
       " 501264,\n",
       " 502681,\n",
       " 504100,\n",
       " 505521,\n",
       " 506944,\n",
       " 508369,\n",
       " 509796,\n",
       " 511225,\n",
       " 512656,\n",
       " 514089,\n",
       " 515524,\n",
       " 516961,\n",
       " 518400,\n",
       " 519841,\n",
       " 521284,\n",
       " 522729,\n",
       " 524176,\n",
       " 525625,\n",
       " 527076,\n",
       " 528529,\n",
       " 529984,\n",
       " 531441,\n",
       " 532900,\n",
       " 534361,\n",
       " 535824,\n",
       " 537289,\n",
       " 538756,\n",
       " 540225,\n",
       " 541696,\n",
       " 543169,\n",
       " 544644,\n",
       " 546121,\n",
       " 547600,\n",
       " 549081,\n",
       " 550564,\n",
       " 552049,\n",
       " 553536,\n",
       " 555025,\n",
       " 556516,\n",
       " 558009,\n",
       " 559504,\n",
       " 561001,\n",
       " 562500,\n",
       " 564001,\n",
       " 565504,\n",
       " 567009,\n",
       " 568516,\n",
       " 570025,\n",
       " 571536,\n",
       " 573049,\n",
       " 574564,\n",
       " 576081,\n",
       " 577600,\n",
       " 579121,\n",
       " 580644,\n",
       " 582169,\n",
       " 583696,\n",
       " 585225,\n",
       " 586756,\n",
       " 588289,\n",
       " 589824,\n",
       " 591361,\n",
       " 592900,\n",
       " 594441,\n",
       " 595984,\n",
       " 597529,\n",
       " 599076,\n",
       " 600625,\n",
       " 602176,\n",
       " 603729,\n",
       " 605284,\n",
       " 606841,\n",
       " 608400,\n",
       " 609961,\n",
       " 611524,\n",
       " 613089,\n",
       " 614656,\n",
       " 616225,\n",
       " 617796,\n",
       " 619369,\n",
       " 620944,\n",
       " 622521,\n",
       " 624100,\n",
       " 625681,\n",
       " 627264,\n",
       " 628849,\n",
       " 630436,\n",
       " 632025,\n",
       " 633616,\n",
       " 635209,\n",
       " 636804,\n",
       " 638401,\n",
       " 640000,\n",
       " 641601,\n",
       " 643204,\n",
       " 644809,\n",
       " 646416,\n",
       " 648025,\n",
       " 649636,\n",
       " 651249,\n",
       " 652864,\n",
       " 654481,\n",
       " 656100,\n",
       " 657721,\n",
       " 659344,\n",
       " 660969,\n",
       " 662596,\n",
       " 664225,\n",
       " 665856,\n",
       " 667489,\n",
       " 669124,\n",
       " 670761,\n",
       " 672400,\n",
       " 674041,\n",
       " 675684,\n",
       " 677329,\n",
       " 678976,\n",
       " 680625,\n",
       " 682276,\n",
       " 683929,\n",
       " 685584,\n",
       " 687241,\n",
       " 688900,\n",
       " 690561,\n",
       " 692224,\n",
       " 693889,\n",
       " 695556,\n",
       " 697225,\n",
       " 698896,\n",
       " 700569,\n",
       " 702244,\n",
       " 703921,\n",
       " 705600,\n",
       " 707281,\n",
       " 708964,\n",
       " 710649,\n",
       " 712336,\n",
       " 714025,\n",
       " 715716,\n",
       " 717409,\n",
       " 719104,\n",
       " 720801,\n",
       " 722500,\n",
       " 724201,\n",
       " 725904,\n",
       " 727609,\n",
       " 729316,\n",
       " 731025,\n",
       " 732736,\n",
       " 734449,\n",
       " 736164,\n",
       " 737881,\n",
       " 739600,\n",
       " 741321,\n",
       " 743044,\n",
       " 744769,\n",
       " 746496,\n",
       " 748225,\n",
       " 749956,\n",
       " 751689,\n",
       " 753424,\n",
       " 755161,\n",
       " 756900,\n",
       " 758641,\n",
       " 760384,\n",
       " 762129,\n",
       " 763876,\n",
       " 765625,\n",
       " 767376,\n",
       " 769129,\n",
       " 770884,\n",
       " 772641,\n",
       " 774400,\n",
       " 776161,\n",
       " 777924,\n",
       " 779689,\n",
       " 781456,\n",
       " 783225,\n",
       " 784996,\n",
       " 786769,\n",
       " 788544,\n",
       " 790321,\n",
       " 792100,\n",
       " 793881,\n",
       " 795664,\n",
       " 797449,\n",
       " 799236,\n",
       " 801025,\n",
       " 802816,\n",
       " 804609,\n",
       " 806404,\n",
       " 808201,\n",
       " 810000,\n",
       " 811801,\n",
       " 813604,\n",
       " 815409,\n",
       " 817216,\n",
       " 819025,\n",
       " 820836,\n",
       " 822649,\n",
       " 824464,\n",
       " 826281,\n",
       " 828100,\n",
       " 829921,\n",
       " 831744,\n",
       " 833569,\n",
       " 835396,\n",
       " 837225,\n",
       " 839056,\n",
       " 840889,\n",
       " 842724,\n",
       " 844561,\n",
       " 846400,\n",
       " 848241,\n",
       " 850084,\n",
       " 851929,\n",
       " 853776,\n",
       " 855625,\n",
       " 857476,\n",
       " 859329,\n",
       " 861184,\n",
       " 863041,\n",
       " 864900,\n",
       " 866761,\n",
       " 868624,\n",
       " 870489,\n",
       " 872356,\n",
       " 874225,\n",
       " 876096,\n",
       " 877969,\n",
       " 879844,\n",
       " 881721,\n",
       " 883600,\n",
       " 885481,\n",
       " 887364,\n",
       " 889249,\n",
       " 891136,\n",
       " 893025,\n",
       " 894916,\n",
       " 896809,\n",
       " 898704,\n",
       " 900601,\n",
       " 902500,\n",
       " 904401,\n",
       " 906304,\n",
       " 908209,\n",
       " 910116,\n",
       " 912025,\n",
       " 913936,\n",
       " 915849,\n",
       " 917764,\n",
       " 919681,\n",
       " 921600,\n",
       " 923521,\n",
       " 925444,\n",
       " 927369,\n",
       " 929296,\n",
       " 931225,\n",
       " 933156,\n",
       " 935089,\n",
       " 937024,\n",
       " 938961,\n",
       " 940900,\n",
       " 942841,\n",
       " 944784,\n",
       " 946729,\n",
       " 948676,\n",
       " 950625,\n",
       " 952576,\n",
       " 954529,\n",
       " 956484,\n",
       " 958441,\n",
       " 960400,\n",
       " 962361,\n",
       " 964324,\n",
       " 966289,\n",
       " 968256,\n",
       " 970225,\n",
       " 972196,\n",
       " 974169,\n",
       " 976144,\n",
       " 978121,\n",
       " 980100,\n",
       " 982081,\n",
       " 984064,\n",
       " 986049,\n",
       " 988036,\n",
       " 990025,\n",
       " 992016,\n",
       " 994009,\n",
       " 996004,\n",
       " 998001,\n",
       " 1000000]"
      ]
     },
     "execution_count": 254,
     "metadata": {},
     "output_type": "execute_result"
    }
   ],
   "source": [
    "@calcutale_time\n",
    "def square_finder(n):\n",
    "    return [i**2 for i in range(1,n+1)]\n",
    "square_finder(1000)"
   ]
  },
  {
   "cell_type": "code",
   "execution_count": 258,
   "metadata": {},
   "outputs": [],
   "source": [
    "from functools import wraps\n",
    "def only_int_allow(function):\n",
    "    @wraps(function)\n",
    "    def wrapper(*args,**kwargs):\n",
    "        data_types=[]\n",
    "        for arg in args:\n",
    "            data_types.append(type(arg)==int)\n",
    "        if all(data_types):\n",
    "            return function(*args,**kwargs)\n",
    "        else:\n",
    "            return \"Invalid argument\"\n",
    "    return wrapper"
   ]
  },
  {
   "cell_type": "code",
   "execution_count": 260,
   "metadata": {},
   "outputs": [
    {
     "name": "stdout",
     "output_type": "stream",
     "text": [
      "Invalid argument\n"
     ]
    }
   ],
   "source": [
    "@only_int_allow\n",
    "def add_all(*args):\n",
    "    total=0\n",
    "    for i in args:\n",
    "        total+=i\n",
    "    return total\n",
    "print(add_all(1,2,3,4,5,[1,3,4,2]))\n",
    "        "
   ]
  },
  {
   "cell_type": "code",
   "execution_count": 261,
   "metadata": {},
   "outputs": [],
   "source": [
    "from functools import wraps\n",
    "def only_int_allow(function):\n",
    "    @wraps(function)\n",
    "    def wrapper(*args,**kwargs):\n",
    "        if all([type(arg)==int for arg in args]):\n",
    "            return function(*args,**kwargs)  \n",
    "#         data_types=[]\n",
    "#         for arg in args:\n",
    "#             data_types.append(type(arg)==int)\n",
    "#         if all(data_types):\n",
    "#             return function(*args,**kwargs)\n",
    "#         else:\n",
    "#             return \"Invalid argument\"\n",
    "    return wrapper"
   ]
  },
  {
   "cell_type": "code",
   "execution_count": 262,
   "metadata": {},
   "outputs": [
    {
     "name": "stdout",
     "output_type": "stream",
     "text": [
      "15\n"
     ]
    }
   ],
   "source": [
    "@only_int_allow\n",
    "def add_all(*args):\n",
    "    total=0\n",
    "    for i in args:\n",
    "        total+=i\n",
    "    return total\n",
    "print(add_all(1,2,3,4,5))\n",
    "        "
   ]
  },
  {
   "cell_type": "markdown",
   "metadata": {},
   "source": [
    "Generator Function"
   ]
  },
  {
   "cell_type": "code",
   "execution_count": 263,
   "metadata": {},
   "outputs": [
    {
     "name": "stdout",
     "output_type": "stream",
     "text": [
      "11.346755266189575\n"
     ]
    }
   ],
   "source": [
    "# list\n",
    "import time\n",
    "t1=time.time()\n",
    "l=[i**2 for i in range(10000000)]\n",
    "print(time.time()-t1)"
   ]
  },
  {
   "cell_type": "code",
   "execution_count": 264,
   "metadata": {},
   "outputs": [
    {
     "name": "stdout",
     "output_type": "stream",
     "text": [
      "0.9265029430389404\n"
     ]
    }
   ],
   "source": [
    "# Generator\n",
    "import time\n",
    "t1=time.time()\n",
    "l=(i**2 for i in range(10000000))\n",
    "print(time.time()-t1)"
   ]
  },
  {
   "cell_type": "code",
   "execution_count": 265,
   "metadata": {},
   "outputs": [
    {
     "data": {
      "text/plain": [
       "<generator object even_generator at 0x0000020085B9A8B8>"
      ]
     },
     "execution_count": 265,
     "metadata": {},
     "output_type": "execute_result"
    }
   ],
   "source": [
    "def even_generator(n):\n",
    "    for i in range(2,n+1):\n",
    "        yield i\n",
    "even_generator(10)"
   ]
  },
  {
   "cell_type": "code",
   "execution_count": 266,
   "metadata": {},
   "outputs": [
    {
     "name": "stdout",
     "output_type": "stream",
     "text": [
      "2\n",
      "3\n",
      "4\n",
      "5\n",
      "6\n",
      "7\n",
      "8\n",
      "9\n",
      "10\n"
     ]
    }
   ],
   "source": [
    "even_num=even_generator(10)\n",
    "for i in even_num:\n",
    "    print(i)"
   ]
  },
  {
   "cell_type": "markdown",
   "metadata": {},
   "source": [
    "# Object Oriented Programming (OOP)"
   ]
  },
  {
   "cell_type": "code",
   "execution_count": 267,
   "metadata": {},
   "outputs": [],
   "source": [
    "class Person:\n",
    "    def __init__(self,first_name,last_name,age):\n",
    "#         instance variable\n",
    "        self.first_name=first_name\n",
    "        self.last_name=last_name\n",
    "        self.age=age\n",
    "p1=Person(\"krishna\",\"kumar\",18)\n",
    "p2=Person(\"mohit\",\"patal\",24)"
   ]
  },
  {
   "cell_type": "code",
   "execution_count": 269,
   "metadata": {},
   "outputs": [
    {
     "name": "stdout",
     "output_type": "stream",
     "text": [
      "krishna\n",
      "mohit\n"
     ]
    }
   ],
   "source": [
    "print(p1.first_name)\n",
    "print(p2.first_name)"
   ]
  },
  {
   "cell_type": "code",
   "execution_count": 270,
   "metadata": {},
   "outputs": [
    {
     "name": "stdout",
     "output_type": "stream",
     "text": [
      "hp\n"
     ]
    }
   ],
   "source": [
    "class Laptop:\n",
    "    def __init__(self,brand_name,model_name,price):\n",
    "        \n",
    "        self.brand_name=brand_name\n",
    "        self.model_name=model_name\n",
    "        self.price=price\n",
    "p1=Laptop(\"hp\",\"2000\",30000)\n",
    "print(p1.brand_name)"
   ]
  },
  {
   "cell_type": "code",
   "execution_count": 281,
   "metadata": {},
   "outputs": [
    {
     "name": "stdout",
     "output_type": "stream",
     "text": [
      "207000.0\n"
     ]
    }
   ],
   "source": [
    "class Laptop:\n",
    "    def __init__(self,brand_name,model_name,price):\n",
    "        \n",
    "        self.brand_name=brand_name\n",
    "        self.model_name=model_name\n",
    "        self.price=price\n",
    "\n",
    "\n",
    "\n",
    "    def apply_discount(self,num):\n",
    "        off_price=(num/100)*self.price\n",
    "        return self.price-off_price\n",
    "laptop1=Laptop(\"hp\",\"2000\",30000)\n",
    "laptop2=Laptop(\"apple\",\"mac bookpro\",230000)\n",
    "print(laptop2.apply_discount(10))"
   ]
  },
  {
   "cell_type": "code",
   "execution_count": 282,
   "metadata": {},
   "outputs": [
    {
     "data": {
      "text/plain": [
       "{'brand_name': 'apple', 'model_name': 'mac bookpro', 'price': 230000}"
      ]
     },
     "execution_count": 282,
     "metadata": {},
     "output_type": "execute_result"
    }
   ],
   "source": [
    "laptop2.__dict__"
   ]
  },
  {
   "cell_type": "code",
   "execution_count": 283,
   "metadata": {},
   "outputs": [
    {
     "data": {
      "text/plain": [
       "{'brand_name': 'apple',\n",
       " 'model_name': 'mac bookpro',\n",
       " 'price': 230000,\n",
       " 'discount_percent': 50}"
      ]
     },
     "execution_count": 283,
     "metadata": {},
     "output_type": "execute_result"
    }
   ],
   "source": [
    "laptop2.discount_percent=50\n",
    "laptop2.__dict__"
   ]
  },
  {
   "cell_type": "code",
   "execution_count": 288,
   "metadata": {},
   "outputs": [
    {
     "name": "stdout",
     "output_type": "stream",
     "text": [
      "115000.0\n"
     ]
    }
   ],
   "source": [
    "class Laptop:\n",
    "    def __init__(self,brand_name,model_name,price):\n",
    "        \n",
    "        self.brand_name=brand_name\n",
    "        self.model_name=model_name\n",
    "        self.price=price\n",
    "\n",
    "\n",
    "\n",
    "    def apply_discount(self):\n",
    "        off_price=(self.discount_percent/100)*self.price\n",
    "        return self.price-off_price\n",
    "laptop1=Laptop(\"hp\",\"2000\",30000)\n",
    "laptop2=Laptop(\"apple\",\"mac bookpro\",230000)\n",
    "# print(laptop2.apply_discount(10))\n",
    "laptop2.discount_percent=50\n",
    "laptop2.__dict__\n",
    "print(laptop2.apply_discount())"
   ]
  },
  {
   "cell_type": "code",
   "execution_count": 290,
   "metadata": {},
   "outputs": [
    {
     "name": "stdout",
     "output_type": "stream",
     "text": [
      "27000.0\n"
     ]
    }
   ],
   "source": [
    "class Laptop:\n",
    "    discount_percent=10\n",
    "    def __init__(self,brand_name,model_name,price):\n",
    "        \n",
    "        self.brand_name=brand_name\n",
    "        self.model_name=model_name\n",
    "        self.price=price\n",
    "\n",
    "\n",
    "\n",
    "    def apply_discount(self):\n",
    "        off_price=(Laptop.discount_percent/100)*self.price\n",
    "        return self.price-off_price\n",
    "laptop1=Laptop(\"hp\",\"2000\",30000)\n",
    "laptop2=Laptop(\"apple\",\"mac bookpro\",230000)\n",
    "# print(laptop2.apply_discount(10))\n",
    "# laptop2.discount_percent=50\n",
    "laptop2.__dict__\n",
    "print(laptop1.apply_discount())"
   ]
  },
  {
   "cell_type": "code",
   "execution_count": 292,
   "metadata": {},
   "outputs": [
    {
     "name": "stdout",
     "output_type": "stream",
     "text": [
      "2\n"
     ]
    }
   ],
   "source": [
    "class Person:\n",
    "    count_instance=0\n",
    "    def __init__(self,first_name,last_name,age):\n",
    "        Person.count_instance+=1\n",
    "        self.first_name=first_name\n",
    "        self.last_name=last_name\n",
    "        self.age=age\n",
    "p1=Person(\"krishna\",\"kumar\",18)\n",
    "p2=Person(\"krishna\",\"kumar\",18)\n",
    "# p3=Person(\"krishna\",\"kumar\",18)\n",
    "print(Person.count_instance)"
   ]
  },
  {
   "cell_type": "code",
   "execution_count": 296,
   "metadata": {},
   "outputs": [
    {
     "name": "stdout",
     "output_type": "stream",
     "text": [
      "Enter Your age : seven\n"
     ]
    },
    {
     "ename": "NameError",
     "evalue": "name 'valueError' is not defined",
     "output_type": "error",
     "traceback": [
      "\u001b[1;31m---------------------------------------------------------------------------\u001b[0m",
      "\u001b[1;31mValueError\u001b[0m                                Traceback (most recent call last)",
      "\u001b[1;32m<ipython-input-296-d7ac18d4919c>\u001b[0m in \u001b[0;36m<module>\u001b[1;34m\u001b[0m\n\u001b[0;32m      4\u001b[0m     \u001b[1;32mtry\u001b[0m\u001b[1;33m:\u001b[0m\u001b[1;33m\u001b[0m\u001b[1;33m\u001b[0m\u001b[0m\n\u001b[1;32m----> 5\u001b[1;33m         \u001b[0mage\u001b[0m\u001b[1;33m=\u001b[0m\u001b[0mint\u001b[0m\u001b[1;33m(\u001b[0m\u001b[0minput\u001b[0m\u001b[1;33m(\u001b[0m\u001b[1;34m\"Enter Your age : \"\u001b[0m\u001b[1;33m)\u001b[0m\u001b[1;33m)\u001b[0m\u001b[1;33m\u001b[0m\u001b[1;33m\u001b[0m\u001b[0m\n\u001b[0m\u001b[0;32m      6\u001b[0m         \u001b[1;32mbreak\u001b[0m\u001b[1;33m\u001b[0m\u001b[1;33m\u001b[0m\u001b[0m\n",
      "\u001b[1;31mValueError\u001b[0m: invalid literal for int() with base 10: 'seven'",
      "\nDuring handling of the above exception, another exception occurred:\n",
      "\u001b[1;31mNameError\u001b[0m                                 Traceback (most recent call last)",
      "\u001b[1;32m<ipython-input-296-d7ac18d4919c>\u001b[0m in \u001b[0;36m<module>\u001b[1;34m\u001b[0m\n\u001b[0;32m      5\u001b[0m         \u001b[0mage\u001b[0m\u001b[1;33m=\u001b[0m\u001b[0mint\u001b[0m\u001b[1;33m(\u001b[0m\u001b[0minput\u001b[0m\u001b[1;33m(\u001b[0m\u001b[1;34m\"Enter Your age : \"\u001b[0m\u001b[1;33m)\u001b[0m\u001b[1;33m)\u001b[0m\u001b[1;33m\u001b[0m\u001b[1;33m\u001b[0m\u001b[0m\n\u001b[0;32m      6\u001b[0m         \u001b[1;32mbreak\u001b[0m\u001b[1;33m\u001b[0m\u001b[1;33m\u001b[0m\u001b[0m\n\u001b[1;32m----> 7\u001b[1;33m     \u001b[1;32mexcept\u001b[0m \u001b[0mvalueError\u001b[0m\u001b[1;33m:\u001b[0m\u001b[1;33m\u001b[0m\u001b[1;33m\u001b[0m\u001b[0m\n\u001b[0m\u001b[0;32m      8\u001b[0m         \u001b[0mprint\u001b[0m\u001b[1;33m(\u001b[0m\u001b[1;34m\"Invalid input......\"\u001b[0m\u001b[1;33m)\u001b[0m\u001b[1;33m\u001b[0m\u001b[1;33m\u001b[0m\u001b[0m\n\u001b[0;32m      9\u001b[0m \u001b[1;32mif\u001b[0m \u001b[0mage\u001b[0m\u001b[1;33m<\u001b[0m\u001b[1;36m18\u001b[0m\u001b[1;33m:\u001b[0m\u001b[1;33m\u001b[0m\u001b[1;33m\u001b[0m\u001b[0m\n",
      "\u001b[1;31mNameError\u001b[0m: name 'valueError' is not defined"
     ]
    }
   ],
   "source": [
    "# Exception handling\n",
    "# try except else finally\n",
    "while True:\n",
    "    try:\n",
    "        age=int(input(\"Enter Your age : \"))\n",
    "        break\n",
    "    except valueError:\n",
    "        print(\"Invalid input......\")\n",
    "if age<18:\n",
    "    print(\"you can\\'t play the game\")\n",
    "else:\n",
    "    print(\"you can play the game\")"
   ]
  },
  {
   "cell_type": "code",
   "execution_count": 298,
   "metadata": {},
   "outputs": [
    {
     "ename": "SyntaxError",
     "evalue": "invalid syntax (<ipython-input-298-94932baa039f>, line 6)",
     "output_type": "error",
     "traceback": [
      "\u001b[1;36m  File \u001b[1;32m\"<ipython-input-298-94932baa039f>\"\u001b[1;36m, line \u001b[1;32m6\u001b[0m\n\u001b[1;33m    except TypeError\u001b[0m\n\u001b[1;37m                    ^\u001b[0m\n\u001b[1;31mSyntaxError\u001b[0m\u001b[1;31m:\u001b[0m invalid syntax\n"
     ]
    }
   ],
   "source": [
    "def divide(a,b):\n",
    "    try:\n",
    "        return a/b\n",
    "    except ZeroDivisionError as err:\n",
    "        print(err)\n",
    "    except TypeError\n",
    "# print(divide(10,\"2\"))"
   ]
  },
  {
   "cell_type": "code",
   "execution_count": null,
   "metadata": {},
   "outputs": [],
   "source": [
    "import pdb"
   ]
  },
  {
   "cell_type": "code",
   "execution_count": null,
   "metadata": {},
   "outputs": [],
   "source": [
    "'''\n",
    "Control the automatic calling of the pdb interactive debugger.\n",
    "\n",
    "Call as '%pdb on', '%pdb 1', '%pdb off' or '%pdb 0'. If called without\n",
    "argument it works as a toggle.\n",
    "\n",
    "When an exception is triggered, IPython can optionally call the\n",
    "interactive pdb debugger after the traceback printout. %pdb toggles\n",
    "this feature on and off.\n",
    "\n",
    "The initial state of this feature is set in your configuration\n",
    "file (the option is ``InteractiveShell.pdb``).\n",
    "\n",
    "If you want to just activate the debugger AFTER an exception has fired,\n",
    "without having to type '%pdb on' and rerunning your code, you can use\n",
    "the %debug magic.\n",
    "'''"
   ]
  },
  {
   "cell_type": "code",
   "execution_count": 302,
   "metadata": {},
   "outputs": [
    {
     "name": "stdout",
     "output_type": "stream",
     "text": [
      "--Return--\n",
      "> <ipython-input-302-b1e8023a1357>(3)<module>()->None\n",
      "-> pdb.set_trace()\n",
      "(Pdb) l\n",
      "  1  \timport pdb\n",
      "  2  \t# use l(showing list of pdb),c(contuine pdb),q(quite pdb)\n",
      "  3  ->\tpdb.set_trace()\n",
      "  4  \tname=input(\"please type your name : \")\n",
      "  5  \tage=input(\"Please type your age : \")\n",
      "  6  \tprint(f\" Hello {name} your age is {age}\")\n",
      "  7  \tage2=age+5\n",
      "  8  \tprint(f\"{name} you will be {age2} in the next 5 years\")\n",
      "[EOF]\n",
      "(Pdb) name\n",
      "'krishna  '\n",
      "(Pdb) age\n",
      "19\n",
      "(Pdb) c\n",
      "please type your name : krishna \n",
      "Please type your age : 19\n",
      " Hello krishna  your age is 19\n"
     ]
    },
    {
     "ename": "TypeError",
     "evalue": "can only concatenate str (not \"int\") to str",
     "output_type": "error",
     "traceback": [
      "\u001b[1;31m---------------------------------------------------------------------------\u001b[0m",
      "\u001b[1;31mTypeError\u001b[0m                                 Traceback (most recent call last)",
      "\u001b[1;32m<ipython-input-302-b1e8023a1357>\u001b[0m in \u001b[0;36m<module>\u001b[1;34m\u001b[0m\n\u001b[0;32m      5\u001b[0m \u001b[0mage\u001b[0m\u001b[1;33m=\u001b[0m\u001b[0minput\u001b[0m\u001b[1;33m(\u001b[0m\u001b[1;34m\"Please type your age : \"\u001b[0m\u001b[1;33m)\u001b[0m\u001b[1;33m\u001b[0m\u001b[1;33m\u001b[0m\u001b[0m\n\u001b[0;32m      6\u001b[0m \u001b[0mprint\u001b[0m\u001b[1;33m(\u001b[0m\u001b[1;34mf\" Hello {name} your age is {age}\"\u001b[0m\u001b[1;33m)\u001b[0m\u001b[1;33m\u001b[0m\u001b[1;33m\u001b[0m\u001b[0m\n\u001b[1;32m----> 7\u001b[1;33m \u001b[0mage2\u001b[0m\u001b[1;33m=\u001b[0m\u001b[0mage\u001b[0m\u001b[1;33m+\u001b[0m\u001b[1;36m5\u001b[0m\u001b[1;33m\u001b[0m\u001b[1;33m\u001b[0m\u001b[0m\n\u001b[0m\u001b[0;32m      8\u001b[0m \u001b[0mprint\u001b[0m\u001b[1;33m(\u001b[0m\u001b[1;34mf\"{name} you will be {age2} in the next 5 years\"\u001b[0m\u001b[1;33m)\u001b[0m\u001b[1;33m\u001b[0m\u001b[1;33m\u001b[0m\u001b[0m\n",
      "\u001b[1;31mTypeError\u001b[0m: can only concatenate str (not \"int\") to str"
     ]
    }
   ],
   "source": [
    "import pdb       \n",
    "# use l(showing list of pdb),c(contuine pdb),q(quite pdb)\n",
    "pdb.set_trace()\n",
    "name=input(\"please type your name : \")\n",
    "age=input(\"Please type your age : \")\n",
    "print(f\" Hello {name} your age is {age}\")\n",
    "age2=age+5\n",
    "print(f\"{name} you will be {age2} in the next 5 years\")"
   ]
  },
  {
   "cell_type": "code",
   "execution_count": 308,
   "metadata": {},
   "outputs": [
    {
     "name": "stdout",
     "output_type": "stream",
     "text": [
      "cursor position-0\n",
      "the Mahatma Gandhi, in the temple in your vicinity.\n",
      " After its attempt to install Godse statues at few \n",
      "identified places in Uttar Pradesh was foiled by the State Police,\n",
      " the Hindu Mahasabha plans to install them in the premises of temples across India.\n",
      "The Hindutva outfit is in touch with saints and temple trusts which supervise \n",
      "hundreds of temples, assured it of their support. At present the outfit is quite\n",
      " determined but tight upped about how it plans to install statue of Nathuram Godse\n",
      " on January 30, the day Godse shot dead Mahatma Gandhi. The Hindutva outfit has\n",
      " decided not to publicise its programmes of the installation of the statue after\n",
      " it felt \"too much media coverage\" became an \"obstacle\" in its work.\n",
      "After its public announcement to build a temple for Godse in Sitapur district\n",
      " and install a Godse statue at an identified place in Meerut, the Uttar \n",
      "Pradesh police sealed the two places. While treating the issue as serious\n",
      " problem for law and order the State police also plans to invoke section\n",
      " 144 of the IPC at the two places.\n",
      "As per the revised strategy, the outfit will first install Godse statue\n",
      " across the country and will then inform the media in order to avoid\n",
      " possible crackdowns by the Uttar Pradesh government and possible roadblocks\n",
      " posed by the other State government in the country. UP because According\n",
      " to senior functionaries of the Hindutva group, they met several group of\n",
      " saints during the recently concluded \"Magh Kumbh mela\" in Allahabad.\n",
      " \"After we announced about our plans the government sealed the place.\n",
      " We don't want unnecessary attention. We would rather focus on competing\n",
      " the job at hand,\" he told this correspondent.\n",
      "According to a senior Hindu Mahasabha leader who didn't want to be quoted\n",
      " because of the sensitivity of the issue, Godse statue might soon be seen \n",
      "within temple premises across the country -- to start with, in temples\n",
      " in the Hindi speaking States like Madhya Pradesh.2010\n",
      "cursor position-1988\n"
     ]
    }
   ],
   "source": [
    "p=open(\"C:\\\\Users\\\\hp\\\\Desktop\\\\file.txt.txt\")\n",
    "print(f\"cursor position-{p.tell()}\")\n",
    "print(p.read())\n",
    "print(f\"cursor position-{p.tell()}\")\n",
    "p.close()"
   ]
  },
  {
   "cell_type": "code",
   "execution_count": 312,
   "metadata": {},
   "outputs": [
    {
     "name": "stdout",
     "output_type": "stream",
     "text": [
      "the Mahatma Gandhi, in the temple in your vicinity.\n",
      " After its attempt to install Godse statues at few \n",
      "identified places in Uttar Pradesh was foiled by the State Police,\n",
      "\n",
      " the Hindu Mahasabha plans to install them in the premises of temples across India.\n",
      "\n"
     ]
    }
   ],
   "source": [
    "f=open(\"C:\\\\Users\\\\hp\\\\Desktop\\\\file.txt.txt\")\n",
    "print(f.readline(),end=\"\")\n",
    "print(f.readline(),end=\"\")\n",
    "print(f.readline())\n",
    "print(f.readline())\n",
    "\n"
   ]
  },
  {
   "cell_type": "code",
   "execution_count": 314,
   "metadata": {},
   "outputs": [
    {
     "name": "stdout",
     "output_type": "stream",
     "text": [
      "0\n"
     ]
    }
   ],
   "source": [
    "print(len(f.readlines()))"
   ]
  },
  {
   "cell_type": "code",
   "execution_count": 317,
   "metadata": {},
   "outputs": [],
   "source": [
    "a=open(r\"C:\\Users\\hp\\Desktop\\file.txt.txt\")"
   ]
  },
  {
   "cell_type": "code",
   "execution_count": 318,
   "metadata": {},
   "outputs": [
    {
     "name": "stdout",
     "output_type": "stream",
     "text": [
      "the Mahatma Gandhi, in the temple in your vicinity.\n",
      " After its attempt to install Godse statues at few \n",
      "identified places in Uttar Pradesh was foiled by the State Police,\n",
      " the Hindu Mahasabha plans to install them in the premises of temples across India.\n",
      "The Hindutva outfit is in touch with saints and temple trusts which supervise \n",
      "hundreds of temples, assured it of their support. At present the outfit is quite\n",
      " determined but tight upped about how it plans to install statue of Nathuram Godse\n",
      " on January 30, the day Godse shot dead Mahatma Gandhi. The Hindutva outfit has\n",
      " decided not to publicise its programmes of the installation of the statue after\n",
      " it felt \"too much media coverage\" became an \"obstacle\" in its work.\n",
      "After its public announcement to build a temple for Godse in Sitapur district\n",
      " and install a Godse statue at an identified place in Meerut, the Uttar \n",
      "Pradesh police sealed the two places. While treating the issue as serious\n",
      " problem for law and order the State police also plans to invoke section\n",
      " 144 of the IPC at the two places.\n",
      "As per the revised strategy, the outfit will first install Godse statue\n",
      " across the country and will then inform the media in order to avoid\n",
      " possible crackdowns by the Uttar Pradesh government and possible roadblocks\n",
      " posed by the other State government in the country. UP because According\n",
      " to senior functionaries of the Hindutva group, they met several group of\n",
      " saints during the recently concluded \"Magh Kumbh mela\" in Allahabad.\n",
      " \"After we announced about our plans the government sealed the place.\n",
      " We don't want unnecessary attention. We would rather focus on competing\n",
      " the job at hand,\" he told this correspondent.\n",
      "According to a senior Hindu Mahasabha leader who didn't want to be quoted\n",
      " because of the sensitivity of the issue, Godse statue might soon be seen \n",
      "within temple premises across the country -- to start with, in temples\n",
      " in the Hindi speaking States like Madhya Pradesh.2010\n"
     ]
    }
   ],
   "source": [
    "with open(r\"C:\\Users\\hp\\Desktop\\file.txt.txt\") as a:\n",
    "    data=a.read()\n",
    "    print(data)"
   ]
  },
  {
   "cell_type": "code",
   "execution_count": 1,
   "metadata": {},
   "outputs": [
    {
     "name": "stdout",
     "output_type": "stream",
     "text": [
      "Enter a number : 5\n",
      "Enter 2nd number : 6\n",
      " Sum of these two numbers 11\n",
      " This line is very important\n"
     ]
    }
   ],
   "source": [
    "num1 = input(\"Enter a number : \")\n",
    "num2 = input(\"Enter 2nd number : \")\n",
    "try:\n",
    "    print(\" Sum of these two numbers\" , int(num1)+int(num2))\n",
    "except Exception as e:\n",
    "    print(e)\n",
    "print(\" This line is very important\")"
   ]
  },
  {
   "cell_type": "code",
   "execution_count": 9,
   "metadata": {},
   "outputs": [
    {
     "name": "stdout",
     "output_type": "stream",
     "text": [
      "the Mahatma Gandhi, in the temple in your vicinity.\n",
      " After its attempt to install Godse statues at few \n",
      "identified places in Uttar Pradesh was foiled by the State Police,\n",
      " the Hindu Mahasabha plans to install them in the premises of temples across India.\n",
      "The Hindutva outfit is in touch with saints and temple trusts which supervise \n",
      "hundreds of temples, assured it of their support. At present the outfit is quite\n",
      " determined but tight upped about how it plans to install statue of Nathuram Godse\n",
      " on January 30, the day Godse shot dead Mahatma Gandhi. The Hindutva outfit has\n",
      " decided not to publicise its programmes of the installation of the statue after\n",
      " it felt \"too much media coverage\" became an \"obstacle\" in its work.\n",
      "After its public announcement to build a temple for Godse in Sitapur district\n",
      " and install a Godse statue at an identified place in Meerut, the Uttar \n",
      "Pradesh police sealed the two places. While treating the issue as serious\n",
      " problem for law and order the State police also plans to invoke section\n",
      " 144 of the IPC at the two places.\n",
      "As per the revised strategy, the outfit will first install Godse statue\n",
      " across the country and will then inform the media in order to avoid\n",
      " possible crackdowns by the Uttar Pradesh government and possible roadblocks\n",
      " posed by the other State government in the country. UP because According\n",
      " to senior functionaries of the Hindutva group, they met several group of\n",
      " saints during the recently concluded \"Magh Kumbh mela\" in Allahabad.\n",
      " \"After we announced about our plans the government sealed the place.\n",
      " We don't want unnecessary attention. We would rather focus on competing\n",
      " the job at hand,\" he told this correspondent.\n",
      "According to a senior Hindu Mahasabha leader who didn't want to be quoted\n",
      " because of the sensitivity of the issue, Godse statue might soon be seen \n",
      "within temple premises across the country -- to start with, in temples\n",
      " in the Hindi speaking States like Madhya Pradesh.2010\n"
     ]
    }
   ],
   "source": [
    "# File IO Basic\n",
    "\"\"\"\n",
    "\"r\" - open file for reading ( default)\n",
    "\"w\" - open file for writing\n",
    "\"x\" - create files if not exists\n",
    "\"a\" - add more content to file \n",
    "\"t\" -  text mode (default)\n",
    "\"b\" - binary mode\n",
    "\"+\" - read and write\n",
    "\n",
    "\"\"\"\n",
    "\n",
    "f = open(r\"C:\\Users\\hp\\Desktop\\file.txt.txt\",\"rt\")\n",
    "content = f.read()\n",
    "print(content)\n",
    "\n",
    "f.close()"
   ]
  },
  {
   "cell_type": "code",
   "execution_count": 2,
   "metadata": {},
   "outputs": [
    {
     "data": {
      "text/plain": [
       "\"Return the sum of a 'start' value (default: 0) plus an iterable of numbers\\n\\nWhen the iterable is empty, return the start value.\\nThis function is intended specifically for use with numeric values and may\\nreject non-numeric types.\""
      ]
     },
     "execution_count": 2,
     "metadata": {},
     "output_type": "execute_result"
    }
   ],
   "source": [
    "sum.__doc__\n"
   ]
  },
  {
   "cell_type": "code",
   "execution_count": 12,
   "metadata": {},
   "outputs": [
    {
     "name": "stdout",
     "output_type": "stream",
     "text": [
      "the Mahatma Gandhi, in the temple in your vicinity.\n",
      " After its attempt to install Godse statues at few \n",
      "identified places in Uttar Pradesh was foiled by the State Police,\n",
      " the Hindu Mahasabha plans to install them in the premises of temples across India.\n",
      "The Hindutva outfit is in touch with saints and temple trusts which supervise \n",
      "hundreds of temples, assured it of their support. At present the outfit is quite\n",
      " determined but tight upped about how it plans to install statue of Nathuram Godse\n",
      " on January 30, the day Godse shot dead Mahatma Gandhi. The Hindutva outfit has\n",
      " decided not to publicise its programmes of the installation of the statue after\n",
      " it felt \"too much media coverage\" became an \"obstacle\" in its work.\n",
      "After its public announcement to build a temple for Godse in Sitapur district\n",
      " and install a Godse statue at an identified place in Meerut, the Uttar \n",
      "Pradesh police sealed the two places. While treating the issue as serious\n",
      " problem for law and order the State police also plans to invoke section\n",
      " 144 of the IPC at the two places.\n",
      "As per the revised strategy, the outfit will first install Godse statue\n",
      " across the country and will then inform the media in order to avoid\n",
      " possible crackdowns by the Uttar Pradesh government and possible roadblocks\n",
      " posed by the other State government in the country. UP because According\n",
      " to senior functionaries of the Hindutva group, they met several group of\n",
      " saints during the recently concluded \"Magh Kumbh mela\" in Allahabad.\n",
      " \"After we announced about our plans the government sealed the place.\n",
      " We don't want unnecessary attention. We would rather focus on competing\n",
      " the job at hand,\" he told this correspondent.\n",
      "According to a senior Hindu Mahasabha leader who didn't want to be quoted\n",
      " because of the sensitivity of the issue, Godse statue might soon be seen \n",
      "within temple premises across the country -- to start with, in temples\n",
      " in the Hindi speaking States like Madhya Pradesh.2010"
     ]
    }
   ],
   "source": [
    "for line in content:\n",
    "    print(line,end=\"\")\n",
    "f.close()\n"
   ]
  },
  {
   "cell_type": "code",
   "execution_count": 21,
   "metadata": {},
   "outputs": [
    {
     "name": "stdout",
     "output_type": "stream",
     "text": [
      "the Mahatma Gandhi, in the temple in your vicinity.\n",
      "\n"
     ]
    }
   ],
   "source": [
    "f = open(r\"C:\\Users\\hp\\Desktop\\file.txt.txt\",\"rt\")\n",
    "# print(f.readlines())\n",
    "print(f.readline())\n",
    "# f.close()"
   ]
  },
  {
   "cell_type": "code",
   "execution_count": 22,
   "metadata": {},
   "outputs": [
    {
     "name": "stdout",
     "output_type": "stream",
     "text": [
      " After its attempt to install Godse statues at few \n",
      "\n"
     ]
    }
   ],
   "source": [
    "print(f.readline())"
   ]
  },
  {
   "cell_type": "markdown",
   "metadata": {},
   "source": [
    "# Number guessing game\n"
   ]
  },
  {
   "cell_type": "code",
   "execution_count": 23,
   "metadata": {},
   "outputs": [
    {
     "name": "stdout",
     "output_type": "stream",
     "text": [
      "Number is guesses is limited only 9 times : \n",
      "Guess the number : \n",
      "43\n",
      "You enter greater number please input lesser number.\n",
      "\n",
      "8 No. of guesses left\n",
      "Guess the number : \n",
      "4\n",
      "You enter less number please input greater number.\n",
      "\n",
      "7 No. of guesses left\n",
      "Guess the number : \n",
      "56\n",
      "You enter greater number please input lesser number.\n",
      "\n",
      "6 No. of guesses left\n",
      "Guess the number : \n",
      "20\n",
      "You enter greater number please input lesser number.\n",
      "\n",
      "5 No. of guesses left\n",
      "Guess the number : \n",
      "19\n",
      "You enter greater number please input lesser number.\n",
      "\n",
      "4 No. of guesses left\n",
      "Guess the number : \n",
      "18\n",
      "You won\n",
      "\n",
      "6 number of guesses taken to finish.\n"
     ]
    }
   ],
   "source": [
    "# n =18\n",
    "# no of guessing = 9\n",
    "# print no of guess left \n",
    "# No guess he take to finish \n",
    "# game over\n",
    "\n",
    "# Game start\n",
    "n = 18\n",
    "number_of_guesses = 1\n",
    "print(\"Number is guesses is limited only 9 times : \")\n",
    "while (number_of_guesses<=9):\n",
    "    guess_num = int(input(\"Guess the number : \\n\"))\n",
    "    if guess_num <18:\n",
    "        print(\"You enter less number please input greater number.\\n\")\n",
    "    elif guess_num >18:\n",
    "        print(\"You enter greater number please input lesser number.\\n\")\n",
    "    else:\n",
    "        print(\"You won\\n\")\n",
    "        print(number_of_guesses,\"number of guesses taken to finish.\")\n",
    "        break\n",
    "    print(9-number_of_guesses,\"No. of guesses left\")\n",
    "    number_of_guesses = number_of_guesses+1\n",
    "if (number_of_guesses >9):\n",
    "    print(\"Game Over\")"
   ]
  },
  {
   "cell_type": "markdown",
   "metadata": {},
   "source": [
    "# pattern printing"
   ]
  },
  {
   "cell_type": "code",
   "execution_count": 53,
   "metadata": {},
   "outputs": [
    {
     "name": "stdout",
     "output_type": "stream",
     "text": [
      "\n",
      "*\n",
      "**\n",
      "***\n",
      "****\n",
      "*****\n",
      "****\n",
      "***\n",
      "**\n",
      "*\n"
     ]
    }
   ],
   "source": [
    "while True:\n",
    "    for i in range(5):\n",
    "        print(\"*\"*i)\n",
    "    \n",
    "    break\n",
    "        \n",
    "while True:\n",
    "    for i in range(5):\n",
    "        print(\"*\"*(5-i))\n",
    "    break\n",
    "    \n",
    "    "
   ]
  },
  {
   "cell_type": "code",
   "execution_count": 56,
   "metadata": {},
   "outputs": [
    {
     "name": "stdout",
     "output_type": "stream",
     "text": [
      "\n",
      "*\n",
      "**\n",
      "***\n",
      "****\n",
      "*\n"
     ]
    }
   ],
   "source": [
    "for i in range(5):\n",
    "    print(\"*\"*i)\n",
    "else:\n",
    "    print(\"*\"*(5-i))\n",
    "#     break"
   ]
  },
  {
   "cell_type": "code",
   "execution_count": 22,
   "metadata": {},
   "outputs": [
    {
     "name": "stdout",
     "output_type": "stream",
     "text": [
      "0\n",
      "0.40609690342021154\n",
      "krishna\n"
     ]
    }
   ],
   "source": [
    "import random\n",
    "random_number = random.randint(0,1)\n",
    "print(random_number)\n",
    "rand = random.random()\n",
    "print(rand)\n",
    "lst = [ \"krishna\",\"good\",\"boy\",\"Helllo\",\"world\"]\n",
    "choice = random.choice(lst)\n",
    "print(choice)\n"
   ]
  },
  {
   "cell_type": "markdown",
   "metadata": {},
   "source": [
    "## Pattern printing \n"
   ]
  },
  {
   "cell_type": "code",
   "execution_count": 35,
   "metadata": {},
   "outputs": [
    {
     "name": "stdout",
     "output_type": "stream",
     "text": [
      "How many row you want to print\n",
      "4\n",
      "Type 1 or 0\n",
      "0\n",
      "* * * * \n",
      "* * * \n",
      "* * \n",
      "* \n"
     ]
    }
   ],
   "source": [
    "print(\"How many row you want to print\")\n",
    "one = int(input())\n",
    "print(\"Type 1 or 0\")\n",
    "two = int(input())\n",
    "new = bool(two)\n",
    "if new==True:\n",
    "    for i in range(1,one+1):\n",
    "        for j in range(1, i+1):\n",
    "            print(\"*\",end=\" \")\n",
    "        print()\n",
    "elif new==False:\n",
    "    for i in range(one,0,-1):\n",
    "        for j in range(1,i+1):\n",
    "            print(\"*\", end=\" \")\n",
    "        print()"
   ]
  },
  {
   "cell_type": "code",
   "execution_count": 43,
   "metadata": {},
   "outputs": [
    {
     "name": "stdout",
     "output_type": "stream",
     "text": [
      " Enter row which you want to print : 10\n",
      "Enter you type 1 or 0 :  0\n",
      "* * * * * * * * * * \n",
      "* * * * * * * * * \n",
      "* * * * * * * * \n",
      "* * * * * * * \n",
      "* * * * * * \n",
      "* * * * * \n",
      "* * * * \n",
      "* * * \n",
      "* * \n",
      "* \n"
     ]
    }
   ],
   "source": [
    "choice = int(input(\" Enter row which you want to print : \"))\n",
    "pattern_choice = int(input(\"Enter you type 1 or 0 :  \"))\n",
    "if pattern_choice==1:\n",
    "    for i in range(1,choice+1):\n",
    "        print(\"* \"*i)\n",
    "elif pattern_choice==0:\n",
    "    for i in range(choice,0,-1):\n",
    "        print(\"* \"*i)\n",
    "        "
   ]
  },
  {
   "cell_type": "code",
   "execution_count": 47,
   "metadata": {},
   "outputs": [
    {
     "name": "stdout",
     "output_type": "stream",
     "text": [
      "Enter No. of row : 4\n",
      "Enter Pattern(0 or 1) : 1\n",
      " Invalid Input !!!\n"
     ]
    }
   ],
   "source": [
    "try:\n",
    "    n = int(input(\"Enter No. of row : \"))\n",
    "    b = int(input(\"Enter Pattern(0 or 1) : \"))\n",
    "    if b in 0:\n",
    "        count = 0\n",
    "        while(count<=n):\n",
    "            print(\"*\"*count,end=\"\")\n",
    "            print(\"\\n\",end=\"\")\n",
    "            count += 1\n",
    "            continue\n",
    "    elif b is 1:\n",
    "        count = n\n",
    "        while(count !=0):\n",
    "            print(\"*\"*count, end=\"\")\n",
    "            print(\"\\n\", end = \"\")\n",
    "            count += -1\n",
    "            continue\n",
    "    else:\n",
    "        print(\" Invalid pattern !!!\")\n",
    "except Exception as e:\n",
    "    print(\" Invalid Input !!!\")"
   ]
  },
  {
   "cell_type": "code",
   "execution_count": 59,
   "metadata": {},
   "outputs": [
    {
     "name": "stdout",
     "output_type": "stream",
     "text": [
      " I am co-founder of this company and I am going to show some of my staff and helper detail.\n",
      "krishna\n",
      "rohan\n",
      "rohit\n",
      "mukesh\n",
      "\n",
      " Now I am going to introduce my staff and helper\n",
      "krihsna is a Data scientist.\n",
      " rohan is a Teacher.\n",
      "rohit is a police.\n",
      "mukesh is a poilt.\n"
     ]
    }
   ],
   "source": [
    "def argument(normal,*arg,**kwrg):\n",
    "    print(normal)\n",
    "    for item in arg:\n",
    "        print(item)\n",
    "    print(\"\\n Now I am going to introduce my staff and helper\")\n",
    "    for key,value in kwarg.items():\n",
    "        print(f\"{key} is a {value}.\")\n",
    "              \n",
    "arg = ['krishna', \"rohan\",\"rohit\",\"mukesh\"]\n",
    "kwarg = { \"krihsna\":\"Data scientist\" , \" rohan\":\"Teacher\",\"rohit\":\"police\",\"mukesh\":\"poilt\"}\n",
    "normal = \" I am co-founder of this company and I am going to show some of my staff and helper detail.\"\n",
    "argument(normal,*arg,**kwarg)\n"
   ]
  },
  {
   "cell_type": "code",
   "execution_count": 64,
   "metadata": {},
   "outputs": [
    {
     "name": "stdout",
     "output_type": "stream",
     "text": [
      "Wed Apr 21 15:10:21 2021\n",
      "time.struct_time(tm_year=2021, tm_mon=4, tm_mday=21, tm_hour=15, tm_min=10, tm_sec=21, tm_wday=2, tm_yday=111, tm_isdst=0)\n",
      "1618998021.7893662\n",
      "time.struct_time(tm_year=2021, tm_mon=4, tm_mday=21, tm_hour=15, tm_min=10, tm_sec=21, tm_wday=2, tm_yday=111, tm_isdst=0)\n"
     ]
    }
   ],
   "source": [
    "import time \n",
    "import datetime\n",
    "current_time = time.asctime(time.localtime(time.time()))\n",
    "print(current_time)\n",
    "current_time1 =time.localtime()\n",
    "print(current_time1)\n",
    "print(time.time())\n",
    "print(time.localtime(time.time()))"
   ]
  },
  {
   "cell_type": "code",
   "execution_count": null,
   "metadata": {},
   "outputs": [],
   "source": []
  }
 ],
 "metadata": {
  "kernelspec": {
   "display_name": "Python 3",
   "language": "python",
   "name": "python3"
  },
  "language_info": {
   "codemirror_mode": {
    "name": "ipython",
    "version": 3
   },
   "file_extension": ".py",
   "mimetype": "text/x-python",
   "name": "python",
   "nbconvert_exporter": "python",
   "pygments_lexer": "ipython3",
   "version": "3.7.3"
  }
 },
 "nbformat": 4,
 "nbformat_minor": 2
}
